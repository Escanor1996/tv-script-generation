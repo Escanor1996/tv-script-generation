{
  "nbformat": 4,
  "nbformat_minor": 0,
  "metadata": {
    "colab": {
      "name": "dlnd_tv_script_generation.ipynb",
      "version": "0.3.2",
      "provenance": [],
      "collapsed_sections": [],
      "toc_visible": true
    },
    "kernelspec": {
      "name": "python3",
      "display_name": "Python 3"
    },
    "accelerator": "GPU"
  },
  "cells": [
    {
      "metadata": {
        "id": "uaihzijPZShi",
        "colab_type": "text"
      },
      "cell_type": "markdown",
      "source": [
        ""
      ]
    },
    {
      "metadata": {
        "id": "LIusHDj7Ucjj",
        "colab_type": "text"
      },
      "cell_type": "markdown",
      "source": [
        "# TV Script Generation\n",
        "\n",
        "In this project, you'll generate your own [Seinfeld](https://en.wikipedia.org/wiki/Seinfeld) TV scripts using RNNs.  You'll be using part of the [Seinfeld dataset](https://www.kaggle.com/thec03u5/seinfeld-chronicles#scripts.csv) of scripts from 9 seasons.  The Neural Network you'll build will generate a new ,\"fake\" TV script, based on patterns it recognizes in this training data.\n",
        "\n",
        "## Get the Data\n",
        "\n",
        "The data is already provided for you in `./data/Seinfeld_Scripts.txt` and you're encouraged to open that file and look at the text. \n",
        ">* As a first step, we'll load in this data and look at some samples. \n",
        "* Then, you'll be tasked with defining and training an RNN to generate a new script!"
      ]
    },
    {
      "metadata": {
        "id": "naWTRUYwUcjk",
        "colab_type": "code",
        "colab": {}
      },
      "cell_type": "code",
      "source": [
        "import os\n",
        "import pickle\n",
        "import torch\n",
        "\n",
        "\n",
        "SPECIAL_WORDS = {'PADDING': '<PAD>'}\n",
        "\n",
        "\n",
        "def load_data(path):\n",
        "    \"\"\"\n",
        "    Load Dataset from File\n",
        "    \"\"\"\n",
        "    input_file = os.path.join(path)\n",
        "    #with open(input_file, \"r\") as f:\n",
        "     #   data = f.read()\n",
        "    import codecs\n",
        "    with codecs.open(input_file, 'r', encoding='utf-8',errors='ignore') as fdata:\n",
        "      data = fdata.read()\n",
        "      \n",
        "\n",
        "    return data\n",
        "\n",
        "\n",
        "def preprocess_and_save_data(dataset_path, token_lookup, create_lookup_tables):\n",
        "    \"\"\"\n",
        "    Preprocess Text Data\n",
        "    \"\"\"\n",
        "    text = load_data(dataset_path)\n",
        "    \n",
        "    # Ignore notice, since we don't use it for analysing the data\n",
        "    text = text[81:]\n",
        "\n",
        "    token_dict = token_lookup()\n",
        "    for key, token in token_dict.items():\n",
        "        text = text.replace(key, ' {} '.format(token))\n",
        "\n",
        "    text = text.lower()\n",
        "    text = text.split()\n",
        "\n",
        "    vocab_to_int, int_to_vocab = create_lookup_tables(text + list(SPECIAL_WORDS.values()))\n",
        "    int_text = [vocab_to_int[word] for word in text]\n",
        "    pickle.dump((int_text, vocab_to_int, int_to_vocab, token_dict), open('preprocess.p', 'wb'))\n",
        "\n",
        "\n",
        "def load_preprocess():\n",
        "    \"\"\"\n",
        "    Load the Preprocessed Training data and return them in batches of <batch_size> or less\n",
        "    \"\"\"\n",
        "    return pickle.load(open('preprocess.p', mode='rb'))\n",
        "\n",
        "\n",
        "def save_model(filename, decoder):\n",
        "    save_filename = os.path.splitext(os.path.basename(filename))[0] + '.pt'\n",
        "    torch.save(decoder, save_filename)\n",
        "\n",
        "\n",
        "def load_model(filename):\n",
        "    save_filename = os.path.splitext(os.path.basename(filename))[0] + '.pt'\n",
        "    return torch.load(save_filename)\n"
      ],
      "execution_count": 0,
      "outputs": []
    },
    {
      "metadata": {
        "id": "dL293DTlZkqG",
        "colab_type": "code",
        "colab": {}
      },
      "cell_type": "code",
      "source": [
        "\"\"\"\n",
        "DON'T MODIFY ANYTHING IN THIS CELL\n",
        "\"\"\"\n",
        "# load in data\n",
        "import helper\n",
        "data_dir = './friends_scripts.txt'\n",
        "text = load_data(data_dir)"
      ],
      "execution_count": 0,
      "outputs": []
    },
    {
      "metadata": {
        "id": "NM89DDASUcjo",
        "colab_type": "text"
      },
      "cell_type": "markdown",
      "source": [
        "## Explore the Data\n",
        "Play around with `view_line_range` to view different parts of the data. This will give you a sense of the data you'll be working with. You can see, for example, that it is all lowercase text, and each new line of dialogue is separated by a newline character `\\n`."
      ]
    },
    {
      "metadata": {
        "scrolled": true,
        "id": "4EtteSKoUcjp",
        "colab_type": "code",
        "outputId": "ca350c17-3fc4-469c-fe3d-4c3f71fbf407",
        "colab": {
          "base_uri": "https://localhost:8080/",
          "height": 289
        }
      },
      "cell_type": "code",
      "source": [
        "view_line_range = (0, 10)\n",
        "\n",
        "\"\"\"\n",
        "DON'T MODIFY ANYTHING IN THIS CELL THAT IS BELOW THIS LINE\n",
        "\"\"\"\n",
        "import numpy as np\n",
        "\n",
        "print('Dataset Stats')\n",
        "print('Roughly the number of unique words: {}'.format(len({word: None for word in text.split()})))\n",
        "\n",
        "lines = text.split('\\n')\n",
        "print('Number of lines: {}'.format(len(lines)))\n",
        "word_count_line = [len(line.split()) for line in lines]\n",
        "print('Average number of words in each line: {}'.format(np.average(word_count_line)))\n",
        "\n",
        "print()\n",
        "print('The lines {} to {}:'.format(*view_line_range))\n",
        "print('\\n'.join(text.split('\\n')[view_line_range[0]:view_line_range[1]]))"
      ],
      "execution_count": 3,
      "outputs": [
        {
          "output_type": "stream",
          "text": [
            "Dataset Stats\n",
            "Roughly the number of unique words: 34768\n",
            "Number of lines: 70634\n",
            "Average number of words in each line: 6.185222414134836\n",
            "\n",
            "The lines 0 to 10:\n",
            "[Scene: Central Perk, Chandler, Joey, Phoebe, and Monica are there.]\r\n",
            "\r\n",
            "Monica: There's nothing to tell! He's just some guy I work with!\r\n",
            "\r\n",
            "Joey: C'mon, you're going out with the guy! There's gotta be something wrong with him!\r\n",
            "\r\n",
            "Chandler: All right Joey, be nice.  So does he have a hump? A hump and a hairpiece?\r\n",
            "\r\n",
            "Phoebe: Wait, does he eat chalk?\r\n",
            "\r\n"
          ],
          "name": "stdout"
        }
      ]
    },
    {
      "metadata": {
        "id": "bi31ak-PUcju",
        "colab_type": "text"
      },
      "cell_type": "markdown",
      "source": [
        "---\n",
        "## Implement Pre-processing Functions\n",
        "The first thing to do to any dataset is pre-processing.  Implement the following pre-processing functions below:\n",
        "- Lookup Table\n",
        "- Tokenize Punctuation\n",
        "\n",
        "### Lookup Table\n",
        "To create a word embedding, you first need to transform the words to ids.  In this function, create two dictionaries:\n",
        "- Dictionary to go from the words to an id, we'll call `vocab_to_int`\n",
        "- Dictionary to go from the id to word, we'll call `int_to_vocab`\n",
        "\n",
        "Return these dictionaries in the following **tuple** `(vocab_to_int, int_to_vocab)`"
      ]
    },
    {
      "metadata": {
        "id": "4kiYx1v5Ucjv",
        "colab_type": "code",
        "outputId": "12f39918-0500-4fb8-c2d3-23dcf2f4625b",
        "colab": {
          "base_uri": "https://localhost:8080/",
          "height": 74
        }
      },
      "cell_type": "code",
      "source": [
        "import problem_unittests as tests\n",
        "from collections import Counter\n",
        "\n",
        "def create_lookup_tables(text):\n",
        "    \"\"\"\n",
        "    Create lookup tables for vocabulary\n",
        "    :param text: The text of tv scripts split into words\n",
        "    :return: A tuple of dicts (vocab_to_int, int_to_vocab)\n",
        "    \"\"\"\n",
        "    # TODO: Implement Function\n",
        "    \n",
        "    word_counts = Counter(text)\n",
        "    print(word_counts)\n",
        "    # sorting the words from most to least frequent in text occurrence\n",
        "    sorted_vocab = sorted(word_counts, key=word_counts.get, reverse=True)\n",
        "    # create int_to_vocab dictionaries\n",
        "    int_to_vocab = {ii: word for ii, word in enumerate(sorted_vocab)}\n",
        "    vocab_to_int = {word: ii for ii, word in int_to_vocab.items()}\n",
        "\n",
        "    return vocab_to_int, int_to_vocab\n",
        "  \n",
        "  \n",
        "\"\"\"\n",
        "DON'T MODIFY ANYTHING IN THIS CELL THAT IS BELOW THIS LINE\n",
        "\"\"\"\n",
        "tests.test_create_lookup_tables(create_lookup_tables)"
      ],
      "execution_count": 4,
      "outputs": [
        {
          "output_type": "stream",
          "text": [
            "Counter({'moe_szyslak': 5, 'mike': 4, 'rotch': 4, 'you': 4, 'your': 4, 'to': 3, 'drink': 3, 'the': 2, 'yeah': 2, 'name': 2, 'on': 2, 'hey': 2, 'one': 2, \"i'm\": 2, 'gonna': 2, 'my': 2, 'homer': 2, 'not': 2, 'problems': 2, 'should': 2, \"moe's\": 1, 'tavern': 1, 'where': 1, 'elite': 1, 'meet': 1, 'bart_simpson': 1, 'eh': 1, 'hello': 1, 'is': 1, 'there': 1, 'last': 1, 'hold': 1, \"i'll\": 1, 'check': 1, 'has': 1, 'anybody': 1, 'seen': 1, 'lately': 1, 'listen': 1, 'little': 1, 'puke': 1, 'of': 1, 'these': 1, 'days': 1, 'catch': 1, 'and': 1, 'carve': 1, 'back': 1, 'with': 1, 'an': 1, 'ice': 1, 'pick': 1, 'whats': 1, 'matter': 1, \"you're\": 1, 'normal': 1, 'effervescent': 1, 'self': 1, 'homer_simpson': 1, 'i': 1, 'got': 1, 'moe': 1, 'give': 1, 'me': 1, 'another': 1, 'forget': 1, 'barney_gumble': 1, 'only': 1, 'enhance': 1, 'social': 1, 'skills': 1})\n",
            "Tests Passed\n"
          ],
          "name": "stdout"
        }
      ]
    },
    {
      "metadata": {
        "id": "sV6grx_4Ucj0",
        "colab_type": "text"
      },
      "cell_type": "markdown",
      "source": [
        "### Tokenize Punctuation\n",
        "We'll be splitting the script into a word array using spaces as delimiters.  However, punctuations like periods and exclamation marks can create multiple ids for the same word. For example, \"bye\" and \"bye!\" would generate two different word ids.\n",
        "\n",
        "Implement the function `token_lookup` to return a dict that will be used to tokenize symbols like \"!\" into \"||Exclamation_Mark||\".  Create a dictionary for the following symbols where the symbol is the key and value is the token:\n",
        "- Period ( **.** )\n",
        "- Comma ( **,** )\n",
        "- Quotation Mark ( **\"** )\n",
        "- Semicolon ( **;** )\n",
        "- Exclamation mark ( **!** )\n",
        "- Question mark ( **?** )\n",
        "- Left Parentheses ( **(** )\n",
        "- Right Parentheses ( **)** )\n",
        "- Dash ( **-** )\n",
        "- Return ( **\\n** )\n",
        "\n",
        "This dictionary will be used to tokenize the symbols and add the delimiter (space) around it.  This separates each symbols as its own word, making it easier for the neural network to predict the next word. Make sure you don't use a value that could be confused as a word; for example, instead of using the value \"dash\", try using something like \"||dash||\"."
      ]
    },
    {
      "metadata": {
        "scrolled": true,
        "id": "n_bNZJacUcj1",
        "colab_type": "code",
        "outputId": "c61db849-dd5f-42e8-8106-1fe185e4e836",
        "colab": {
          "base_uri": "https://localhost:8080/",
          "height": 34
        }
      },
      "cell_type": "code",
      "source": [
        "def token_lookup():\n",
        "    \"\"\"\n",
        "    Generate a dict to turn punctuation into a token.\n",
        "    :return: Tokenized dictionary where the key is the punctuation and the value is the token\n",
        "    \"\"\"\n",
        "    # TODO: Implement Function\n",
        "    dict={}\n",
        "    X=['.',',','\"',';','!','?','(',')','-','\\n']\n",
        "    Y=[\"||period||\",\"||comma||\",\"||quotation_Mark||\",\"||semicolon||\",\"||exclamation_mark||\",\"||question_mark||\",\"||left_Parentheses||\",\"||right_Parentheses||\",\"||dash||\",\"||return||\"]    \n",
        "    for x,y in zip(X,Y):\n",
        "        dict[x]=y\n",
        "        \n",
        "       \n",
        "    return dict\n",
        "\n",
        "\"\"\"\n",
        "DON'T MODIFY ANYTHING IN THIS CELL THAT IS BELOW THIS LINE\n",
        "\"\"\"\n",
        "tests.test_tokenize(token_lookup)"
      ],
      "execution_count": 5,
      "outputs": [
        {
          "output_type": "stream",
          "text": [
            "Tests Passed\n"
          ],
          "name": "stdout"
        }
      ]
    },
    {
      "metadata": {
        "id": "3oPP6rqaUcj4",
        "colab_type": "text"
      },
      "cell_type": "markdown",
      "source": [
        "## Pre-process all the data and save it\n",
        "\n",
        "Running the code cell below will pre-process all the data and save it to file. You're encouraged to lok at the code for `preprocess_and_save_data` in the `helpers.py` file to see what it's doing in detail, but you do not need to change this code."
      ]
    },
    {
      "metadata": {
        "id": "Dvqx9wh5Ucj5",
        "colab_type": "code",
        "outputId": "753d68d4-5fd2-485a-e92f-1625a51a5a63",
        "colab": {
          "base_uri": "https://localhost:8080/",
          "height": 57
        }
      },
      "cell_type": "code",
      "source": [
        "\"\"\"\n",
        "DON'T MODIFY ANYTHING IN THIS CELL\n",
        "\"\"\"\n",
        "# pre-process training data\n",
        "preprocess_and_save_data(data_dir, token_lookup, create_lookup_tables)"
      ],
      "execution_count": 6,
      "outputs": [
        {
          "output_type": "stream",
          "text": [
            "Counter({'||return||': 70631, '||period||': 43554, '||comma||': 38341, '||exclamation_mark||': 13893, 'the': 12765, 'i': 12741, 'you': 12114, '||question_mark||': 10758, 'and': 9572, 'to': 9382, '||left_parentheses||': 9346, '||right_parentheses||': 9343, 'a': 7603, 'it': 4982, 'is': 4830, 'ross:': 4672, 'that': 4504, 'rachel:': 4390, '||dash||': 4360, 'chandler:': 4284, 'monica:': 4203, 'oh': 4010, 'joey:': 3944, 'in': 3796, 'what': 3648, 'phoebe:': 3618, 'of': 3454, 'no': 3453, 'on': 3113, 'this': 3087, 'just': 2946, 'me': 2928, 'so': 2772, 'my': 2768, 'her': 2571, 'yeah': 2528, 'with': 2524, 'know': 2472, 'okay': 2443, 'are': 2418, 'all': 2273, 'for': 2232, 'we': 2217, 'he': 2213, 'well': 2165, 'have': 2163, 'not': 2156, 'do': 2138, 'hey': 2099, 'ross': 2098, 'monica': 2077, 'up': 2069, 'was': 2040, 'chandler': 2031, ']': 1966, 'but': 1945, 'right': 1935, 'out': 1925, \"i'm\": 1922, 'she': 1918, 'at': 1892, 'like': 1869, 'be': 1808, 'joey': 1772, 'rachel': 1661, 'your': 1616, 'get': 1579, '[scene:': 1577, 'him': 1575, \"it's\": 1539, 'his': 1488, 'go': 1459, 'about': 1438, 'gonna': 1423, 'there': 1404, 'uh': 1381, 'they': 1317, \"don't\": 1285, 'phoebe': 1283, 'here': 1277, 'look': 1275, 'one': 1213, 'im': 1203, 'really': 1197, 'can': 1174, 'if': 1153, 'see': 1116, 'think': 1109, 'how': 1084, 'mean': 1057, 'now': 1046, \"y'know\": 1018, 'its': 1009, 'back': 987, 'got': 986, 'from': 951, 'come': 908, 'did': 887, \"that's\": 873, 'then': 868, 'good': 868, 'as': 864, \"you're\": 860, 'dont': 856, 'over': 846, 'want': 829, 'were': 816, 'ok': 813, 'god': 806, 'guys': 796, 'why': 792, 'hi': 768, 'sorry': 749, 'when': 744, 'would': 716, 'going': 700, 'down': 679, '||quotation_mark||': 678, 'little': 665, 'yes': 656, 'who': 651, 'time': 636, 'some': 632, 'say': 631, 'something': 625, 'them': 625, 'tell': 622, 'great': 622, 'off': 604, 'thing': 586, 'an': 584, 'guy': 579, 'door': 568, 'into': 563, 'could': 563, 'had': 554, 'starts': 540, \"rachel's\": 536, 'youre': 529, 'or': 524, 'too': 523, 'thats': 523, 'because': 522, 'wait': 521, \"he's\": 508, 'mr': 501, 'has': 498, 'um': 494, 'take': 492, 'phone': 483, 'again': 478, 'by': 477, 'been': 474, \"can't\": 472, 'umm': 466, 'doing': 462, 'love': 460, 'am': 458, 'way': 449, 'big': 445, 'man': 444, 'ah': 443, 'room': 442, 'huh': 434, 'still': 432, 'make': 426, 'two': 425, 'maybe': 425, 'wanna': 424, 'said': 424, 'entering': 424, 'apartment': 423, 'around': 401, 'looks': 399, 'other': 396, 'does': 395, 'should': 387, 'never': 384, 'us': 380, 'goes': 380, 'where': 379, \"i'll\": 376, 'need': 369, 'will': 364, 'very': 363, 'much': 362, 'thank': 357, 'first': 351, 'ya': 349, \"she's\": 348, \"didn't\": 347, 'work': 344, \"we're\": 340, 'more': 339, 'thought': 339, 'even': 334, 'sure': 334, 'call': 331, 'mrs': 331, 'fine': 330, 'believe': 329, 'wow': 328, 'head': 326, 'actually': 325, 'away': 324, 'people': 323, 'enters': 318, 'central': 318, 'give': 316, 'please': 312, 'dr': 312, 'thanks': 310, 'listen': 308, \"joey's\": 308, 'alright': 307, 'talk': 307, 'new': 307, 'perk': 306, 'let': 304, 'gets': 302, 'any': 302, 'nice': 300, 'looking': 300, 'getting': 300, 'cant': 298, 'our': 297, 'their': 293, 'yknow': 292, 'both': 285, 'all:': 282, 'walks': 280, 'gotta': 278, 'last': 278, 'night': 278, 'only': 278, 'talking': 278, \"what's\": 275, 'ooh': 273, 'day': 273, 'stop': 271, 'anything': 271, \"i've\": 271, 'woman': 268, 'everyone': 267, \"there's\": 266, 'turns': 264, 'bye': 264, 'hand': 263, 'feel': 258, 'break': 257, 'ohh': 256, 'leave': 256, 'ever': 255, 'hello': 254, 'stuff': 254, 'hes': 253, 'play': 253, 'whoa': 251, 'these': 250, 'those': 249, 'hands': 247, 'put': 245, 'which': 244, '[cut': 242, 'next': 240, 'after': 240, 'another': 233, 'pheebs': 233, 'before': 232, 'place': 232, 'better': 229, 'honey': 229, 'kinda': 228, 'start': 227, 'table': 227, 'nothing': 226, 'geller:': 226, 'didnt': 225, 'ill': 221, 'happy': 219, 'bad': 219, 'through': 218, 'having': 218, 'told': 216, 'baby': 215, 'trying': 214, 'kiss': 213, 'guess': 211, 'credits': 209, 'things': 208, 'sitting': 207, 'couch': 205, 'emily': 205, 'fun': 204, 'friend': 204, 'lot': 201, 'takes': 201, 'coming': 200, \"let's\": 198, 'left': 197, 'pretty': 196, \"they're\": 196, 'hear': 196, 'ready': 196, 'girl': 194, 'always': 193, 'sees': 193, 'than': 192, 'name': 192, 'whole': 191, 'together': 191, 'tonight': 190, 'help': 190, 'someone': 189, 'best': 189, 'bedroom': 188, 'rach': 187, 'comes': 187, 'pause': 186, 'bathroom': 186, 'coffee': 185, 'opens': 185, 'ben': 185, 'each': 184, 'went': 181, 'wanted': 181, 'theres': 181, 'mom': 180, 'thinking': 180, 'makes': 180, 'three': 180, 'runs': 179, 'keep': 177, 'happened': 177, 'made': 177, 'job': 177, 'party': 177, 'face': 177, 'ive': 177, 'date': 175, 'find': 172, 'home': 171, 'shes': 171, 'richard:': 171, 'long': 170, 'carol:': 170, 'totally': 168, 'else': 168, 'janice:': 167, 'emily:': 167, \"doesn't\": 166, 'cool': 166, \"'cause\": 165, 'old': 164, 'remember': 163, 'life': 162, 'while': 162, 'opening': 162, 'points': 162, 'kind': 158, 'funny': 158, 'cat': 158, 'doesnt': 158, 'dad': 157, 'friends': 157, 'game': 157, 'tv': 156, 'whats': 156, 'everything': 155, 'janice': 155, 'ask': 154, 'listens': 153, 'frank:': 153, 'being': 152, 'window': 152, 'try': 151, 'watch': 150, 'wrong': 149, 'watching': 149, 'playing': 149, 'grabs': 149, 'second': 148, 'money': 147, 'living': 147, \"'\": 146, 'leaves': 146, 'minute': 145, 'office': 143, 'hard': 142, 'laughs': 141, 'care': 141, 'cause': 141, 'yet': 140, 'lets': 140, 'rach:': 140, 'sex': 139, 'carol': 139, 'show': 139, 'puts': 139, 'says': 138, \"isn't\": 138, 'check': 138, 'everybody': 137, 'morning': 137, 'ow': 137, 'saying': 136, 'later': 136, 'every': 136, 'pick': 136, 'married': 134, 'same': 134, 'dinner': 133, 'done': 133, 'stops': 133, 'hold': 133, \"ross's\": 132, 'making': 132, 'gives': 131, 'uhh': 131, 'might': 130, 'wearing': 130, 'years': 130, 'behind': 130, 'stupid': 130, 'marcel': 130, 'commercial': 129, 'wants': 129, \"monica's\": 128, 'stay': 128, 'part': 128, 'five': 128, 'used': 128, 'problem': 128, 'walk': 127, 'telling': 126, 'gang': 126, 'today': 125, 'hell': 125, 'deal': 125, 'turn': 124, 'kitchen': 124, 'since': 124, \"c'mon\": 123, 'already': 123, 'singing': 122, 'idea': 122, 'enough': 122, 'throws': 122, 'move': 121, \"i'd\": 120, 'ball': 120, 'picks': 120, 'ha': 119, \"who's\": 119, 'kisses': 119, 'called': 119, 'box': 119, 'crazy': 119, 'la': 118, 'tries': 118, 'somebody': 118, 'real': 117, 'supposed': 117, 'open': 117, 'bed': 117, 'high': 115, 'outside': 115, 'excuse': 115, 'richard': 115, 'sits': 114, 'naked': 113, 'hug': 113, 'probably': 113, 'happen': 113, 'theyre': 113, 'anyway': 112, 'tomorrow': 112, 'house': 112, 'number': 111, 'pants': 111, 'ahh': 111, 'saw': 111, 'taking': 110, 'reading': 110, 'meet': 110, 'susan:': 110, 'eyes': 110, 'holding': 109, 'cut': 109, 'without': 109, 'hair': 108, 'hate': 108, 'miss': 108, 'frank': 108, 'kids': 107, 'mnca:': 107, 'waiting': 106, 'women': 106, 'sleep': 106, 'use': 106, 'couple': 106, 'weird': 105, 'end': 105, 'closing': 105, \"chandler's\": 105, 'forget': 105, 'boy': 104, 'girls': 104, 'cute': 104, 'eat': 103, 'pete:': 103, 'person': 102, \"we'll\": 102, 'susan': 102, 'hot': 102, 'holds': 102, 'wedding': 101, 'once': 101, 'though': 101, 'rest': 101, 'sit': 100, 'course': 100, 'came': 100, 'thinks': 98, 'joshua:': 98, 'front': 97, 'sound': 97, 'took': 97, 'found': 97, 'most': 97, 'run': 97, 'finally': 96, 'myself': 96, 'parents': 96, 'duck': 96, 'picture': 96, 'chair': 96, 'voice': 95, 'year': 95, 'laughing': 95, 'also': 95, 'close': 94, 'late': 94, 'standing': 93, 'until': 93, 'seen': 93, 'seeing': 93, 'mind': 93, 'half': 92, 'quickly': 92, 'joeys': 92, 'gary:': 92, 'alone': 91, 'bag': 91, 'live': 91, 'such': 91, '||semicolon||': 91, 'understand': 91, 'book': 91, 'knew': 90, 'hat': 90, 'must': 90, 'between': 90, 'may': 90, 'anymore': 90, 'gunther': 90, 'mine': 89, 'walking': 89, 'movie': 89, 'julie': 89, 'kathy:': 89, 'question': 88, \"won't\": 88, 'laugh': 88, 'running': 88, 'eating': 87, 'knock': 86, 'working': 86, 'under': 86, 'birthday': 86, 'four': 85, 'mon': 85, \"you've\": 85, 'butt': 84, 'bring': 84, 'coat': 84, 'hang': 83, 'matter': 83, 'food': 83, 'different': 83, 'sister': 83, 'amazing': 82, 'means': 82, 'almost': 82, 'moving': 82, 'throw': 82, ':': 82, 'chan:': 82, \"wasn't\": 81, 'drink': 81, 'own': 81, 'gave': 81, 'heard': 81, 'sounds': 80, 'school': 80, 'father': 80, 'gone': 80, 'inside': 80, 'london': 80, 'phoe:': 80, 'started': 79, 'leaving': 79, 'hmm': 79, 'dance': 79, 'sweet': 78, 'yourself': 78, 'mad': 78, 'geller': 78, 'except': 78, 'fact': 78, 'babies': 78, 'isnt': 78, 'answer': 77, 'change': 77, 'car': 77, 'lost': 77, 'read': 77, 'true': 77, 'huge': 77, 'side': 76, 'machine': 76, 'cry': 76, 'bet': 76, 'gunther:': 76, 'luck': 75, 'hours': 75, 'shot': 75, 'ring': 74, 'bing': 74, 'world': 74, 'song': 74, 'dead': 74, 'anyone': 74, 'dog': 74, 'counter': 74, 'heads': 74, 'hit': 73, 'times': 73, 'arm': 73, 'anybody': 73, 'knows': 73, 'minutes': 73, 'guy:': 73, 'chick': 73, 'mark': 73, 'joanna:': 73, 'point': 72, 'card': 72, \"here's\": 71, 'street': 71, 'dollars': 70, 'beautiful': 70, 'ho': 70, 'doctor': 70, 'kathy': 70, 'mouth': 69, 'moment': 69, 'carrying': 69, 'boyfriend': 69, 'young': 69, 'met': 69, 'hits': 68, 'cup': 68, 'answers': 68, 'hugs': 68, 'serious': 68, 'sweetie': 67, 'hope': 67, 'paper': 67, 'floor': 67, 'easy': 67, 'wear': 67, 'closes': 67, 'pizza': 67, \"you'd\": 67, 'monkey': 67, 'buy': 66, \"we've\": 66, 'either': 66, 'hurt': 66, 'eye': 66, \"you'll\": 66, \"couldn't\": 66, 'fat': 66, 'hallway': 66, 'christmas': 66, 'fire': 66, 'id': 66, 'dress': 65, 'chance': 65, 'exits': 65, 'enter': 65, 'reason': 65, 'rachels': 65, 'chandlers': 65, 'wish': 64, 'shut': 64, 'relationship': 64, 'ice': 64, 'himself': 64, 'absolutely': 64, 'days': 64, 'least': 64, 'many': 64, 'girlfriend': 64, 'suddenly': 64, 'water': 64, 'shocked': 64, 'eddie:': 64, 'asked': 63, \"what're\": 63, 'pay': 63, 'along': 63, 'kid': 63, 'clothes': 63, 'director:': 63, 'joshua': 63, 'barry': 62, \"wouldn't\": 62, 'hall': 62, 'broke': 62, 'definitely': 62, 'set': 62, 'lunch': 62, 'fake': 62, 'pete': 62, 'week': 61, 'story': 61, 'exactly': 61, 'kissing': 61, 'rings': 61, 'notices': 61, 'kate:': 61, \"haven't\": 60, 'kidding': 60, 'bit': 60, 'wh': 60, 'message': 60, 'sometimes': 59, 'city': 59, 'line': 59, 'men': 59, 'wife': 59, 'lady': 59, 'perfect': 59, 'thanksgiving': 59, 'pain': 58, 'ugh': 58, 'ago': 58, 'giving': 58, 'hangs': 58, 'cab': 58, 'danny:': 58, 'family': 57, 'against': 57, 'shower': 57, 'joe': 57, 'ohhh': 56, 'word': 56, 'lives': 56, 'past': 56, 'camera': 56, 'sandwich': 56, 'green:': 56, 'across': 55, 'restaurant': 55, 'leg': 55, 'free': 55, 'green': 55, 'worry': 55, 'lose': 55, 'soon': 55, 'ten': 55, 'moves': 55, 'paolo': 55, '[they': 55, 'relax': 54, 'cards': 54, 'youve': 54, 'mother': 53, 'glad': 53, 'smell': 53, 'earlier': 53, 'pulls': 53, 'stuck': 53, 'talked': 53, 'quit': 53, \"phoebe's\": 53, 'nods': 53, 'chicken': 53, 'boss': 53, 'whos': 53, 'kill': 52, 'small': 52, 'welcome': 52, 'stares': 52, 'knocks': 52, 'store': 52, 'audition': 52, 'sr': 52, 'figure': 51, 'likes': 51, 'news': 51, 'answering': 51, 'promise': 51, 'yep': 51, 'top': 51, 'hospital': 51, 'lapse': 50, 'building': 50, 'whatever': 50, 'wine': 50, 'unless': 50, 'park': 50, 'shoes': 50, 'ass': 50, 'fight': 50, 'shirt': 50, 'bucks': 50, 'weekend': 50, 'dude': 50, 'wasnt': 50, 'waltham:': 50, 'dream': 49, 'feeling': 49, 'hour': 49, 'excited': 49, 'aunt': 49, 'stand': 49, 'glares': 49, 'drops': 49, 'returns': 49, 'six': 49, 'meant': 49, 'class': 49, 'flight': 49, 'returning': 49, 'rosss': 49, 'woah': 49, 'wondering': 48, 'catch': 48, 'cannot': 48, 'calling': 48, 'gift': 48, 'surprise': 48, 'seat': 48, 'obviously': 48, 'shoulder': 48, 'fault': 48, 'smelly': 48, 'alice:': 48, 'purse': 47, 'shows': 47, 'entire': 47, 'figured': 47, 'ticket': 47, 'seem': 47, 'yours': 47, 'lights': 47, 'buddy': 47, 'cookies': 47, 'piece': 47, 'motions': 47, 'important': 46, 'falls': 46, 'julie:': 46, \"how's\": 45, 'pregnant': 45, 'touch': 45, 'onto': 45, 'slams': 45, \"goin'\": 45, \"aren't\": 45, 'milk': 45, 'bob': 45, 'continued': 45, 'phoebes': 45, '[ross': 45, 'greene:': 45, 'horrible': 44, 'staring': 44, 'putting': 44, 'sick': 44, 'nobody': 44, 'showing': 44, 'airport': 44, 'monicas': 44, '[rachel': 44, 'mark:': 44, 'erm': 44, 'middle': 43, 'scene': 43, 'museum': 43, 'die': 43, 'terrible': 43, 'sign': 43, 'third': 43, 'nooo': 43, 'aww': 43, 'woman:': 43, 'none': 43, 'order': 43, 'york': 43, 'bottle': 43, \"doin'\": 43, 'win': 43, 'steve:': 43, 'wont': 43, 'afraid': 43, 'man:': 43, 'brother': 42, 'able': 42, 'herself': 42, 'ex': 42, 'realizes': 42, 'nose': 42, \"guy's\": 42, 'body': 42, 'underwear': 42, 'sexy': 42, 'seems': 42, 'upset': 42, 'breakfast': 42, 'music': 42, 'jumps': 42, 'plane': 42, 'bully:': 42, 'interrupting': 42, 'air': 41, 'looked': 41, 'eight': 41, 'straight': 41, 'worse': 41, 'dressed': 41, 'weeks': 41, 'asking': 41, 'sir': 41, 'starting': 41, 'ursula': 41, 'wouldnt': 41, 'phoebs': 41, 'brought': 40, 'fall': 40, 'yelling': 40, 'angela': 40, 'actor': 40, 'stands': 40, 'tape': 40, 'hundred': 40, 'smoking': 40, 'liked': 40, 'stick': 40, 'hanging': 40, 'foot': 40, 'gasps': 40, 'business': 40, 'forgot': 40, 'couldnt': 40, 'bought': 39, 'stairs': 39, 'few': 39, 'bunch': 39, 'step': 39, 'listening': 39, 'ugly': 39, 'smile': 39, 'tickets': 39, 'light': 39, 'noise': 39, 'twenty': 39, 'died': 39, 'keys': 39, 'bobby': 39, 'arms': 39, 'drunk': 39, 'crying': 39, 'chip': 39, 'yay': 39, 'van': 39, 'hole': 39, 'kate': 39, 'stare': 38, 'idiot': 38, \"'em\": 38, 'roll': 38, 'shopping': 38, 'glass': 38, \"it'll\": 38, 'special': 38, 'barry:': 38, 'fingers': 38, 'team': 38, '7': 38, 'dancing': 38, 'roommate': 38, 'tribbiani:': 38, 'havent': 38, 'juice': 38, '[chandler': 38, '[she': 38, 'using': 37, 'legs': 37, 'smiling': 37, 'slowly': 37, 'smiles': 37, \"where's\": 37, 'pass': 37, 'write': 37, 'jack': 37, 'save': 37, 'feels': 37, 'asleep': 37, '[joey': 37, 'video': 37, 'ones': 37, 'delivery': 37, 'list': 37, 'noo': 37, 'gary': 37, 'pointing': 36, 'shoe': 36, 'grab': 36, 'finger': 36, 'seven': 36, 'months': 36, 'smart': 36, 'ladies': 36, 'cold': 36, 'confused': 36, 'bonnie:': 36, '[time': 35, 'calls': 35, 'moved': 35, 'control': 35, 'loved': 35, 'spent': 35, 'cigarette': 35, 'extra': 35, 'notice': 35, 'tiny': 35, 'full': 35, 'sleeping': 35, 'fast': 35, 'italian': 35, 'present': 35, 'sweater': 35, 'sad': 35, 'missed': 35, 'woo': 35, 'suck': 35, 'youd': 35, 'ursula:': 35, 'em': 35, 'beach': 35, '[to': 35, 'susie:': 35, 'trip': 35, 'loud': 34, 'seconds': 34, 'case': 34, 'credit': 34, 'vegas': 34, 'ran': 34, 'mindy': 34, 'unbelievable': 34, 'mail': 34, 'desk': 34, 'jumping': 34, 'laundry': 34, 'guitar': 34, 'shakes': 34, 'son': 34, '2': 34, 'throwing': 34, 'joke': 34, 'casting': 34, 'soo': 34, 'doug:': 34, 'realize': 33, 'beer': 33, 'lucky': 33, 'closer': 33, 'slept': 33, 'ahead': 33, 'note': 33, 'far': 33, 'stunned': 33, 'ear': 33, 'dating': 33, 'football': 33, 'glasses': 33, 'plan': 33, 'pretend': 33, 'tribbiani': 33, 'heckles:': 33, 'finds': 33, 'eh': 33, 'towards': 33, 'screaming': 33, 'fish': 33, 'weve': 33, 'rather': 33, 'ryan:': 33, 'sr:': 33, 'treeger::': 33, 'lesbian': 32, 'follows': 32, 'daddy': 32, 'push': 32, 'red': 32, 'finished': 32, 'breaking': 32, 'apparently': 32, 'grandmother': 32, 'catches': 32, 'smoke': 32, 'nope': 32, 'balcony': 32, 'breath': 32, 'completely': 32, 'bar': 32, 'blue': 32, 'freak': 32, 'finish': 32, 'keeps': 32, 'chest': 32, 'drinking': 32, '50': 32, 'turkey': 32, 'picked': 32, 'storms': 32, 'angrily': 32, 'jacket': 32, 'turning': 32, 'acting': 32, 'damn': 32, '[monica': 32, 'bang': 32, 'waitress': 31, 'dear': 31, 'clean': 31, 'clear': 31, 'loves': 31, 'sort': 31, 'feet': 31, 'wha': 31, 'speak': 31, 'spend': 31, 'enjoy': 31, 'forever': 31, 'empty': 31, 'tough': 31, 'husband': 31, 'fridge': 31, 'felt': 31, 'lying': 31, 'college': 31, 'heckles': 31, 'bite': 31, 'pen': 31, 'quick': 31, 'foosball': 31, 'gym': 31, 'itll': 31, '[the': 31, 'chloe:': 31, 'alice': 31, 'instead': 30, 'neck': 30, 'decide': 30, 'calm': 30, 'plus': 30, 'feelings': 30, 'pushes': 30, 'harder': 30, 'boys': 30, 'shoot': 30, 'happening': 30, 'realises': 30, 'meeting': 30, 'tried': 30, 'bill': 30, 'scared': 30, 'strong': 30, 'needs': 30, 'reveal': 30, 'o': 30, 'massage': 30, 'kick': 30, 'eddie': 30, 'upstairs': 30, 'shock': 29, \"how'd\": 29, 'sucks': 29, 'fighting': 29, 'aw': 29, 'works': 29, 'excellent': 29, 'worked': 29, 'awkward': 29, 'decided': 29, 'less': 29, 'short': 29, 'sing': 29, 'sense': 29, 'aurora:': 29, 'seriously': 29, 'cheek': 29, 'gay': 29, \"would've\": 29, 'large': 29, 'depressed': 29, 'computer': 29, 'bing:': 29, 'howard': 29, 'king': 29, 'mary': 29, 'danny': 29, 'bonnie': 29, 'marry': 28, 'stopped': 28, 'paul': 28, 'heart': 28, 'worst': 28, 'waves': 28, 'company': 28, 'wrote': 28, 'return': 28, 'helping': 28, 'worth': 28, 'white': 28, 'played': 28, 'bra': 28, 'grow': 28, 'needed': 28, 'stage': 28, 'interesting': 28, 'pull': 28, '3': 28, 'david:': 28, 'ending': 28, 'chef': 28, 'brown': 28, 'interview': 28, 'questions': 28, 'ethan:': 28, 'doctor:': 28, 'room]': 28, 'tree': 28, 'drake': 28, 'burke:': 28, 'stopping': 28, 'cookie': 27, 'trouble': 27, 'picking': 27, 'pot': 27, 'scream': 27, 'leans': 27, 'pack': 27, 'black': 27, 'kept': 27, 'alive': 27, 'covers': 27, 'incredible': 27, 'cups': 27, 'nine': 27, 'nurse:': 27, 'happens': 27, 'yesterday': 27, 'button': 27, 'teacher:': 27, 'remote': 27, 'switch': 27, 'mindy:': 27, 'faces': 27, 'fbob:': 27, 'sooo': 27, 'boxes': 27, 'tired': 27, 'magazine': 27, 'youll': 27, 'tim:': 27, 'silence': 26, 'turned': 26, 'hoping': 26, 'intercom': 26, 'sell': 26, 'checks': 26, 'caught': 26, 'towel': 26, 'gimme': 26, 'sometime': 26, 'co': 26, 'cooking': 26, 'heat': 26, 'pee': 26, 'broken': 26, 'quite': 26, 'bank': 26, 'garbage': 26, 'won': 26, 'happily': 26, 'cheese': 26, 'animal': 26, 'drop': 26, 'wonderful': 26, 'plate': 26, 'plays': 26, 'wonder': 26, 'fired': 26, 'gosh': 26, 'sisters': 26, 'hotel': 26, 'chairs': 26, 'enters]': 26, 'erica:': 26, 'entertainment': 26, 'joanna': 26, 'sudden': 25, 'explain': 25, 'favorite': 25, 'pair': 25, 'hide': 25, 'club': 25, 'bottom': 25, 'fit': 25, 'sec': 25, 'lie': 25, 'send': 25, 'alan': 25, 'attention': 25, 'soup': 25, 'gotten': 25, 'birds': 25, 'downstairs': 25, 'breasts': 25, 'saturday': 25, 'pocket': 25, 'count': 25, 'invite': 25, 'borrow': 25, 'cover': 25, 'security': 25, 'oooh': 25, 'owe': 25, 'blah': 25, 'quietly': 25, 'kissed': 25, 'door]': 25, 'conversation': 25, 'marriage': 25, 'disgust': 25, 'learn': 25, 'hows': 25, 'cake': 25, 'poker': 25, 'bird': 25, '[phoebe': 25, 'porn': 25, 'wouldve': 25, 'sophie': 25, 'correct': 25, 'caitlin:': 25, 'strip': 24, 'changed': 24, 'tip': 24, 'spot': 24, 'giant': 24, 'finishing': 24, 'known': 24, 'mess': 24, 'become': 24, 'words': 24, 'jump': 24, 'month': 24, 'drinks': 24, 'letter': 24, 'buffay': 24, 'steps': 24, 'exciting': 24, 'board': 24, 'emergency': 24, 'dirty': 24, 'proud': 24, 'ride': 24, 'surprised': 24, 'checking': 24, 'hides': 24, 'truth': 24, '20': 24, 'divorce': 24, 'area': 24, \"shouldn't\": 24, 'roger:': 24, 'pictures': 24, 'chinese': 24, 'smells': 24, 'follow': 24, 'town': 24, 'stripper': 24, 'arent': 24, 'heres': 24, 'lauren:': 24, 'kim:': 24, 'single': 23, 'boat': 23, 'lived': 23, 'breathe': 23, 'outta': 23, 'divorced': 23, 'join': 23, 'congratulations': 23, 'numbers': 23, 'hearing': 23, 'act': 23, 'speaking': 23, 'realise': 23, 'dinosaur': 23, 'names': 23, 'leather': 23, 'nah': 23, 'ridiculous': 23, 'paying': 23, \"he'll\": 23, 'swear': 23, 'bitch': 23, 'pie': 23, 'evening': 23, 'doll': 23, 'lips': 23, 'wake': 23, 'children': 23, 'zoo': 23, 'paolo:': 23, 'jealous': 23, 'wall': 23, '10': 23, 'neither': 23, 'nurse': 23, 'near': 23, 'information': 23, 'paid': 23, 'background': 23, 'crap': 23, 'writing': 23, 'sets': 23, 'anniversary': 23, '1:': 23, 'twin': 23, 'fell': 23, 'doctors': 23, 'bucket': 23, 'thumbs': 23, 'waiter:': 23, 'russ:': 23, 'center': 23, 'op': 23, 'sergei': 23, 'others': 22, 'cuts': 22, 'spoon': 22, 'ended': 22, 'las': 22, 'nervous': 22, \"we'd\": 22, 'taken': 22, 'y': 22, 'eww': 22, 'worried': 22, 'gum': 22, 'sarcastic': 22, 'shop': 22, 'suit': 22, 'plans': 22, 'awful': 22, 'round': 22, 'screams': 22, 'grandma': 22, 'twice': 22, 'earrings': 22, 'meat': 22, 'reads': 22, 'appreciate': 22, 'group': 22, 'removes': 22, 'threw': 22, 'bedroom]': 22, 'page': 22, 'tour': 22, 'screen': 22, 'post': 22, 'space': 22, 'somewhere': 22, '30': 22, 'covered': 22, 'poking': 22, 'grandmother:': 22, 'chloe': 22, 'waltham': 22, 'million': 21, 'soap': 21, \"carol's\": 21, 'cream': 21, 'hungry': 21, 'killed': 21, 'mmm': 21, 'biggest': 21, 'horror': 21, 'lamp': 21, \"they'll\": 21, 'tea': 21, 'ordered': 21, 'fair': 21, 'rain': 21, 'begins': 21, 'drawer': 21, 'bigger': 21, 'flowers': 21, 'tie': 21, 'romantic': 21, 'agent': 21, 'double': 21, 'early': 21, '8': 21, 'reaches': 21, 'lovely': 21, 'joins': 21, 'rolls': 21, 'insane': 21, 'shouldnt': 21, 'flirting': 21, 'agree': 21, 'joseph': 21, 'lydia:': 21, 'fruit': 21, 'hombre': 21, 'star': 21, 'treeger': 21, 'mouths': 21, 'apologize': 21, 'werent': 21, 'later]': 21, 'robert:': 21, 'tommy:': 21, 'salesman:': 21, 'larry:': 21, \"weren't\": 20, 'angry': 20, 'freaked': 20, 'familiar': 20, 'although': 20, 'longer': 20, 'difference': 20, 'pushing': 20, 'thousand': 20, 'basically': 20, 'born': 20, 'comfortable': 20, 'mirror': 20, 'dunno': 20, 'blow': 20, 'missing': 20, 'coma': 20, 'mistake': 20, 'fancy': 20, 'falling': 20, 'waiter': 20, 'rules': 20, 'lip': 20, 'toilet': 20, 'choice': 20, 'grown': 20, 'size': 20, 'girl:': 20, 'actual': 20, 'jerk': 20, 'birth': 20, 'knocking': 20, 'hoo': 20, 'frantically': 20, 'lap': 20, 'noticing': 20, 'robert': 20, 'fix': 20, 'rush': 20, 'allowed': 20, 'jam': 20, 'ringing': 20, 'knicks': 20, 'duncan:': 20, 'apartments': 20, '000': 20, '[he': 20, 'chip:': 20, 'dentist': 19, 'nuts': 19, 'taste': 19, 'cleaning': 19, 'crush': 19, 'age': 19, 'ew': 19, 'raise': 19, \"one's\": 19, 'whaddya': 19, 'sent': 19, 'future': 19, 'ate': 19, 'punch': 19, \"everything's\": 19, 'sticks': 19, 'grade': 19, 'bags': 19, 'band': 19, 'imagine': 19, 'theatre': 19, 'candles': 19, 'theme': 19, 'trust': 19, 'closet': 19, 'corner': 19, 'planned': 19, 'tears': 19, 'messages': 19, 'regular': 19, 'accent': 19, 'places': 19, 'ronni:': 19, '2:': 19, 'besides': 19, 'tells': 19, 'view': 19, 'stole': 19, 'field': 19, 'slow': 19, 'guest': 19, 'ahhh': 19, 'country': 19, 'movies': 19, 'rubbing': 19, 'clock': 19, 'e': 19, 'burke': 19, 'puppy': 19, 'guru': 19, 'throat': 18, 'wet': 18, 'invited': 18, 'deep': 18, 'decision': 18, 'hitting': 18, 'walked': 18, 'cats': 18, 'tony': 18, 'major': 18, 'otherwise': 18, 'history': 18, 'share': 18, 'dumped': 18, 'situation': 18, 'jason': 18, 'punches': 18, 'wind': 18, 'possible': 18, 'pal': 18, 'stomach': 18, 'leslie:': 18, 'bus': 18, 'seats': 18, 'candy': 18, 'basket': 18, 'total': 18, 'tongue': 18, 'ethan': 18, 'key': 18, 'dressing': 18, 'following': 18, 'poor': 18, 'kitty': 18, 'dark': 18, 'closed': 18, 'sweetheart': 18, 'n': 18, 'pats': 18, 'hated': 18, 'form': 18, 'oven': 18, 'toast': 18, 'handle': 18, 'test': 18, 'busy': 18, 'newspaper': 18, 'sold': 18, 'pages': 18, 'crossword': 18, 'assistant': 18, 'cares': 18, 'train': 18, 'personal': 18, 'beat': 18, 'judy': 18, 'bowl': 18, 'chips': 18, 'wallet': 18, 'gun': 18, 'phase': 18, 'attendant:': 18, 'eggs': 18, 'rtst:': 18, '4': 18, 'ben:': 18, 'larry': 18, 'yemen': 18, 'harad:': 18, 'badge': 18, 'rule': 17, 'paul:': 17, 'subway': 17, \"'i\": 17, 'split': 17, 'shake': 17, 'steve': 17, \"dad's\": 17, 'pauses': 17, 'power': 17, 'slides': 17, 'tommy': 17, 'pulling': 17, 'gentlemen': 17, 'shhh': 17, 'device': 17, 'atm': 17, 'secret': 17, 'roof': 17, 'b': 17, 'lightning': 17, 'funeral': 17, \"'bout\": 17, 'department': 17, 'cook': 17, 'difficult': 17, 'd': 17, 'pathetic': 17, 'disappointed': 17, 'clearly': 17, 'locked': 17, 'rock': 17, 'experience': 17, 'bug': 17, 'dry': 17, 'fly': 17, 'dumb': 17, 'teacher': 17, 'nina': 17, 'wins': 17, '200': 17, 'clip': 17, 'breast': 17, 'treeger:': 17, 'jade:': 17, 't': 17, 'g': 17, 'drive': 17, 'hasnt': 17, 'cheryl:': 17, 'emilys': 17, \"she'll\": 16, 'gestures': 16, 'gorgeous': 16, 'imitating': 16, 'salad': 16, 'staying': 16, 'furniture': 16, 'teeth': 16, 'freezer': 16, 'dogs': 16, 'twelve': 16, 'channel': 16, 'serving': 16, 'pillow': 16, 'ruined': 16, 'planning': 16, 'child': 16, 'drag': 16, 'accept': 16, 'given': 16, 'annoying': 16, 'thirty': 16, 'pretending': 16, 'kicks': 16, 'rick': 16, 'quiet': 16, 'vestibule': 16, 'passed': 16, 'pool': 16, 'english': 16, 'trees': 16, 'bell': 16, 'loudly': 16, 'midnight': 16, 'awww': 16, 'commitment': 16, 'whispers': 16, 'fireman': 16, 'promised': 16, 'everywhere': 16, 'wheres': 16, 'ceiling': 16, 'shaking': 16, 'learned': 16, 'loser': 16, 'luisa:': 16, 'prom': 16, 'script': 16, 'dishes': 16, 'poem': 16, 'director': 16, 'charge': 16, 'franzblau:': 16, 'interested': 16, '15': 16, \"ben's\": 16, 'ground': 16, 'approaches': 16, 'decides': 16, '5': 16, 'gold': 16, '1': 16, 'gas': 16, '[walks': 16, 'ends': 16, 'trash': 16, 'lauren': 16, 'ginger:': 16, 'vince:': 16, 'vince': 16, 'agent:': 16, 'pulled': 15, 'expect': 15, 'egg': 15, 'normal': 15, 'accidentally': 15, 'david': 15, 'cheer': 15, 'library': 15, 'goodnight': 15, 'reach': 15, 'older': 15, 'customer': 15, 'daughter': 15, 'named': 15, 'broom': 15, 'doin': 15, 'knowing': 15, 'cigarettes': 15, 'monday': 15, 'parties': 15, 'boobs': 15, 'leslie': 15, 'wild': 15, 'square': 15, 'magic': 15, 'talks': 15, 'blows': 15, 'angela:': 15, 'wanting': 15, 'steal': 15, 'shh': 15, 'forth': 15, 'fan': 15, 'deserve': 15, 'losing': 15, 'whenever': 15, 'jill': 15, 'pleased': 15, 'shoulders': 15, 'anywhere': 15, 'hah': 15, 'goodbye': 15, 'backs': 15, 'aside': 15, 'blanket': 15, \"what'd\": 15, 'greatest': 15, 'heh': 15, 'bump': 15, 'dates': 15, 'sorta': 15, 'nipples': 15, 'pans': 15, 'lines': 15, 'kicked': 15, 'waving': 15, 'rooms': 15, 'mister': 15, 'bone': 15, 'ginger': 15, 'joining': 15, 'identical': 15, 'evil': 15, 'bored': 15, 'lands': 15, 'watches': 15, 'smacks': 15, 'silly': 15, 'favourite': 15, 's': 15, 'spending': 15, 'route': 15, 'doors': 15, 'hurry': 15, 'titles': 15, 'da': 15, 'famous': 15, 'british': 15, 'mockolate': 15, 'forgive': 15, 'lead': 15, 'russ': 15, 'rob:': 15, 'cop': 15, 'giggles': 15, 'tattoo': 15, 'ryan': 15, 'dice': 15, 'fashion': 15, 'whispering': 15, 'bachelor': 15, 'julio': 15, 'mischa': 15, 'jason:': 15, 'rid': 15, 'josh': 15, 'katie:': 15, 'realized': 14, 'lots': 14, 'road': 14, 'low': 14, \"everyone's\": 14, 'involved': 14, 'bringing': 14, 'career': 14, 'type': 14, 'agreed': 14, 'sticking': 14, 'continues': 14, 'handing': 14, 'stealing': 14, 'ms': 14, 'guys:': 14, 'guard': 14, 'waking': 14, 'service': 14, 'partner': 14, 'death': 14, 'woke': 14, 'er': 14, 'tight': 14, 'bear': 14, 'rent': 14, 'seated': 14, 'neat': 14, 'fear': 14, \"o'clock\": 14, 'clears': 14, 'estelle': 14, 'barely': 14, 'suppose': 14, 'brush': 14, 'robe': 14, 'jill:': 14, 'focus': 14, 'wax': 14, 'accident': 14, 'score': 14, 'books': 14, \"hasn't\": 14, 'character': 14, 'underneath': 14, 'songs': 14, 'santa': 14, 'brings': 14, 'feeding': 14, 'uterus': 14, 'uncle': 14, 'ohhhh': 14, 'pet': 14, 'shrugs': 14, 'wakes': 14, '}': 14, 'rushing': 14, 'themselves': 14, 'err': 14, 'nina:': 14, 'television': 14, 'massages': 14, 'touched': 14, 'cost': 14, 'ignores': 14, 'fur': 14, 'apple': 14, 'teach': 14, 'land': 14, 'noooo': 14, 'rice': 14, 'dying': 14, 'trade': 14, 'afternoon': 14, 'blocks': 14, 'animals': 14, 'moustache': 14, 'china': 14, 'gifts': 14, 'exit': 14, 'cowboy': 14, '[a': 14, 'mich:': 14, 'rips': 14, 'elevator': 14, 'damme:': 14, '[back': 14, 'interviewer:': 14, 'gellers': 14, 'ultimate': 14, 'catering': 14, 'michelle': 14, 'driving': 14, 'position': 14, 'greene': 14, 'war': 14, 'malcom:': 14, 'american': 14, 'mattress': 14, 'nickname': 14, 'touchdown': 14, 'mischa:': 14, 'sophie:': 14, 'dollhouse': 14, 'charlton': 14, 'burgin:': 14, 'fonzie': 14, 'nancy': 14, 'cop:': 14, 'miller:': 14, \"that'd\": 13, 'art': 13, 'screwed': 13, 'bath': 13, \"c'mere\": 13, 'john': 13, 'percent': 13, 'pink': 13, 'mm': 13, 'selfish': 13, 'tray': 13, 'fantastic': 13, 'showed': 13, 'envelope': 13, 'pop': 13, 'tables': 13, 'chocolate': 13, 'plastic': 13, 'wave': 13, 'george': 13, 'toe': 13, 'both:': 13, 'sensitive': 13, 'warm': 13, 'covering': 13, 'match': 13, 'saved': 13, 'bald': 13, \"someone's\": 13, 'passionately': 13, 'dutch': 13, 'scary': 13, 'burn': 13, 'rome': 13, 'nana': 13, 'gross': 13, 'shame': 13, 'clinic': 13, 'healthy': 13, 'potatoes': 13, 'remembered': 13, 'sauce': 13, 'max:': 13, 'pressure': 13, 'watched': 13, 'embarrassed': 13, 'moms': 13, 'mommy': 13, 'schedule': 13, 'resumes': 13, 'sink': 13, \"thinkin'\": 13, 'knife': 13, \"somethin'\": 13, 'douglas:': 13, 'final': 13, 'helps': 13, 'mitchell:': 13, 'backwards': 13, 'justi': 13, 'teaching': 13, 'settle': 13, 'interrupted': 13, 'fourth': 13, 'beeper': 13, 'u': 13, 'damnit': 13, 'nipple': 13, 'lift': 13, 'janitor:': 13, 'beers': 13, 'carry': 13, 'hung': 13, 'chandler]': 13, 'leaves]': 13, 'lobster': 13, 'forward': 13, 'stephanie:': 13, 'minister:': 13, 'drew': 13, 'bracelet': 13, 'casey': 13, 'tank': 13, 'quarter': 13, 'dropped': 13, 'lily': 13, 'ruin': 13, 'obvious': 13, 'pitched': 13, 'pad': 13, 'itd': 13, 'bloomingdales': 13, 'julio:': 13, 'strippers': 13, 'joannas': 13, 'saj:': 13, 'doug': 13, 'twin:': 13, 'apart': 12, 'buzzer': 12, 'socks': 12, 'pour': 12, 'gesture': 12, 'tastes': 12, 'subject': 12, 'terrific': 12, 'chase': 12, 'thumb': 12, 'shouting': 12, 'bunny': 12, 'bother': 12, 'gloves': 12, 'patch': 12, 'changing': 12, 'holidays': 12, 'hockey': 12, 'queen': 12, 'fill': 12, 'admit': 12, 'courage': 12, 'mississippi': 12, 'attracted': 12, 'favor': 12, 'arrives': 12, 'panties': 12, 'eats': 12, 'skin': 12, 'flashback': 12, 'sexual': 12, 'offers': 12, 'typical': 12, 'shelley:': 12, 'quality': 12, 'disbelief': 12, 'checked': 12, 'ears': 12, 'borrowed': 12, 'butter': 12, 'flying': 12, 'revealing': 12, 'jar': 12, 'max': 12, 'wa': 12, 'expensive': 12, 'minsk': 12, 'joy': 12, 'toward': 12, 'trick': 12, 'usually': 12, 'softly': 12, 'dejected': 12, 'toes': 12, 'changes': 12, 'ma': 12, 'disgusted': 12, 'human': 12, 'j': 12, 'michael': 12, 'toy': 12, 'examining': 12, '&': 12, 'howd': 12, 'slips': 12, 'incident': 12, 'billy': 12, 'literally': 12, 'attempt': 12, 'bridge': 12, 'thrown': 12, 'ducks': 12, 'opposite': 12, 'motion': 12, 'carries': 12, 'purpose': 12, 'san': 12, 'law': 12, 'uniform': 12, 'lately': 12, 'blind': 12, 'practice': 12, 'lipstick': 12, '14': 12, '12': 12, 'f': 12, '27': 12, 'facing': 12, 'super': 12, '[puts': 12, 'celebrate': 12, 'basketball': 12, 'hurts': 12, 'exact': 12, 'ross]': 12, 'diner': 12, 'phone]': 12, 'joey]': 12, 'display': 12, 'scotch': 12, 'voice]': 12, 'aisle': 12, 'fool': 12, 'party]': 12, 'baywatch': 12, 'orange': 12, 'estelle:': 12, 'dan': 12, 'heavy': 12, 'unit': 12, 'everyday': 12, 'repeats': 12, 'wed': 12, 'agreement': 12, 'issac:': 12, 'health': 12, 'nails': 12, 'gandolf': 12, 'zane:': 12, 'rugby': 12, 'leedbetter:': 12, 'zelner:': 12, 'hopefully': 11, 'guessing': 11, 'cheers': 11, \"he'd\": 11, 'rub': 11, 'incredibly': 11, 'unfortunately': 11, 'jobs': 11, 'sophisticated': 11, 'spread': 11, 'crash': 11, 'intense': 11, 'setting': 11, 'issues': 11, 'cushions': 11, 'w': 11, 'stories': 11, 'advice': 11, 'shell': 11, 'careful': 11, 'helen': 11, 'sperm': 11, 'whoah': 11, 'complete': 11, 'distance': 11, 'serve': 11, 'lizzie:': 11, 'unfair': 11, 'respect': 11, \"could've\": 11, 'beans': 11, 'vegetarian': 11, 'attractive': 11, 'silently': 11, \"she'd\": 11, 'version': 11, \"comin'\": 11, \"ross'\": 11, 'arrive': 11, 'uncomfortable': 11, 'scares': 11, 'cast': 11, 'beard': 11, \"'til\": 11, 'jokes': 11, \"mom's\": 11, 'action': 11, 'uhhh': 11, 'hmmm': 11, 'general': 11, 'strange': 11, 'bubble': 11, 'whip': 11, 'letting': 11, 'saving': 11, 'copy': 11, '25': 11, 'approaching': 11, 'choose': 11, 'safe': 11, 'faster': 11, 'delicious': 11, 'sandwiches': 11, 'popular': 11, 'breezy': 11, 'asks': 11, 'catching': 11, 'followed': 11, 'male': 11, 'tennis': 11, 'puzzle': 11, \"sister's\": 11, 'fling': 11, 'knees': 11, 'support': 11, 'grabbing': 11, 'packing': 11, 'pig': 11, 'process': 11, 'cha': 11, 'coats': 11, 'chan': 11, 'cereal': 11, 'dropping': 11, 'science': 11, 'shed': 11, 'flip': 11, 'jamie:': 11, 'bout': 11, 'meanwhile': 11, 'state': 11, 'blank': 11, 'princess': 11, 'dollar': 11, 'luisa': 11, 'reasons': 11, 'intrigued': 11, 'vet': 11, 'yo': 11, 'rip': 11, 'haircut': 11, 'ewww': 11, 'according': 11, 'slip': 11, 'quitting': 11, 'selling': 11, '[grabs': 11, 'flips': 11, 'r': 11, 'blame': 11, 'hates': 11, 'consider': 11, 'coin': 11, 'needle': 11, '100': 11, 'p': 11, 'off]': 11, 'tuesday': 11, 'napkin': 11, \"gettin'\": 11, '[everyone': 11, 'cabin': 11, '[enters]': 11, 'speed': 11, 'barbi': 11, 'guard:': 11, '11': 11, 'homo': 11, 'record': 11, 'fresh': 11, 'minus': 11, 'serves': 11, 'muffin': 11, 'lean': 11, 'kim': 11, 'elizabeth': 11, 'huddle': 11, 'margha:': 11, 'sarah:': 11, 'atlantic': 11, 'somebodys': 11, 'lotion': 11, 'allesandro:': 11, 'guide': 11, 'dum': 11, 'stripper:': 11, 'nosed': 11, 'casino': 11, 'm': 10, 'cancel': 10, 'spit': 10, 'joanne': 10, '[scene': 10, 'banging': 10, 'ignore': 10, 'episode': 10, 'realised': 10, 'lasagne': 10, 'expression': 10, 'twins': 10, 'sweep': 10, 'decisions': 10, 'spits': 10, 'sight': 10, 'odds': 10, 'cartoon': 10, 'soda': 10, 'pleasure': 10, 'lover': 10, 'spots': 10, 'vase': 10, 'pours': 10, 'unusual': 10, 'tosses': 10, 'pepper': 10, 'draw': 10, 'leaning': 10, 'reception': 10, \"tryin'\": 10, 'hook': 10, 'cousin': 10, 'tall': 10, 'photo': 10, 'blew': 10, 'mix': 10, 'brooklyn': 10, 'heights': 10, 'disgusting': 10, 'wings': 10, 'waist': 10, 'climbs': 10, 'ourselves': 10, 'hm': 10, 'responsibility': 10, 'al': 10, \"'kay\": 10, 'remind': 10, 'opportunity': 10, 'breaks': 10, 'expecting': 10, 'trapped': 10, 'parts': 10, 'thoughts': 10, 'sigh': 10, 'sarcastically': 10, 'rubs': 10, 'ahhhh': 10, 'during': 10, 'buttons': 10, 'touching': 10, 'circle': 10, '9': 10, 'yellow': 10, 'brian': 10, 'climb': 10, 'preparing': 10, \"susan's\": 10, 'pretends': 10, 'doorway': 10, 'add': 10, 'tone': 10, 'math': 10, 'shall': 10, 'hops': 10, 'mug': 10, 'taught': 10, 'upon': 10, 'truck': 10, 'monica]': 10, 'licks': 10, 'shuts': 10, 'kay': 10, 'lasagna': 10, 'touches': 10, 'frame': 10, 'killing': 10, 'wrapped': 10, 'roger': 10, 'oops': 10, 'lays': 10, 'c': 10, 'self': 10, 'chasing': 10, \"should've\": 10, 'perfectly': 10, \"talkin'\": 10, 'pin': 10, 'buying': 10, 'sugar': 10, 'flower': 10, 'douglas': 10, 'passionate': 10, 'voice:': 10, \"geller's\": 10, 'rosen:': 10, 'fist': 10, 'dish': 10, 'chin': 10, 'timer': 10, 'lesson': 10, 'competitive': 10, 'buyer': 10, 'opera': 10, 'ad': 10, 'weight': 10, 'click': 10, 'spirit': 10, 'brave': 10, 'boring': 10, 'gate': 10, 'report': 10, 'easier': 10, 'franzblau': 10, 'station': 10, 'remove': 10, 'skirt': 10, 'season': 10, 'lemonade': 10, 'evolution': 10, 'up]': 10, '[pulls': 10, 'in]': 10, 'tv]': 10, 'tissue': 10, '28': 10, 'squeeze': 10, 'bike': 10, 'drives': 10, 'hip': 10, 'especially': 10, 'anyhoo': 10, 'snow': 10, 'rocks': 10, 'offered': 10, 'reminds': 10, 'erica': 10, 'conference': 10, 'shining': 10, \"richard's\": 10, \"eddie's\": 10, 'dies': 10, 'deck': 10, 'isabella:': 10, 'mustve': 10, 'steady': 10, 'enjoying': 10, 'petes': 10, 'vic': 10, 'billy:': 10, 'robin:': 10, 'spin': 10, 'mornings': 10, 'rick:': 10, 'secrets': 10, 'rooster': 10, \"gary's\": 10, 'lurker': 10, 'keeping': 9, 'presents': 9, 'spanish': 9, 'honeymoon': 9, 'summer': 9, 'however': 9, 'burst': 9, 'wooden': 9, 'emotional': 9, 'bursts': 9, 'sofa': 9, 'anytime': 9, 'finishes': 9, 'awake': 9, 'glaring': 9, 'pouring': 9, 'maid': 9, 'ways': 9, 'farm': 9, 'honest': 9, 'account': 9, 'taps': 9, 'begin': 9, 'cow': 9, 'dump': 9, 'gee': 9, \"it'd\": 9, 'rough': 9, 'public': 9, 'kicking': 9, 'passes': 9, \"woman's\": 9, 'player': 9, 'cushion': 9, 'maneuver': 9, 'sleeve': 9, 'sucked': 9, 'separate': 9, 'cart': 9, 'curtain': 9, 'passion': 9, 'ree': 9, 'dammit': 9, \"everybody's\": 9, '300': 9, 'zone': 9, 'amazement': 9, 'track': 9, 'becoming': 9, 'swings': 9, 'snaps': 9, 'nervously': 9, 'junior': 9, 'pencil': 9, 'pre': 9, 'slice': 9, 'terry:': 9, 'possibility': 9, 'shoop': 9, 'belly': 9, 'tomato': 9, \"havin'\": 9, 'holiday': 9, 'scenes': 9, 'slaps': 9, 'certain': 9, 'lousy': 9, \"year's\": 9, 'desperate': 9, 'costume': 9, 'younger': 9, 'embarrassing': 9, 'telephone': 9, 'hero': 9, 'code': 9, 'direction': 9, 'chords': 9, 'knee': 9, 'amused': 9, 'certainly': 9, 'kip': 9, 'charming': 9, 'appointment': 9, 'tomatoes': 9, 'level': 9, 'guilty': 9, 'babe': 9, 'winning': 9, \"man's\": 9, 'loses': 9, 'receipt': 9, 'speech': 9, 'bears': 9, 'steak': 9, 'mentioned': 9, \"that'll\": 9, 'yell': 9, 'susans': 9, 'rushes': 9, 'imitates': 9, 'ink': 9, 'merry': 9, 'relief': 9, 'misses': 9, 'ankle': 9, 'address': 9, 'hugging': 9, 'sun': 9, \"people's\": 9, 'anger': 9, 'drain': 9, 'relationships': 9, 'xerox': 9, 'pile': 9, 'fold': 9, 'cents': 9, 'knob': 9, 'judge': 9, 'outfit': 9, 'gravity': 9, 'treat': 9, 'sounded': 9, \"they've\": 9, 'adult': 9, 'hats': 9, 'rabbit': 9, 'vent': 9, 'jetway': 9, 'blouse': 9, 'bow': 9, \"hadn't\": 9, 'bijan': 9, 'section': 9, \"julie's\": 9, 'nut': 9, '[turns': 9, 'nubbin': 9, 'plenty': 9, '[hands': 9, 'liquor': 9, 'concert': 9, 'reaction': 9, 'taxi': 9, 'back]': 9, 'him]': 9, 'pounds': 9, 'built': 9, 'wore': 9, '[singing]': 9, 'raining': 9, 'brownies': 9, 'mailman': 9, 'darling': 9, 'eaten': 9, 'l': 9, 'backup': 9, 'susie': 9, 'underpants': 9, 'bathroom]': 9, 'official': 9, 'lower': 9, 'fully': 9, 'arriving': 9, 'bert': 9, 'yasmine': 9, 'bread': 9, 'remore:': 9, 'medical': 9, 'soccer': 9, 'remoray': 9, 'eric': 9, 'sand': 9, 'mini': 9, 'including': 9, 'island': 9, 'ideas': 9, 'sweat': 9, 'picnic': 9, 'shyly': 9, 'bride': 9, 'spills': 9, 'shouldve': 9, 'whatd': 9, 'nick': 9, 'genius': 9, 'sarah': 9, 'muffled': 9, 'brothers': 9, 'richards': 9, 'snoring': 9, 'trail': 9, 'hypnosis': 9, 'tim': 9, 'shooting': 9, 'matthews': 9, 'canoe': 9, 'salesman': 9, 'noodle': 9, 'burkart:': 9, 'police': 9, 'sunglasses': 9, 'allesandros': 9, 'poughkeepsie': 9, 'vermont': 9, 'heston:': 9, 'raymond': 9, 'invitation': 9, 'map': 9, 'thee': 9, 'deed': 9, 'krista:': 9, 'nancy:': 9, 'caitlin': 9, 'carl': 8, 'entered': 8, 'seemed': 8, 're': 8, 'pushed': 8, \"brother's\": 8, 'lemme': 8, 'mostly': 8, 'theater': 8, 'pays': 8, 'airplane': 8, 'cutting': 8, 'closely': 8, 'unbelievably': 8, 'forty': 8, 'stars': 8, 'quack': 8, \"barry's\": 8, 'particular': 8, 'attack': 8, 'cheap': 8, 'complaining': 8, 'wrist': 8, 'visibly': 8, \"today's\": 8, 'lid': 8, 'buzzes': 8, 'discovery': 8, 'dragged': 8, 'gasp': 8, 'row': 8, 'forehead': 8, 'garden': 8, 'generous': 8, 'elbows': 8, 'blender': 8, 'louder': 8, 'mumbles': 8, 'kid:': 8, 'nooooo': 8, 'sat': 8, 'dryer': 8, 'shave': 8, 'extremely': 8, \"father's\": 8, 'inappropriate': 8, 'boom': 8, 'bangs': 8, 'pieces': 8, 'league': 8, 'cleaned': 8, 'rolling': 8, 'regret': 8, 'comfort': 8, 'wide': 8, 'bothers': 8, 'prove': 8, 'winner': 8, \"paolo's\": 8, 'common': 8, 'presses': 8, 'lillian:': 8, 'shout': 8, 'raises': 8, 'pumpkin': 8, 'offer': 8, 'dare': 8, 'dick': 8, 'discuss': 8, 'guests': 8, 'planet': 8, 'startled': 8, 'bends': 8, 'somehow': 8, 'condoms': 8, 'sports': 8, 'shots': 8, 'emerges': 8, 'drags': 8, 'balloons': 8, 'sheet': 8, 'caterer': 8, 'poke': 8, 'assistant:': 8, 'recovering': 8, 'switching': 8, 'ronni': 8, 'palace': 8, 'oww': 8, 'bond': 8, 'creepy': 8, 'wash': 8, 'discussing': 8, 'letters': 8, 'shorts': 8, 'processing': 8, 'tapping': 8, 'yummy': 8, 'noises': 8, 'salmon': 8, 'crystal': 8, 'combination': 8, 'smoked': 8, 'spins': 8, 'dads': 8, 'gotcha': 8, 'appears': 8, 'refrigerator': 8, 'diaper': 8, 'flat': 8, 'breathing': 8, 'training': 8, 'bright': 8, 'miracle': 8, 'theyve': 8, 'insurance': 8, 'screw': 8, 'slightly': 8, 'cried': 8, 'hooker': 8, 'amount': 8, 'basement': 8, 'dart': 8, 'president': 8, 'mood': 8, 'boarding': 8, 'describe': 8, 'filled': 8, 'humping': 8, 'stalin': 8, 'spare': 8, 'diego': 8, 'cops': 8, 'boob': 8, 'dial': 8, 'react': 8, '13': 8, 'luggage': 8, 'melanie:': 8, \"nothin'\": 8, 'paulo': 8, \"men's\": 8, 'swig': 8, 'brain': 8, 'coulda': 8, 'allergic': 8, 'briefcase': 8, 'abandoned': 8, 'stayed': 8, 'jewelry': 8, 'someplace': 8, 'machine:': 8, 'smaller': 8, 'sunday': 8, 'driver': 8, 'whew': 8, 'ly': 8, 'restraunt': 8, \"movin'\": 8, '[opens': 8, '[leaves]': 8, 'convinced': 8, 'nap': 8, 'resume': 8, 'it]': 8, 'graduation': 8, 'knocked': 8, 'invisible': 8, 'talented': 8, 'dull': 8, 'exchange': 8, 'perhaps': 8, 'a:': 8, '[throws': 8, \"director's\": 8, 'damme': 8, 'thread': 8, 'dave': 8, 'paint': 8, 'rich': 8, 'star:': 8, 'carton': 8, 'tilly:': 8, 'pah': 8, '29': 8, 'indian': 8, 'moondance': 8, 'committee': 8, 'warming': 8, 'salt': 8, 'bong': 8, 'hired': 8, 'swim': 8, 'girlfriends': 8, 'scare': 8, 'hed': 8, 'jasmine:': 8, 'oo': 8, 'grandmothers': 8, 'england': 8, 'available': 8, 'student:': 8, 'patting': 8, 'til': 8, '[sequence': 8, 'peephole': 8, 'chipper': 8, 'lobby': 8, 'beth': 8, 'hiding': 8, 'sticky': 8, 'issac': 8, 'confident': 8, 'petty': 8, 'rehearsal': 8, 'lynch:': 8, 'embryos': 8, 'althea': 8, 'tom': 8, 'backing': 8, 'heston': 8, 'flirt': 8, 'chapel': 8, 'telethon': 8, 'pbs': 8, 'resolution': 8, 'katie': 8, 'blackjack': 8, 'cleansing': 7, 'hammer': 7, 'gravy': 7, 'potato': 7, 'issue': 7, 'deadpan': 7, 'shaped': 7, 'stereo': 7, 'hers': 7, 'sharing': 7, 'whipped': 7, 'fifth': 7, 'andrea': 7, 'dances': 7, 'hardly': 7, 'jungle': 7, 'snap': 7, 'assume': 7, 'problems': 7, 'boots': 7, 'prison': 7, 'worker': 7, 'whose': 7, 'engagement': 7, 'ohhhhh': 7, 'pan': 7, 'perspective': 7, 'mmmm': 7, 'altar': 7, 'papers': 7, 'cancer': 7, 'folks': 7, 'imaginary': 7, 'supportive': 7, 'farber': 7, 'mouse': 7, 'belongs': 7, 'challenge': 7, \"'you\": 7, \"'i'm\": 7, 'lighter': 7, 'winces': 7, 'decaf': 7, 'eventually': 7, 'weak': 7, 'uses': 7, 'nono': 7, 'th': 7, 'impression': 7, 'bugs': 7, 'impossible': 7, 'sock': 7, \"somebody's\": 7, 'counting': 7, 'village': 7, 'puck': 7, 'flies': 7, 'magical': 7, 'spinning': 7, 'strike': 7, 'laying': 7, \"friend's\": 7, 'crowd': 7, 'shirts': 7, 'bras': 7, 'bob:': 7, 'wound': 7, 'peep': 7, 'wiping': 7, 'brand': 7, 'doom': 7, 'gesturing': 7, 'sighs': 7, 'windows': 7, 'applause': 7, 'cellular': 7, 'proudly': 7, 'contact': 7, 'writes': 7, 'candle': 7, 'choking': 7, 'se': 7, 'swing': 7, 'negative': 7, 'possibly': 7, \"nana's\": 7, 'sea': 7, 'silver': 7, 'penis': 7, 'ups': 7, 'lowell:': 7, 'skiing': 7, 'officially': 7, 'lay': 7, 'poster': 7, 'v': 7, 'kinds': 7, 'often': 7, 'shadow': 7, 'panicked': 7, \"walkin'\": 7, 'badly': 7, 'thankful': 7, \"mother's\": 7, 'protest': 7, 'hop': 7, 'diet': 7, 'torn': 7, 'whistle': 7, 'grandfather': 7, 'menu': 7, 'tequila': 7, \"lookin'\": 7, 'rehearsing': 7, 'sketch': 7, 'tasted': 7, 'thermos': 7, 'swoop': 7, 'girls:': 7, 'boobies': 7, 'stays': 7, 'memory': 7, 'cuter': 7, 'pancakes': 7, 'guts': 7, \"god's\": 7, 'loving': 7, \"'oh\": 7, 'cheating': 7, 'mountain': 7, 'blond': 7, 'sneaks': 7, \"thing's\": 7, 'needy': 7, 'lorraine': 7, 'yells': 7, 'quarters': 7, 'enjoyed': 7, 'boxer': 7, 'pure': 7, 'wenus': 7, 'create': 7, 'lifts': 7, 'mousse': 7, 'wendy': 7, 'loss': 7, 'impressed': 7, 'remains': 7, 'faking': 7, 'liam': 7, 'carols': 7, 'friday': 7, 'fran:': 7, 'till': 7, 'embrace': 7, 'flan': 7, 'slapping': 7, 'x': 7, 'hike': 7, 'north': 7, \"takin'\": 7, 'crime': 7, 'betty': 7, 'wuss': 7, 'hummus': 7, 'uptown': 7, 'spoiled': 7, 'stood': 7, 'style': 7, 'cinnamon': 7, 'games': 7, 'camp': 7, 'ooooh': 7, 'sample': 7, 'fixing': 7, 'duh': 7, 'answered': 7, 'slide': 7, 'riding': 7, 'tap': 7, 'memories': 7, 'kills': 7, 'baldhara:': 7, 'wipes': 7, 'onstage': 7, 'ranger': 7, 'system': 7, '17': 7, 'jordie': 7, 'project': 7, 'jeez': 7, 'h': 7, 'attendant': 7, 'jr': 7, 'wrestling': 7, 'weddings': 7, 'natural': 7, 'annabelle:': 7, 'obsessive': 7, 'teeny': 7, 'lighting': 7, '[hangs': 7, '[in': 7, 'naa': 7, 'kiss]': 7, 'apartment]': 7, 'chop': 7, 'kidney': 7, 'whoever': 7, 'cooler': 7, 'benny': 7, 'repeat': 7, 'mole': 7, '[looks': 7, 'chases': 7, 'closure': 7, 'prepared': 7, 'hum': 7, 'pound': 7, 'shoulder]': 7, 'willing': 7, '[sees': 7, 'rachel]': 7, '6': 7, 'mailbox': 7, 'someday': 7, 'bounces': 7, 'rose': 7, 'remore': 7, '[both': 7, 'bastard': 7, 'enter]': 7, 'fooling': 7, 'ye': 7, '18': 7, 'collection': 7, 'tux': 7, 'dangerous': 7, 'whom': 7, 'twinkie': 7, 'hood': 7, 'there]': 7, 'joined': 7, 'writers': 7, 'beginning': 7, 'bikini': 7, 'signs': 7, 'bullies': 7, 'buffay:': 7, 'pizzas': 7, \"girl's\": 7, 'build': 7, 'bridesmaid': 7, 'entering]': 7, 'tow': 7, 'dragon': 7, 'nevermind': 7, 'dialing': 7, 'donald': 7, 'hears': 7, 'malcom': 7, 'mike:': 7, 'chose': 7, 'wipe': 7, 'peter': 7, 'isabella': 7, 'handles': 7, 'sickness': 7, 'cheater': 7, 'theyll': 7, 'review': 7, 'kaplan:': 7, 'storage': 7, 'sister:': 7, 'oclock': 7, 'partners': 7, 'millionaire': 7, 'whore': 7, 'globe': 7, 'philly': 7, 'sergei:': 7, 'frozen': 7, 'aspirin': 7, 'employee:': 7, 'fog': 7, 'sneezes': 7, 'maker': 7, 'suggestion': 7, 'quacking': 7, 'medicine': 7, \"pete's\": 7, 'cough': 7, 'jellyfish': 7, 'flyer': 7, 'amanda:': 7, 'thick': 7, 'kathys': 7, 'fishing': 7, 'guide:': 7, 'needless': 7, 'category': 7, 'pregnancy': 7, 'clint': 7, 'stink': 7, 'd:': 7, 'liam:': 7, 'abbey': 7, 'suite': 7, \"emily's\": 7, 'dan:': 7, 'selfless': 7, 'gala': 7, 'godfather': 7, 'desert': 7, 'gladiator': 7, 'slot': 7, 'cafeteria': 6, 'reached': 6, 'grabbed': 6, 'roses': 6, 'comforting': 6, 'horrified': 6, 'aruba': 6, 'plant': 6, 'spoil': 6, 'pacing': 6, 'dials': 6, 'ripped': 6, 'gathered': 6, 'fifty': 6, 'cave': 6, 'paranoid': 6, \"'hi\": 6, 'snack': 6, 'satisfied': 6, 'recently': 6, 'chances': 6, 'complicated': 6, 'hesitates': 6, \"baby's\": 6, 'willick': 6, 'language': 6, 'chi': 6, 'within': 6, 'paula:': 6, 'alan:': 6, 'rhyme': 6, 'spray': 6, 'opened': 6, 'contest': 6, 'collect': 6, 'disease': 6, 'stepped': 6, 'peace': 6, 'eleven': 6, 'physical': 6, 'dairy': 6, 'tips': 6, 'firm': 6, 'brief': 6, 'waitressing': 6, 'specials': 6, 'magazines': 6, 'madison': 6, 'un': 6, 'shoots': 6, 'leading': 6, 'receptionist:': 6, 'forms': 6, 'shy': 6, 'steel': 6, 'agrees': 6, 'coincidence': 6, 'pose': 6, \"tellin'\": 6, 'tons': 6, 'fuzzy': 6, 'espresso': 6, 'vegetables': 6, 'squirrel': 6, 'downs': 6, 'noticed': 6, 'spilled': 6, '24': 6, 'female': 6, 'talent': 6, 'agency': 6, 'based': 6, 'thursday': 6, 'fantasy': 6, 'tricky': 6, 'concept': 6, 'struggling': 6, 'moments': 6, 'film': 6, 'introducing': 6, 'goodacre': 6, 'lit': 6, 'golf': 6, 'playfully': 6, 'waited': 6, 'classic': 6, 'technically': 6, 'shown': 6, 'beside': 6, 'photos': 6, 'terry': 6, 'advance': 6, \"sayin'\": 6, 'spill': 6, 'cologne': 6, 'prefer': 6, 'fork': 6, 'loose': 6, 'advantage': 6, 'funniest': 6, 'involve': 6, 'material': 6, 'suicide': 6, 'manager': 6, 'slap': 6, 'pact': 6, 'noisy': 6, 'speaks': 6, 'scientist': 6, 'officer': 6, 'tools': 6, 'favour': 6, 'nowhere': 6, 'fella': 6, 'phrase': 6, 'dragging': 6, 'tackles': 6, 'dip': 6, 'popcorn': 6, 'lawyer': 6, 'arrested': 6, 'visit': 6, 'racquetball': 6, 'handsome': 6, 'karen': 6, 'nightmare': 6, 'bomb': 6, 'upside': 6, 'humming': 6, 'jeannie': 6, 'grimaces': 6, 'yogurt': 6, 'danielle': 6, 'nauseous': 6, 'chuckles': 6, 'giggling': 6, 'ooo': 6, 'actress': 6, 'scores': 6, 'drying': 6, 'liking': 6, 'ship': 6, 'geez': 6, 'pets': 6, 'folds': 6, 'james': 6, \"valentine's\": 6, 'lick': 6, 'dessert': 6, 'champagne': 6, 'roy': 6, 'kristin': 6, 'hysterically': 6, '3:': 6, 'client': 6, 'celia:': 6, 'claws': 6, 'french': 6, 'professional': 6, 'soft': 6, 'peeing': 6, 'smack': 6, 'meaning': 6, 'package': 6, 'cabinet': 6, 'exhausted': 6, 'painful': 6, 'court': 6, 'whether': 6, 'peed': 6, 'lamaze': 6, 'girlie': 6, 'several': 6, 'alrighty': 6, 'ignoring': 6, 'nearby': 6, 'cardigan': 6, 'capades': 6, 'fortunately': 6, 'alarm': 6, 'whoo': 6, 'interest': 6, 'everythings': 6, 'slight': 6, 'monkeys': 6, 'avoiding': 6, 'carefully': 6, 'similar': 6, 'hon': 6, 'pole': 6, 'edge': 6, 'filling': 6, 'america': 6, 'fortune': 6, 'admissions': 6, 'freaking': 6, 'musta': 6, 'resist': 6, 'further': 6, 'scrabble': 6, 'meal': 6, 'childhood': 6, 'escape': 6, 'drawing': 6, 'zero': 6, 'sadly': 6, 'skills': 6, 'claps': 6, 'poo': 6, 'russian': 6, 'per': 6, 'punish': 6, 'peanut': 6, 'engaged': 6, 'apples': 6, 'packed': 6, 'devil': 6, 'dresser': 6, 'classes': 6, 'cows': 6, 'circus': 6, 'continue': 6, 'understands': 6, 'stronger': 6, 'musical': 6, 'lydia': 6, 'cramp': 6, 'tiger': 6, 'parade': 6, 'carl:': 6, 'ninth': 6, 'dig': 6, 'easily': 6, 'shorter': 6, 'moore': 6, 'causes': 6, 'switched': 6, 'above': 6, 'snake': 6, 'clue': 6, '[knock': 6, 'entrance': 6, 'award': 6, '[goes': 6, 'jane': 6, 'afford': 6, 'blowfish': 6, 'kiwi': 6, 'stephanie': 6, 'caroline:': 6, 'practicing': 6, 'clowns': 6, 'unemployed': 6, 'scott': 6, 'energy': 6, '[runs': 6, 'approval': 6, 'chefs': 6, '[reaches': 6, 'ankles': 6, 'trusted': 6, 'bars': 6, 'hopes': 6, 'cash': 6, 'balls': 6, 'towels': 6, 'gang:': 6, '[gets': 6, 'meadow': 6, 'hut': 6, 'pharmacist': 6, 'out]': 6, 'franks': 6, 'irish': 6, 'estl:': 6, 'callback': 6, 'marinara': 6, '[at': 6, '[mrs': 6, \"adelman's\": 6, 'rod': 6, 'option': 6, 'chris': 6, 'lipson:': 6, 'bat': 6, 'jean': 6, 'actors': 6, 'moss': 6, 'stall': 6, 'vcr': 6, 'info': 6, 'captain': 6, 'brunch': 6, 'decorated': 6, 'bumps': 6, 'rainy': 6, 'forced': 6, 'nothin': 6, 'nights': 6, 'pops': 6, 'removing': 6, 'ceramic': 6, 'waved': 6, 'parking': 6, 'digging': 6, 'stock': 6, 'mugs': 6, 'prepare': 6, 'goodness': 6, 'ocean': 6, 'processor': 6, 'mits': 6, 'angle': 6, 'ushers': 6, 'wineburg:': 6, 'adding': 6, 'leia': 6, 'private': 6, 'caller': 6, 'tick': 6, 'period': 6, 'whitfield:': 6, 'student': 6, 'freedom': 6, 'finding': 6, 'wire': 6, 'non': 6, 'sleepy': 6, 'color': 6, 'melt': 6, 'international': 6, 'gnight': 6, 'jasmine': 6, 'bumped': 6, 'eric:': 6, 'ehh': 6, 'degree': 6, 'students': 6, 'messed': 6, 'sapien': 6, 'nasally': 6, 'shotgun': 6, 'margha': 6, 'celebration': 6, 'flashes': 6, 'panics': 6, 'triumph': 6, 'racquet': 6, 'related': 6, 'ralph': 6, 'clerk': 6, 'burger': 6, 'walls': 6, 'lecture': 6, 'boutros': 6, 'hadnt': 6, 'invented': 6, 'chicks': 6, 'member': 6, 'lilly': 6, 'counts': 6, 'necklace': 6, 'shelter': 6, 'cailin:': 6, 'nod': 6, 'quacks': 6, 'rhodes:': 6, 'bouquet': 6, 'couldve': 6, 'robin': 6, 'nail': 6, 'drunken': 6, 'simmons': 6, 'vomit': 6, 'chute': 6, 'amanda': 6, 'cheryl': 6, 'chain': 6, 'flipping': 6, 'blazer': 6, 'relative': 6, 'machines': 6, 'license': 6, 'joshuas': 6, 'hooked': 6, 'scrum': 6, 'drum': 6, 'earring': 6, 'saleslady:': 6, 'everest': 6, 'housekeeper:': 6, 'cellar': 6, 'passenger:': 6, 'harad': 6, 'argh': 6, 'pledge': 6, 'fogged': 6, \"danny's\": 6, 'powder': 6, 'stanley:': 6, 'lurker:': 6, 'chalk': 5, 'hormones': 5, 'de': 5, 'lo': 5, 'noodles': 5, 'string': 5, 'diary': 5, 'choked': 5, 'ju': 5, 'lasted': 5, 'closeness': 5, 'sip': 5, 'smashed': 5, 'western': 5, 'frannie:': 5, 'laughed': 5, 'sale': 5, 'albino': 5, 'carpet': 5, 'cruel': 5, \"y'see\": 5, 'entirely': 5, 'graduated': 5, 'desperately': 5, 'ensues': 5, 'robbie:': 5, 'makeup': 5, 'tilt': 5, 'connecticut': 5, 'cell': 5, 'coughs': 5, 'puff': 5, 'cappucino': 5, 'statement': 5, 'mouthful': 5, 'tipped': 5, 'boyfriends': 5, 'alphabet': 5, 'sprays': 5, 'vendor': 5, 'fetch': 5, 'nicer': 5, 'hurriedly': 5, 'relieved': 5, 'mention': 5, 'omnipotent': 5, 'ninety': 5, 'halloween': 5, 'kingdom': 5, 'joanne:': 5, \"women's\": 5, 'contents': 5, \"'scuse\": 5, 'onion': 5, 'tense': 5, 'glow': 5, 'losers': 5, 'rubber': 5, 'bam': 5, 'handed': 5, 'extended': 5, 'casually': 5, 'freaky': 5, \"name's\": 5, 'tile': 5, 'horribly': 5, 'suds': 5, 'german': 5, 'colors': 5, 'coaching': 5, 'oughta': 5, 'audience': 5, 'program': 5, 'considering': 5, 'aware': 5, 'aurora': 5, 'luckily': 5, 'theory': 5, 'greeting': 5, 'floors': 5, 'grocery': 5, 'became': 5, 'hire': 5, 'desperation': 5, 'acted': 5, 'model': 5, 'blackout': 5, 'chanukah': 5, 'senior': 5, 'fixed': 5, 'mental': 5, 'note:': 5, 'scratches': 5, 'flinches': 5, 'owner': 5, 'exhales': 5, 'blowing': 5, 'italy': 5, 'waits': 5, \"else's\": 5, 'circles': 5, 'draws': 5, 'debbie': 5, 'drawers': 5, 'lowell': 5, 'lemon': 5, 'higher': 5, 'frightening': 5, 'belt': 5, 'reaching': 5, 'seventeen': 5, 'wasting': 5, 'drove': 5, 'services': 5, 'confronting': 5, 'vail': 5, 'slash': 5, 'crosses': 5, 'lumps': 5, 'celebrating': 5, 'mimicking': 5, \"macy's\": 5, \"they'd\": 5, 'balloon': 5, 'bagel': 5, 'lock': 5, 'burned': 5, \"nobody's\": 5, 'beating': 5, 'precious': 5, \"monkey's\": 5, 'victim': 5, 'mike': 5, 'discussion': 5, 'wanders': 5, 'gentleman': 5, 'jingle': 5, 'sweeping': 5, 'blonde': 5, 'startles': 5, 'geek': 5, 'tooth': 5, 'jay': 5, 'leno:': 5, 'occasionally': 5, 'intimate': 5, 'fabulous': 5, 'teams': 5, 'dive': 5, 'written': 5, 'copies': 5, 'grip': 5, 'goggles': 5, 'whips': 5, 'kisser': 5, 'opinion': 5, 'inches': 5, 'annoyed': 5, 'imagination': 5, 'whoops': 5, 'cappuccino': 5, 'balance': 5, 'plates': 5, 'anti': 5, 'heading': 5, 'puppet': 5, 'navy': 5, 'burning': 5, 'ours': 5, 'freaks': 5, 'sake': 5, 'trading': 5, 'compared': 5, 'kristin:': 5, 'alcohol': 5, 'cider': 5, 'workers': 5, 'net': 5, 'term': 5, 'added': 5, 'ahem': 5, 'celia': 5, 'pictured': 5, 'cuddling': 5, 'streets': 5, 'approach': 5, 'main': 5, 'earth': 5, 'sporting': 5, 'stepping': 5, 'triumphantly': 5, 'mothers': 5, 'fathers': 5, 'glare': 5, 'thigh': 5, 'jamie': 5, 'indicating': 5, 'strangers': 5, 'argument': 5, 'fits': 5, 'clipboard': 5, 'bay': 5, 'caring': 5, 'mitchell': 5, 'concentrate': 5, 'williamsburg': 5, 'bones': 5, 'limps': 5, 'receiver': 5, 'apology': 5, 'directly': 5, 'stolen': 5, 'connected': 5, \"'k'\": 5, 'recoil': 5, 'river': 5, 'dealer': 5, 'bluffing': 5, 'press': 5, 'lion': 5, 'iris:': 5, 'owes': 5, 'fifteen': 5, 'cross': 5, 'eyed': 5, 'chat': 5, 'deals': 5, 'waste': 5, 'popping': 5, 'mee': 5, 'bean': 5, 'mint': 5, 'amish': 5, 'capital': 5, 'reacting': 5, 'illegal': 5, 'jail': 5, 'friendly': 5, 'sweaty': 5, 'yea': 5, 'study': 5, 'sending': 5, 'generally': 5, 'creeps': 5, 'floss': 5, 'radiator': 5, 'danielle:': 5, 'curious': 5, 'stores': 5, 'starring': 5, 'unsure': 5, 'monana': 5, \"marcel's\": 5, 'dealing': 5, 'safety': 5, 'handling': 5, 'whatcha': 5, 'pillows': 5, \"'till\": 5, 'role': 5, 'extinct': 5, 'judging': 5, 'held': 5, 'states': 5, 'fades': 5, 'walkman': 5, 'margaritas': 5, 'spoke': 5, 'comment': 5, 'players': 5, 'ironic': 5, 'bodies': 5, 'currently': 5, 'growing': 5, 'jell': 5, 'baseball': 5, 'nodding': 5, 'sweetest': 5, 'practically': 5, 'pardon': 5, 'waffles': 5, 'melanie': 5, 'incoherently': 5, 'headphones': 5, 'electric': 5, 'climbing': 5, 'bleeding': 5, 'crotch': 5, 'frankie': 5, 'adorable': 5, 'spoons': 5, 'ladle': 5, \"bloomingdale's\": 5, 'understood': 5, 'bottles': 5, 'sooner': 5, 'lingerie': 5, 'oy': 5, 'fossils': 5, 'cared': 5, 'believed': 5, 'smallest': 5, 'useless': 5, 'again]': 5, 'hug]': 5, 'her]': 5, 'dancer': 5, 'saves': 5, 'darn': 5, 'beep': 5, 'purchasing': 5, 'happiness': 5, 'prices': 5, 'sneeze': 5, 'hootie': 5, \"where'd\": 5, 'costs': 5, 'replace': 5, 'dated': 5, 'thro': 5, 'spelled': 5, 'gig': 5, 'seventy': 5, 'condom': 5, 'flipped': 5, 'curb': 5, 'couches': 5, 'questioning': 5, 'spandex': 5, \"whad'ya\": 5, '[on': 5, '[reading': 5, 'offense': 5, \"grandmother's\": 5, 'argue': 5, 'phones': 5, 'pigeons': 5, 'seize': 5, 'gel': 5, 'cheat': 5, 'seizing': 5, '[kisses': 5, '[comes': 5, '[pause]': 5, 'spider': 5, 'phoebe]': 5, 'sharp': 5, 'neurosurgeon': 5, 'tune': 5, 'perk]': 5, 'happier': 5, 'buffet': 5, 'lipson': 5, 'face]': 5, 'hans': 5, '[marcel': 5, 'terms': 5, 'jerry': 5, 'claude': 5, 'pimp': 5, 'flicking': 5, 'sequence': 5, 'impressive': 5, 'bracelet]': 5, 'interviewing': 5, 'unhappy': 5, 'pity': 5, 'friendship': 5, 'pill': 5, 'peeking': 5, 'survived': 5, 'mercial': 5, 'beam': 5, '21': 5, 'peeks': 5, 'bent': 5, 'item': 5, 'discovered': 5, 'france': 5, 'amber:': 5, 'shaft': 5, 'awfully': 5, 'cakes': 5, 'miles': 5, 'yeller': 5, 'cigar': 5, 'meg': 5, 'sweats': 5, 'returned': 5, 'stilts': 5, 'damage': 5, 'lace': 5, 'remembering': 5, 'staging': 5, 'victor': 5, 'pox': 5, 'bolt': 5, 'scratching': 5, 'lifetime': 5, 'sport': 5, 'retreats': 5, 'longingly': 5, '90': 5, 'humiliating': 5, 'copa': 5, 'blinking': 5, 'painted': 5, 'civil': 5, 'fort': 5, 'penny': 5, 'yelled': 5, 'tub': 5, 'fluid': 5, 'log': 5, 'mustard': 5, 'swimmer': 5, 'tribianni': 5, 'product': 5, 'tunnel': 5, 'barrel': 5, 'terminal': 5, 'pearls': 5, 'bleeth': 5, 'manages': 5, 'rosselini': 5, 'masseuse': 5, 'hopping': 5, 'fairly': 5, 'coke': 5, 'thatd': 5, 'pockets': 5, 'causing': 5, 'figures': 5, 'exam': 5, 'curse': 5, 'mans': 5, 'retract': 5, 'endless': 5, 'verge': 5, 'lake': 5, 'hairy': 5, 'innocent': 5, 'trays': 5, 'spacecamp': 5, 'trap': 5, 'leader:': 5, 'geeks': 5, 'goofing': 5, 'waiters': 5, 'jazz': 5, 'quartet:': 5, 'catalog': 5, 'singer:': 5, 'clerk:': 5, 'roller': 5, 'amy': 5, 'bathtub': 5, 'date:': 5, 'litter': 5, 'jurassic': 5, 'insist': 5, 'strips': 5, 'unreasonable': 5, 'nicest': 5, 'becker': 5, 'nurses': 5, 'undo': 5, 'plants': 5, '`cause': 5, 'invitations': 5, 'hoshi': 5, 'dartmouth': 5, '$5': 5, 'proceeds': 5, 'oath': 5, 'accounts': 5, 'josh:': 5, 'platting': 5, \"kathy's\": 5, 'mitzi': 5, 'passport': 5, 'division': 5, 'worker:': 5, 'labour': 5, 'categories': 5, 'literature': 5, 'rounds': 5, '150': 5, 'lollipop': 5, 'hostess': 5, 'relaxi': 5, 'hulk': 5, 'ace': 5, 'frustrated': 5, 'felicity:': 5, 'stones': 5, 'deeds': 5, 'bee': 5, 'programming': 5, 'le': 5, 'eyre': 5, 'macys': 5, 'fireball': 5, 'gossip': 5, 'hornswoggle': 5, 'elizabeth:': 5, \"ain't\": 5, 'kara': 5, 'memorial': 5, 'bicep': 5, 'jen:': 5, 'dropper': 5, 'eyedropper': 5, \"caesar's\": 5, 'craps': 5, 'dealer:': 5, 'tied': 4, 'grandchildren': 4, 'hurting': 4, 'joint': 4, 'lincoln': 4, 'umbrella': 4, 'defeated': 4, 'bridesmaids': 4, \"'n'\": 4, \"'why\": 4, 'characters': 4, \"'you're\": 4, 'sings': 4, 'helped': 4, 'buzz': 4, \"'not\": 4, 'headed': 4, 'pigeon': 4, 'attach': 4, 'worm': 4, 'bookcase': 4, 'drank': 4, '26': 4, 'rocky': 4, 'cherry': 4, 'spell': 4, 'chachi': 4, 'bound': 4, 'holy': 4, \"angela's\": 4, 'birthdays': 4, 'hanger': 4, 'universe': 4, 'scissors': 4, 'comedian': 4, 'exhibit': 4, 'marsha:': 4, 'mastodon': 4, 'scaring': 4, 'concerned': 4, 'sonogram': 4, 'multiple': 4, 'independent': 4, 'chubby': 4, 'ob/gyn': 4, 'patient': 4, 'orthodontist': 4, 'arguing': 4, 'oberman:': 4, \"'we\": 4, \"'it's\": 4, 'rehearse': 4, 'reluctantly': 4, 'shouts': 4, 'searches': 4, 'dubious': 4, 'gear': 4, \"d'you\": 4, 'pretzel': 4, 'chewing': 4, \"there'll\": 4, 'forest': 4, 'constantly': 4, 'rangers': 4, 'twentieth': 4, 'puzzled': 4, 'kiki:': 4, 'whines': 4, 'peach': 4, 'pit': 4, 'dumping': 4, 'reality': 4, 'pajamas': 4, 'rum': 4, 'prep': 4, 'visa': 4, 'reference': 4, 'promoted': 4, 'possibilities': 4, 'yesss': 4, 'receptionist': 4, 'binoculars': 4, 'panel': 4, 'moonlight': 4, 'moon': 4, 'seventh': 4, 'considered': 4, 'grasp': 4, 'monopoly': 4, 'disco': 4, 'rat': 4, 'fluffy': 4, 'convince': 4, 'nuh': 4, 'shutting': 4, 'moose': 4, 'gulp': 4, 'brutal': 4, 'detergent': 4, 'virgin': 4, 'whites': 4, 'cotton': 4, 'exposed': 4, 'broadway': 4, 'lightly': 4, 'ease': 4, 'inch': 4, 'joyous': 4, 'dim': 4, 'heavily': 4, 'violated': 4, 'usher': 4, 'italics': 4, 'block': 4, 'sliding': 4, 'twisted': 4, 'vacuum': 4, 'scratch': 4, 'kook': 4, 'wood': 4, 'crack': 4, \"wife's\": 4, 'crappy': 4, 'buries': 4, 'chord': 4, 'manhattan': 4, 'weirdest': 4, 'acts': 4, 'shhhh': 4, 'explanation': 4, 'wonders': 4, 'perfection': 4, 'sixes': 4, 'gasping': 4, 'disgustedly': 4, 'taller': 4, 'vice': 4, 'below': 4, 'shelley': 4, 'bon': 4, 'beeped': 4, 'buried': 4, 'burgundy': 4, 'mud': 4, 'wise': 4, 'woooo': 4, 'ham': 4, 'positive': 4, \"bein'\": 4, 'traditional': 4, 'obsession': 4, 'washington': 4, 'paleontology': 4, 'goin': 4, 'burnt': 4, 'propose': 4, 'ding': 4, 'lab': 4, 'political': 4, 'resting': 4, 'scientists': 4, 'grace': 4, 'sixth': 4, 'snapped': 4, 'glances': 4, 'blast': 4, 'juggling': 4, 'sandy:': 4, 'sandy': 4, 'cabs': 4, 'bobby:': 4, 'necessarily': 4, 'snatches': 4, 'diapers': 4, \"'yeah\": 4, 'pride': 4, 'flames': 4, 'knitting': 4, 'shaving': 4, 'european': 4, 'uhhhh': 4, \"'a\": 4, 'undone': 4, 'absolute': 4, 'syl': 4, 'physically': 4, 'interrupts': 4, '4:30': 4, 'yum': 4, 'patio': 4, 'suitcase': 4, 'butts': 4, 'swearing': 4, 'screening': 4, 'babbling': 4, 'barge': 4, 'privacy': 4, 'telescope': 4, 'adults': 4, 'sucking': 4, 'laid': 4, 'ideal': 4, 'sting': 4, 'express': 4, 'lent': 4, 'lorraine:': 4, \"waitin'\": 4, 'jerks': 4, 'ritual': 4, \"dinner's\": 4, 'zipper': 4, 'rob': 4, 'scooch': 4, 'firemen': 4, 'seek': 4, 'typing': 4, 'length': 4, 'dreams': 4, 'owned': 4, 'neighborhood': 4, 'soothing': 4, 'tones': 4, 'tests': 4, 'personality': 4, 'grape': 4, 'fifteenth': 4, 'rejection': 4, 'overhears': 4, 'tartlets': 4, 'macaroni': 4, 'gummi': 4, 'plot': 4, 'supposedly': 4, 'buddies': 4, 'sap': 4, 'chopsticks': 4, 'learning': 4, 'basic': 4, 'cradled': 4, 'inner': 4, 'scarf': 4, 'swordfish': 4, 'wool': 4, 'avoid': 4, 'knit': 4, 'guilt': 4, 'psychiatrist': 4, 'anxiously': 4, 'freezing': 4, 'railing': 4, 'takin': 4, 'attached': 4, 'rosen': 4, 'defend': 4, 'squeezed': 4, 'warn': 4, 'resigned': 4, 'pleading': 4, 'automatically': 4, 'operating': 4, 'approve': 4, 'stirs': 4, 'scones': 4, \"'the\": 4, 'lame': 4, 'response': 4, 'microwave': 4, 'spades': 4, 'clubs': 4, 'beg': 4, 'oooooh': 4, 'cursed': 4, 'yourselves': 4, 'wherever': 4, 'tic': 4, 'buck': 4, 'barbara': 4, 'dumbfounded': 4, \"time's\": 4, 'nudity': 4, 'pooped': 4, 'waffle': 4, 'murder': 4, 'east': 4, 'exotic': 4, 'creature': 4, 'upper': 4, 'searching': 4, 'fires': 4, 'frustration': 4, 'bananas': 4, 'patti': 4, 'creep': 4, 'gag': 4, 'spun': 4, 'scratched': 4, 'smelling': 4, 'sniffs': 4, 'steals': 4, 'buys': 4, 'sales': 4, 'supplies': 4, 'pennsylvania': 4, 'cones': 4, 'access': 4, 'cheerleader': 4, 'celtics': 4, 'flame': 4, 'teddy': 4, 'session': 4, 'belive': 4, 'drill': 4, 'clients': 4, 'paleontologist': 4, 'labor': 4, '55': 4, '22': 4, 'wears': 4, 'amusing': 4, 'icky': 4, 'discover': 4, 'stevie': 4, 'petrie': 4, 'struts': 4, 'nephew': 4, 'contraction': 4, 'awhile': 4, '40': 4, \"lydia's\": 4, 'exploded': 4, 'paris': 4, 'success': 4, 'barbecue': 4, 'buns': 4, 'coffeehouse': 4, 'travel': 4, 'wrapping': 4, 'gut': 4, 'delivered': 4, 'tailor': 4, 'altered': 4, 'nickel': 4, 'demi': 4, 'ghost': 4, 'rear': 4, 'muffins': 4, 'annabelle': 4, \"mornin'\": 4, 'faith': 4, 'licked': 4, 'rim': 4, 'simple': 4, 'baddest': 4, 'west': 4, 'pissed': 4, 'signing': 4, 'excessive': 4, 'tacky': 4, 'blood': 4, 'trains': 4, 'supposably': 4, 'facts': 4, 'lonely': 4, 'table]': 4, 'stranger': 4, 'stranger:': 4, 'huuh': 4, 'terrace': 4, 'porno': 4, '[holding': 4, 'wooo': 4, 'k': 4, 'thomas': 4, 'cobb': 4, 'partying': 4, 'leon': 4, 'source': 4, 'radio': 4, 'virus': 4, 'steaks': 4, 'charity': 4, 'shoulda': 4, 'awesome': 4, 'bumpy': 4, 'backstage': 4, 'bust': 4, 'goo': 4, 'lime': 4, 'erase': 4, \"workin'\": 4, 'thousands': 4, 'sidewalk': 4, 'neighbors': 4, 'carrot': 4, 'minor': 4, 'beauty': 4, 'jogging': 4, 'flash': 4, 'down]': 4, 'rack': 4, 'brilliant': 4, 'kleenex': 4, 'tissues': 4, 'paper]': 4, 'dreaming': 4, 'realizing': 4, 'truly': 4, 'swallow': 4, 'false': 4, 'recipes': 4, 'column': 4, 'lord': 4, 'trek': 4, 'drapes': 4, 'coconut': 4, 'crushed': 4, 'radio:': 4, '[sings]': 4, 'eve': 4, \"boss's\": 4, 'crossing': 4, 'phoe': 4, 'box]': 4, 'whiney': 4, 'cab]': 4, 'ability': 4, 'blades': 4, 'levels': 4, 'soooo': 4, 'ummm': 4, 'flag': 4, '[russ': 4, 'ordering': 4, 'successful': 4, 'expected': 4, 'nude': 4, 'statue': 4, 'monkeyshine': 4, 'stalker': 4, 'donated': 4, 'maniac': 4, 'salem': 4, \"doctor's\": 4, 'purple': 4, 'kaplan': 4, 'muscles': 4, 'wham': 4, 'tag': 4, 'responsibilities': 4, 'lifted': 4, 'thong': 4, 'strings': 4, 'occasion': 4, 'sunshine': 4, 'lobsters': 4, 'lend': 4, 'symbol': 4, 'paycheck': 4, '[sits': 4, 'wars': 4, 'himself]': 4, 'knight': 4, 'chirping': 4, 'head]': 4, 'laser': 4, 'models': 4, 'rolled': 4, 'toothbrush': 4, 'lads': 4, '[enters': 4, 'friend:': 4, 'place]': 4, 'fellas': 4, 'crisis': 4, 'porsche': 4, 'deciding': 4, 'march': 4, 'ernie': 4, 'jumped': 4, '[looking': 4, 'line]': 4, 'pals': 4, '[eddie': 4, 'zooms': 4, 'amber': 4, 'violation': 4, 'terrified': 4, '42': 4, 'thinkin': 4, 'oat': 4, '[later': 4, 'application': 4, 'approved': 4, 'bathrobe': 4, 'bearer': 4, 'due': 4, 'alley': 4, 'cocktail': 4, 'na': 4, 'tiles': 4, '[starts': 4, 'mama': 4, 'baked': 4, 'century': 4, 'hamburger': 4, 'market': 4, 'doggie': 4, 'jackets': 4, 'proved': 4, 'fists': 4, 'handful': 4, 'shush': 4, 'greene]': 4, 'dinosaurs': 4, 'righty': 4, 'smoker': 4, 'suspicious': 4, 'leroy': 4, 'scott:': 4, 'houses': 4, \"other's\": 4, 'shipping': 4, 'hint': 4, 'beatty': 4, 'flashing': 4, 'chesh': 4, 'wheel': 4, 'sky': 4, 'betting': 4, 'competition': 4, 'recognize': 4, 'stain': 4, 'sweatshirt': 4, 'erased': 4, 'outgoing': 4, 'awwww': 4, 'docks': 4, 'fights': 4, 'ling': 4, 'shelf': 4, 'chelsea': 4, 'busted': 4, 'bea': 4, 'trips': 4, 'coughing': 4, 'checkbook': 4, 'sneak': 4, 'janices': 4, 'classroom': 4, 'groans': 4, 'chiropractor': 4, 'signed': 4, 'jester:': 4, 'lookin': 4, 'doo': 4, 'sapiens': 4, 'babysitting': 4, 'weee': 4, 'speacial': 4, 'barium': 4, 'reciept': 4, 'tellin': 4, 'darts': 4, 'lionel': 4, 'kindve': 4, 'jersey': 4, 'nailed': 4, 'intercepted': 4, 'salute': 4, 'flapping': 4, 'championship': 4, 'outer': 4, 'prize': 4, 'treasures': 4, 'scrud': 4, 'unintelligible': 4, 'pickle': 4, 'cookie:': 4, 'eavesdropping': 4, 'moaning': 4, 'magician': 4, 'slamming': 4, 'poetry': 4, 'bass': 4, 'roberts': 4, 'squishing': 4, 'peoples': 4, 'jos': 4, 'pointer': 4, 'shifts': 4, 'stew': 4, 'colours': 4, 'dresses': 4, 'atlas': 4, 'notepad': 4, 'treats': 4, 'coupons': 4, 'ameri': 4, 'smokey': 4, 'calms': 4, 'ec': 4, 'tax': 4, 'storm': 4, 'inviting': 4, 'chicago': 4, 'tasty': 4, 'subletting': 4, 'depressing': 4, 'phil': 4, 'ancient': 4, 'kates': 4, 'pokes': 4, 'premiere': 4, 'speaker': 4, 'screamed': 4, 'performance': 4, 'bedrooms': 4, 'doorbell': 4, 'guessed': 4, 'museums': 4, 'ladder': 4, '800': 4, 'chuck': 4, 'stumped': 4, 'rushed': 4, 'champion': 4, 'interrupt': 4, 'reservations': 4, 'aloud': 4, 'hoshi:': 4, 'announcer:': 4, 'fighter': 4, 'theyd': 4, 'swinging': 4, 'boxers': 4, 'gently': 4, 'sweety': 4, 'stung': 4, 'handy': 4, 'motorcycle': 4, 'excitement': 4, 'lawn': 4, 'household': 4, 'hiring': 4, 'handcuffs': 4, 'unlocks': 4, 'unlock': 4, 'filing': 4, 'maria': 4, 'treegers': 4, 'marge': 4, '99': 4, \"cheryl's\": 4, 'hamster': 4, 'bologna': 4, 'smooth': 4, 'bah': 4, 'margarita': 4, 'lynch': 4, 'drew:': 4, 'robots': 4, 'montreal': 4, 'train:': 4, 'continuing': 4, 'scientist:': 4, '0': 4, 'knives': 4, 'alices': 4, 'tortilla': 4, 'zane': 4, 'fears': 4, 'peeves': 4, 'chinandolor': 4, 'viva': 4, 'destroy': 4, 'goalie': 4, 'grunts': 4, 'unpacking': 4, 'chemistry': 4, 'playboy': 4, 'lint': 4, 'removed': 4, 'bum': 4, 'greep': 4, 'devon': 4, 'devon:': 4, 'bloody': 4, 'hurries': 4, '72': 4, 'gene': 4, 'wah': 4, 'solved': 4, 'backfired': 4, 'westminster': 4, 'vendor:': 4, 'walthams': 4, 'union': 4, 'lawfully': 4, 'wedded': 4, 'athens': 4, 'greece': 4, \"must've\": 4, 'flirted': 4, 'dave:': 4, 'drugs': 4, 'enh': 4, 'host': 4, 'volunteers': 4, 'pinches': 4, 'yeti': 4, 'regatta': 4, \"'quiet\": 4, \"down'\": 4, 'listings': 4, 'landing': 4, 'sweethart': 4, 'gauze': 4, 'mitts': 4, 'cynthia:': 4, 'confront': 4, 'addict': 4, 'wrestle': 4, 'paste': 4, 'kara:': 4, 'horse': 4, 'precinct': 4, 'sipowicz': 4, 'pivot': 4, 'piv': 4, 'arrest': 4, 'saleswoman:': 4, 'winks': 4, \"smoker's\": 4, 'choo': 4, 'backfire': 4, 'stamps': 4, 'hisses': 4, 'vests': 4, 'phalange': 4, 'explaining': 3, 'aura': 3, 'search': 3, 'waitress:': 3, 'pipe': 3, 'matters': 3, \"'what\": 3, 'rabbits': 3, 'mittens': 3, 'independence': 3, 'complain': 3, 'lined': 3, 'wandering': 3, 'eyelashes': 3, 'assembling': 3, 'instructions': 3, 'leftover': 3, 'dumps': 3, 'clutching': 3, 'sniffing': 3, 'valuable': 3, 'steer': 3, 'vanilla': 3, 'sexually': 3, 'spitting': 3, 'gazes': 3, 'omelet': 3, 'lenny': 3, 'raising': 3, 'witness': 3, 'production': 3, 'abuse': 3, 'iridium': 3, 'trained': 3, 'surprisingly': 3, 'fourteen': 3, 'authority': 3, 'national': 3, 'waitwait': 3, 'image': 3, 'customer:': 3, 'traffic': 3, 'album': 3, 'prehistoric': 3, 'marsha': 3, 'erect': 3, 'misunderstanding': 3, 'swallowing': 3, 'balled': 3, 'fluff': 3, 'fluffed': 3, 'parent': 3, 'spaghetti': 3, 'puzzles': 3, 'pros': 3, \"d'ya\": 3, 'oberman': 3, 'mimes': 3, 'robbie': 3, 'bernice:': 3, 'minnie': 3, 'honour': 3, 'plugs': 3, 'title': 3, 'suggesting': 3, 'welling': 3, 'ouch': 3, \"again'\": 3, \"you'\": 3, 'knowledge': 3, 'index': 3, 'shrug': 3, 'members': 3, 'beef': 3, 'absent': 3, 'error': 3, 'spreads': 3, 'crooked': 3, 'positions': 3, 'base': 3, 'personally': 3, 'lizzie': 3, 'tin': 3, 'floating': 3, 'constant': 3, 'knuckle': 3, 'cracking': 3, 'bickering': 3, 'lambchop': 3, \"y'go\": 3, 'mopping': 3, 'mocking': 3, 'wishes': 3, 'nodded': 3, 'costumes': 3, 'kiki': 3, 'apron': 3, 'twister': 3, 'tweezers': 3, 'miserably': 3, 'floopy': 3, 'mushroom': 3, 'intelligent': 3, 'stunning': 3, 'miming': 3, 'locker': 3, 'bandaged': 3, 'glue': 3, 'bend': 3, 'beyond': 3, 'burns': 3, 'sheets': 3, 'yuh': 3, 'sheepish': 3, 'snuggles': 3, 'latte': 3, 'amazed': 3, 'bullwinkle': 3, 'laundromat': 3, 'gentle': 3, 'load': 3, 'weasel': 3, 'aid': 3, \"laundry's\": 3, 'washing': 3, \"bob's\": 3, 'dozen': 3, 'immediately': 3, 'missy': 3, 'freud': 3, 'simply': 3, 'peel': 3, 'hel': 3, \"'chand\": 3, \"lrr'\": 3, 'leonard': 3, 'engine': 3, \"'we'\": 3, 'mainly': 3, 'ann': 3, 'responsible': 3, 'gal': 3, 'spout': 3, 'surface': 3, 'pacino': 3, 'roommates': 3, 'coupla': 3, 'andrew': 3, 'whaddyou': 3, 'wells': 3, 'disturbing': 3, 'queens': 3, 'rabbi': 3, 'flinch': 3, 'awkwardly': 3, 'offering': 3, 'trppd': 3, 'vstbl': 3, 'wth': 3, 'jll': 3, 'gdcr': 3, 'messing': 3, 'kitten': 3, \"'gum\": 3, \"cat's\": 3, 'smitten': 3, 'betcha': 3, 'pens': 3, 'dangling': 3, '48': 3, 'spooky': 3, 'lovingly': 3, \"d'know\": 3, 'giorno': 3, 'mints': 3, 'restaurants': 3, 'define': 3, 'phew': 3, \"brian's\": 3, 'nonono': 3, 'overcoat': 3, 'weather': 3, \"gellers'\": 3, 'pills': 3, 'disappointment': 3, 'yup': 3, 'waaay': 3, '$100': 3, 'normally': 3, 'posters': 3, 'mashed': 3, 'pilgrim': 3, 'december': 3, 'grilled': 3, 'vividly': 3, 'aramis': 3, 'provocatively': 3, 'variety': 3, 'laughter': 3, 'stuffing': 3, 'tots': 3, 'tradition': 3, 'cranberry': 3, 'stirring': 3, 'juicy': 3, 'fetus': 3, 'fills': 3, 'syphilis': 3, 'thanksgivings': 3, 'bladder': 3, 'clark': 3, 'microphone': 3, 'lalala': 3, 'sung': 3, 'daryl': 3, 'hannah': 3, 'decorating': 3, \"david's\": 3, 'breakup': 3, 'elf': 3, 'powerful': 3, 'phenomenal': 3, 'laptop': 3, 'melon': 3, 'grant': 3, 'january': 3, 'thingy': 3, 'somewhat': 3, 'emerge': 3, 'virtually': 3, 'tearing': 3, 'cracked': 3, 'newsstand': 3, \"yesterday's\": 3, 'potential': 3, 'hearts': 3, 'visiting': 3, 'teaches': 3, 'nora': 3, 'craving': 3, 'kung': 3, 'montage': 3, 'enormous': 3, 'mexican': 3, 'writer': 3, 'cities': 3, 'licking': 3, 'discussed': 3, 'scum': 3, 'brushes': 3, 'denim': 3, 'sneaking': 3, 'greek': 3, 'shaved': 3, 'spelling': 3, 'odd': 3, 'layer': 3, 'lasagnas': 3, 'poconos': 3, 'flinging': 3, 'flung': 3, 'sends': 3, 'tanya': 3, 'parlor': 3, 'herbal': 3, 'canceled': 3, '5:30': 3, 'bites': 3, 'scouts': 3, 'sympathetic': 3, 'dining': 3, 'folding': 3, 'oatmeal': 3, 'proves': 3, 'admiring': 3, 'fives': 3, 'medium': 3, 'rug': 3, \"anybody's\": 3, 'shrink': 3, 'donuts': 3, 'intimacy': 3, 'humour': 3, 'adam': 3, 'trib': 3, 'ferry': 3, 'chopping': 3, 'yard': 3, 'lamenting': 3, 'hid': 3, 'rog': 3, 'sibling': 3, 'cruise': 3, 'tail': 3, 'demonstrates': 3, 'sofabed': 3, 'groceries': 3, 'ashamed': 3, 'prettier': 3, 'lies': 3, 'rests': 3, 'behaviour': 3, 'restraining': 3, 'eyeing': 3, 'incoherent': 3, 'bail': 3, 'vulnerable': 3, 'ching': 3, \"makin'\": 3, 'urinal': 3, 'carney': 3, 'backed': 3, 'puppets': 3, 'jet': 3, 'lovers': 3, 'label': 3, 'helloo': 3, 'bonfire': 3, 'righteous': 3, 'directions': 3, 'grill': 3, 'data': 3, 'excitedly': 3, 'supervisor': 3, 'worrying': 3, 'weekly': 3, 'usage': 3, 'counselor': 3, 'formerly': 3, 'magnet': 3, 'tasting': 3, \"this'll\": 3, 'amouz': 3, 'ing': 3, 'brag': 3, 'original': 3, 'cube': 3, 'corn': 3, 'cabinets': 3, 'secretly': 3, 'drowning': 3, 'tool': 3, 'shops': 3, 'couples': 3, 'embarrassment': 3, 'fellow': 3, 'becomes': 3, 'eyebrows': 3, 'trophy': 3, 'rossie': 3, 'pressing': 3, 'rhythm': 3, 'surgery': 3, 'supporting': 3, 'forgetting': 3, 'evelyn': 3, 'gods': 3, 'blankly': 3, 'tangled': 3, 'memo': 3, 'represents': 3, 'comforts': 3, 'spreading': 3, 'profile': 3, 'instruction': 3, 'revenge': 3, 'defiantly': 3, 'sack': 3, 'blocking': 3, 'wo': 3, 'gathers': 3, 'colonial': 3, 'mode': 3, 'piles': 3, 'bless': 3, 'dreskin': 3, 'mouthing': 3, 'waddawe': 3, \"ursula's\": 3, 'realising': 3, 'needing': 3, 'signature': 3, 'swallowed': 3, 'ultimatum': 3, 'recover': 3, 'thoughtful': 3, 'various': 3, 'squeezes': 3, 'whistling': 3, 'goood': 3, 'crumples': 3, 'stakes': 3, 'fax': 3, 'rematch': 3, \"might've\": 3, 'screeching': 3, 'cd': 3, 'sleeps': 3, 'pictionary': 3, 'parked': 3, 'spends': 3, 'dime': 3, 'whattaya': 3, 'temple': 3, 'teen': 3, 'birdie': 3, 'grey': 3, 'newsletter': 3, \"the'\": 3, 'curl': 3, 'flick': 3, 'lou': 3, 'francis': 3, \"what'm\": 3, 'belgian': 3, 'cork': 3, 'ca': 3, 'partially': 3, 'intercom:': 3, 'banana': 3, 'neighbourhood': 3, \"heckles'\": 3, 'cage': 3, 'locking': 3, 'squirts': 3, \"where've\": 3, 'progress': 3, 'beeps': 3, 'flounders': 3, 'dives': 3, 'laurie': 3, 'bitter': 3, 'sidney': 3, 'marks': 3, 'neighbor': 3, 'hating': 3, 'honor': 3, 'wondered': 3, 'artist': 3, 'yawning': 3, 'madness': 3, 'applying': 3, 'society': 3, 'community': 3, 'blade': 3, 'crashed': 3, 'bills': 3, 'secretary': 3, 'portion': 3, 'emergencies': 3, 'andr': 3, 'jumbo': 3, 'rightie': 3, 'gunpoint': 3, 'crimes': 3, 'goat': 3, 'shiny': 3, 'collins': 3, 'exept': 3, '45': 3, 'particularly': 3, 'saucy': 3, 'moist': 3, \"50's\": 3, 'chunky': 3, 'contractions': 3, \"roommate's\": 3, 'landed': 3, 'deliver': 3, 'affect': 3, 'instance': 3, \"'if\": 3, 'arrived': 3, 'centimeters': 3, 'janitor': 3, 'straining': 3, 'drooling': 3, 'research': 3, 'overhearing': 3, 'fertility': 3, 'charcoal': 3, 'experiments': 3, 'simon': 3, 'burgers': 3, 'ridiculously': 3, 'clicking': 3, 'freeze': 3, \"who're\": 3, 'committed': 3, 'exchanged': 3, 'baskets': 3, 'disappears': 3, \"how've\": 3, 'baggage': 3, 'claim': 3, 'lining': 3, '16': 3, 'bothering': 3, 'sixteen': 3, 'paulo:': 3, 'spite': 3, 'bagels': 3, 'tension': 3, 'cuffs': 3, 'measure': 3, 'balcony]': 3, 'andie': 3, 'feed': 3, 'territory': 3, 'yanking': 3, 'spraying': 3, 'clown': 3, 'naps': 3, 'howdy': 3, 'refill': 3, 'leaned': 3, 'reject': 3, \"sweepin'\": 3, 'millions': 3, 'boyle:': 3, 'lamps': 3, 'toys': 3, 'joking': 3, 'yearbook': 3, 'voted': 3, 'dorks': 3, 'away]': 3, 'duncan': 3, 'judgemental': 3, 'copier': 3, 'counter]': 3, 'skating': 3, '[julie': 3, 'sexier': 3, \"duncan's\": 3, '[outside': 3, 'miserable': 3, 'drawn': 3, 'pressed': 3, 'usual': 3, 'ish': 3, 'mexico': 3, 'sauti': 3, 'chickens': 3, 'verse': 3, 'enthused': 3, 'biting': 3, 'rude': 3, 'fooled': 3, 'hickey': 3, 'lunges': 3, 'wenny': 3, 'cries': 3, 'hundreds': 3, 'lather': 3, 'rinse': 3, 'whiff': 3, 'thquirt': 3, 'cord': 3, 'jammed': 3, 'behind]': 3, 'oohh': 3, 'window]': 3, 'remembers': 3, '[climbs': 3, '[doorbell': 3, \"'where\": 3, 'locks': 3, 'solution': 3, 'neil': 3, 'strongly': 3, \"ratstatter's\": 3, \"ma'am\": 3, 'preparation': 3, 'print': 3, 'on]': 3, 'sakes': 3, 'slack': 3, 'karma': 3, 'pro': 3, 'mighty': 3, 'rats': 3, 'bits': 3, 'homemade': 3, 'relaxed': 3, 'spring': 3, 'military': 3, 'lied': 3, 'surgeon': 3, 'upstate': 3, 'ornaments': 3, 'albany': 3, 'grandpa': 3, 'outlet': 3, '[answers': 3, 'sweaters': 3, 'hanukkah': 3, 'mistletoe': 3, 'canvas': 3, 'dues': 3, '[fun': 3, 'bottles]': 3, '[takes': 3, 'excuses': 3, '[picks': 3, 'huuuuh': 3, 'sober': 3, 'hardware': 3, 'saget': 3, 'sentence': 3, 'weenie': 3, 'shark': 3, 'pinching': 3, 'pronounce': 3, 'marrying': 3, 'cameras': 3, \"rachel's]\": 3, 'chart': 3, 'mid': 3, 'dicing': 3, 'pigs': 3, 'blankets': 3, 'superman': 3, 'powers': 3, 'escorted': 3, 'go]': 3, 'options': 3, 'hammock': 3, 'capable': 3, 'frying': 3, 'cathy': 3, 'misery': 3, '[some': 3, 'darkness': 3, 'opossum': 3, 'moo': 3, 'barney': 3, 'filming': 3, 'ii': 3, 'auditorium': 3, 'defense': 3, 'goofy': 3, 'trainer': 3, 'worn': 3, 'rings]': 3, \"it'\": 3, '[flicks': 3, 'fed': 3, 'ear]': 3, 'hangin': 3, 'ton': 3, '[we': 3, 'purse]': 3, 'gurney': 3, 'aaaaagggghhhhh': 3, 'bud': 3, 'drawer]': 3, 'budge': 3, 'pleasant': 3, 'clobbered': 3, 'cracks': 3, 'hay': 3, 'bathing': 3, 'tape]': 3, 'zoom': 3, 'adds': 3, 'footrest': 3, \"burke's\": 3, '19': 3, 'hall]': 3, 'lazy': 3, 'judgmental': 3, 'floor]': 3, 'church': 3, 'tattoos': 3, 'weekends': 3, 'mystery': 3, 'dot': 3, 'theirs': 3, 'sculpture': 3, 'panther': 3, \"[joey's\": 3, 'studio': 3, 'producer:': 3, 'singers': 3, 'stinks': 3, 'bouncing': 3, 'toss': 3, 'hat]': 3, 'equally': 3, 'refuse': 3, 'pong': 3, 'performing': 3, 'rights': 3, 'remedy': 3, 'sean': 3, 'penn': 3, 'tilly': 3, 'gather': 3, 'scripts': 3, 'bed]': 3, 'connect': 3, 'current': 3, 'nature': 3, \"watchin'\": 3, 'ell': 3, 'dehydrating': 3, 'fruits': 3, 'mover:': 3, '$1200': 3, 'matches': 3, 'kitchen]': 3, 'spoken': 3, 'ditch': 3, 'wedgie': 3, 'scarsdale': 3, 'et': 3, 'helpful': 3, 'donna': 3, 'sucky': 3, 'poopie': 3, 'behalf': 3, 'everyone:': 3, '[as': 3, 'cafe': 3, \"kiddin'\": 3, 'invested': 3, 'attacking': 3, 'beast': 3, 'shared': 3, 'stitches': 3, 'stir': 3, \"mine's\": 3, 'cone': 3, 'tounge': 3, 'fight]': 3, 'presentation': 3, 'cooper': 3, 'volleyball': 3, 'placing': 3, 'pottery': 3, 'therapy': 3, 'decorate': 3, 'becasue': 3, 'distract': 3, 'milton': 3, 'families': 3, 'feathers': 3, 'taped': 3, 'tab': 3, 'clocks': 3, 'mixed': 3, 'overheard': 3, 'suspect': 3, 'budget': 3, 'california': 3, 'nuclear': 3, 'tend': 3, 'dreamy': 3, 'bassinet': 3, 'sheep': 3, 'cutest': 3, 'method': 3, 'tenth': 3, 'hottest': 3, 'gawd': 3, 'syrup': 3, \"ya'\": 3, 'limb': 3, 'mentioning': 3, 'calming': 3, \"janice's\": 3, 'videos': 3, 'girth': 3, 'sixty': 3, 'crossed': 3, 'casual': 3, 'essence': 3, 'commando': 3, 'ribbon': 3, 'creaking': 3, 'batch': 3, 'witch': 3, 'cuddlily': 3, 'ick': 3, 'carried': 3, 'stalk': 3, 'penguin': 3, 'vision': 3, 'nyu': 3, 'obsessed': 3, 'hoyt': 3, 'kevin': 3, 'master': 3, '2000': 3, 'jab': 3, 'agents': 3, 'annie': 3, 'raised': 3, 'meals': 3, 'quizzically': 3, 'soy': 3, 'fails': 3, 'barley': 3, 'grandmas': 3, 'celebrities': 3, 'honesty': 3, 'spiderman': 3, 'divide': 3, 'designer': 3, 'pry': 3, 'whens': 3, 'geography': 3, 'melting': 3, 'karate': 3, 'wedgies': 3, 'spackel': 3, 'laminated': 3, 'ryder': 3, 'healing': 3, 'inc': 3, 'counted': 3, 'understanding': 3, 'dismiss': 3, 'goatee': 3, 'bartender': 3, 'cue': 3, 'oboe': 3, 'landlord': 3, 'thirsty': 3, 'richie': 3, 'showroom': 3, 'mattresses': 3, 'operas': 3, 'race': 3, 'racecar': 3, 'rust': 3, 'recent': 3, 'fakes': 3, 'horn': 3, 'factory': 3, 'haaaaa': 3, 'confidently': 3, 'walkin': 3, 'halftime': 3, 'captains': 3, 'foreign': 3, 'mar': 3, 'upfield': 3, 'fumble': 3, 'tackle': 3, 'comics': 3, 'backhand': 3, 'gangs': 3, 'retraining': 3, 'lugging': 3, 'fulfilling': 3, 'stack': 3, 'sells': 3, 'destiny': 3, 'temporary': 3, 'exist': 3, 'apologizing': 3, 'whipping': 3, 'vodka': 3, 'sisters:': 3, 'hummina': 3, 'dwha': 3, 'gettin': 3, 'hardest': 3, 'bummer': 3, 'niece': 3, 'collar': 3, 'notch': 3, 'purses': 3, 'turtles': 3, \"mark's\": 3, 'wig': 3, 'jeannine:': 3, 'chandelier': 3, 'barbershop': 3, 'quartet': 3, 'omm': 3, 'grand': 3, 'sissone': 3, 'tying': 3, 'poems': 3, 'readies': 3, 'clicks': 3, 'orgy': 3, 'exclusive': 3, 'mens': 3, 'puddle': 3, 'haa': 3, 'sheer': 3, 'fingernails': 3, 'lessons': 3, 'olives': 3, 'diplomat': 3, 'translator': 3, 'polish': 3, 'doodle': 3, 'tails': 3, 'apologise': 3, 'maurice': 3, 'gali': 3, 'swimming': 3, 'believes': 3, 'upright': 3, '8:30': 3, 'waxing': 3, 'waxine': 3, 'agreeing': 3, 'ewwwww': 3, 'picturing': 3, 'everybodys': 3, 'compromise': 3, '93': 3, 'effort': 3, 'briefly': 3, 'discovers': 3, 'practising': 3, 'fianc': 3, 'tape:': 3, 'deeper': 3, 'employees': 3, 'standard': 3, 'snooty': 3, 'miller': 3, 'jennifer': 3, 'loveable': 3, 'drama': 3, 'ripping': 3, 'catalogue': 3, 'ghosts': 3, 'peck': 3, 'wrap': 3, 'mascara': 3, 'skates': 3, 'channels': 3, 'vest': 3, 'gin': 3, 'suits': 3, 'crawls': 3, 'clogs': 3, 'ray': 3, 'patience': 3, 'cailin': 3, 'badda': 3, 'critic': 3, 'newspapers': 3, 'spaceship': 3, 'colored': 3, 'retracts': 3, '98': 3, 'force': 3, 'kindergarten': 3, \"kid's\": 3, 'saj': 3, 'koondis': 3, 'angered': 3, 'applaud': 3, 'hooking': 3, 'congratulate': 3, 'iron': 3, 'bonnies': 3, 'stevens:': 3, 'pumped': 3, 'opponent': 3, 'sentiment': 3, 'montauk': 3, 'reveals': 3, 'razor': 3, 'magioni': 3, 'ewwww': 3, 'gain': 3, 'traps': 3, 'welch': 3, 'qualified': 3, 'tony:': 3, 'eah': 3, 'price': 3, 'stern': 3, 'encyclopedias': 3, 'grief': 3, 'panic': 3, 'hilarious': 3, 'handcuffed': 3, 'pope': 3, 'albums': 3, 'jams': 3, 'membership': 3, 'siadic': 3, 'potter:': 3, 'fishnet': 3, 'stockings': 3, 'velveteen': 3, 'burkart': 3, 'whining': 3, 'widow': 3, 'event': 3, 'coupon': 3, 'transmission': 3, 'kneels': 3, 'yeahno': 3, '92': 3, 'robbing': 3, 'wizard': 3, 'patrick': 3, 'racist': 3, 'envelopes': 3, 'clause': 3, 'squeal': 3, 'courthouse': 3, 'trump': 3, 'guides': 3, 'blazers': 3, 'rhonda': 3, 'ted': 3, 'awakens': 3, 'transferred': 3, 'snacks': 3, 'items': 3, 'pep': 3, 'riled': 3, 'patented': 3, 'heyooh': 3, 'uncontrollably': 3, 'maternity': 3, 'admires': 3, 'slut': 3, 'heck': 3, 'fledermaus': 3, 'thatll': 3, 'deer': 3, 'orchard': 3, 'liquorice': 3, 'pilot': 3, 'spilling': 3, '$200': 3, 'bummed': 3, 'seduce': 3, 'succeeds': 3, 'heartbeat': 3, 'triplets': 3, 'toblerone': 3, 'meantime': 3, 'stupidest': 3, 'pub': 3, 'seductive': 3, 'starving': 3, 'bamn': 3, 'snore': 3, 'jones': 3, 'thanking': 3, 'impatiently': 3, 'marjorie': 3, 'marjorie:': 3, 'series': 3, 'clips': 3, 'announcement': 3, 'complies': 3, 'bothered': 3, 'marriott': 3, 'postpone': 3, 'fergie:': 3, 'homesick': 3, 'interiors': 3, 'felicity': 3, 'escort': 3, 'minster:': 3, '1066': 3, \"bodington's\": 3, \"'cha\": 3, 'doubles': 3, 'sympathy': 3, 'mork': 3, 'triumphant': 3, 'dictionary': 3, 'masculine': 3, 'madlibs': 3, 'owww': 3, 'busts': 3, 'purifier': 3, 'tom:': 3, 'helmet': 3, 'bandages': 3, 'branson': 3, 'carrots': 3, 'wildness': 3, 'hiya': 3, 'rage': 3, 'entice': 3, 'shelf:': 3, 'sabbatical': 3, 'relaxing': 3, 'perfume': 3, \"elizabeth's\": 3, 'scone': 3, \"kara's\": 3, 'nutter': 3, 'abandonment': 3, 'hugsy': 3, \"howard's\": 3, 'principles': 3, 'handshake': 3, 'pantomimes': 3, 'hyper': 3, 'hotter': 3, 'litigious': 3, 'kyle': 3, 'mimics': 3, 'pepperoni': 3, 'bullet': 3, 'bees': 3, 'chess': 3, 'croupier:': 3, 'macadamia': 3, 'gambler:': 3, 'bowing': 3, 'hump': 2, 'mortified': 2, '3:00': 2, 'extends': 2, 'survivor': 2, 'me:': 2, 'tuna': 2, 'christine': 2, 'metaphor': 2, 'established': 2, 'kittens': 2, 'grins': 2, '6:30': 2, 'showers': 2, 'squatting': 2, 'brackety': 2, 'whatsoever': 2, \"boyfriend's\": 2, 'collapses': 2, 'scariest': 2, 'flavor': 2, 'dough': 2, 'honestly': 2, 'horny': 2, 'perform': 2, 'priest': 2, 'tv:': 2, 'matrimony': 2, 'barn': 2, 'doubt': 2, \"'look\": 2, 'demarco': 2, 'frannie': 2, 'florida': 2, 'parrot': 2, 'turtle': 2, 'massaging': 2, 'interviews': 2, 'upbeat': 2, 'necessary': 2, 'parachute': 2, 'broadcast': 2, \"paul's\": 2, 'stomps': 2, 'geeky': 2, 'vulnerability': 2, 'factor': 2, 'floyd': 2, 'includes': 2, 'mannequins': 2, \"three's\": 2, 'chaotic': 2, 'twirly': 2, 'veil': 2, 'presumably': 2, 'curry': 2, 'published': 2, 'elbow': 2, 'driven': 2, 'somone': 2, 'marlon': 2, 'julia': 2, \"'s'funny\": 2, 'forehand': 2, 'lenses': 2, 'hairline': 2, 'loosely': 2, \"'it\": 2, \"guy'\": 2, 'damone': 2, 'limp': 2, 'iced': 2, 'earn': 2, 'nonchalantly': 2, 'reward': 2, 'schhteve': 2, 'paula': 2, 'coyotes': 2, 'slimmer': 2, \"'dear\": 2, 'measured': 2, 'dejectedly': 2, 'softball': 2, 'adore': 2, 'freshener': 2, 'types': 2, 'flaws': 2, 'endearing': 2, 'snorts': 2, 'correctly': 2, 'indeed': 2, 'nicotine': 2, 'tart': 2, 'rented': 2, 'strokes': 2, 'hunger': 2, 'peaceful': 2, 'startling': 2, 'insecure': 2, 'reassure': 2, 'waaaay': 2, 'october': 2, \"guys'\": 2, 'wiped': 2, 'fica': 2, \"why's\": 2, 'wallets': 2, 'blocked': 2, 'leetch': 2, 'messier': 2, 'dirt': 2, 'blobbies': 2, 'slumber': 2, 'operation': 2, 'operate': 2, 'activity': 2, 'fans': 2, 'crust': 2, \"'g\": 2, 'stephanopoulos': 2, 'bonehead': 2, \"bird's\": 2, 'campaign': 2, 'ba': 2, 'hurley': 2, 'valentine': 2, \"'big\": 2, \"girls'\": 2, 'lambs': 2, 'files': 2, 'mat': 2, 'mercedes': 2, 'rhythmically': 2, 'glamour': 2, \"hell's\": 2, 'auditions': 2, 'fabric': 2, 'puppies': 2, 'launderama': 2, 'cycle': 2, 'delicates': 2, 'panty': 2, 'judgment': 2, \"ladies'\": 2, 'washer': 2, 'lee': 2, 'marshmallow': 2, 'underdog': 2, 'flopping': 2, 'wired': 2, 'lens': 2, 'jammies': 2, 'struggle': 2, 'tinkle': 2, 'groan': 2, \"'excuse\": 2, 'noisily': 2, 'admitting': 2, 'palm': 2, 'army': 2, 'denoted': 2, 'bullets': 2, 'rode': 2, 'pant': 2, 'monogamy': 2, 'ottoman': 2, 'compare': 2, 'raggedy': 2, 'coaster': 2, \"pacino's\": 2, 'raid': 2, 'resentment': 2, 'wasted': 2, 'scrub': 2, 'determined': 2, 'fulfilled': 2, 'obligated': 2, 'sizes': 2, \"tribbiani's\": 2, 'strewn': 2, 'reckless': 2, 'manner': 2, 'hums': 2, 'blacked': 2, 'eligible': 2, 'strangely': 2, \"'hey\": 2, 'strides': 2, 'menorah': 2, \"tonight's\": 2, 'jewish': 2, 'garbled': 2, 'disneyland': 2, 'miniature': 2, 'innocently': 2, 'mayor': 2, 'shushing': 2, 'silent': 2, 'carcass': 2, 'sour': 2, 'lyrics': 2, 'peacock': 2, 'ment': 2, 'creation': 2, 'hunk': 2, 'charm': 2, 'grimacing': 2, 'choke': 2, \"'ok'\": 2, 'unable': 2, 'bermuda': 2, 'superficial': 2, 'straighten': 2, 'crapweasel': 2, 'imitate': 2, 'clutches': 2, 'stroking': 2, 'scene:': 2, 'flush': 2, 'congratulates': 2, 'abruptly': 2, 'fascinating': 2, 'lillian': 2, 'los': 2, \"g'bye\": 2, 'reentering': 2, 'struck': 2, 'casket': 2, 'cupboard': 2, 'amongst': 2, 'retainer': 2, 'financial': 2, 'payroll': 2, 'heel': 2, 'shoebox': 2, \"lo's\": 2, 'feature': 2, 'bearings': 2, 'giants': 2, 'grave': 2, 'spasm': 2, 'loop': 2, 'andrea:': 2, 'dorothy': 2, 'emerging': 2, 'stoned': 2, 'slumps': 2, 'extravagant': 2, 'cracker': 2, 'critical': 2, 'detail': 2, 'example': 2, \"'me\": 2, 'java': 2, 'mache': 2, '$98': 2, 'colorful': 2, 'modeling': 2, 'skull': 2, 'experiment': 2, 'insistently': 2, 'chipped': 2, 'says:': 2, 'mario': 2, \"turkey's\": 2, 'yams': 2, 'merriment': 2, 'peas': 2, 'onions': 2, '80': 2, 'inflatable': 2, 'aim': 2, 'crispy': 2, 'stewardess': 2, 'pots': 2, 'projectile': 2, 'peels': 2, 'bethel': 2, 'rescued': 2, 'snowman': 2, 'ahhhhhh': 2, 'helpers': 2, 'enthusiasm': 2, 'demand': 2, 'sung:': 2, 'splash': 2, 'conventional': 2, 'occasions': 2, 'bells': 2, 'aah': 2, 'simulate': 2, 'valid': 2, 'elsewhere': 2, 'microscope': 2, 'sweeps': 2, 'remaining': 2, \"'no\": 2, 'sips': 2, 'russia': 2, 'par': 2, 'tay': 2, 'mingling': 2, 'bruised': 2, 'mentally': 2, 'snapping': 2, 'spyhole': 2, \"bobby's\": 2, 'tears]': 2, 'misunderstood': 2, 'leads': 2, 'belong': 2, \"now'\": 2, \"'your\": 2, 'clark:': 2, 'bll': 2, 'drrbing': 2, 'daily': 2, 'unison': 2, 'conscious': 2, 'woowoo': 2, 'tyler': 2, 'settled': 2, \"bernie's\": 2, 'groin': 2, 'pow': 2, 'glen': 2, 'flustered': 2, 'feeds': 2, 'marked': 2, 'overslept': 2, 'racket': 2, 'gloria': 2, 'raquetball': 2, 'slam': 2, 'chapter': 2, 'tonsil': 2, 'aaah': 2, 'massager': 2, 'sang': 2, 'forbidden': 2, \"beasts'\": 2, 'measures': 2, 'syllable': 2, 'noses': 2, 'mma': 2, 'immigration': 2, 'inspired': 2, 'results': 2, 'lewis': 2, 'oop': 2, 'giggle': 2, 'mmmwa': 2, 'adventure': 2, 'impressions': 2, 'sorts': 2, 'uma': 2, 'thurman': 2, 'feminist': 2, 'chime': 2, 'insects': 2, 'suitcases': 2, 'raisin': 2, 'overwhelmed': 2, 'scoots': 2, 'catholic': 2, 'distraught': 2, 'bubbles': 2, 'grazie': 2, 'develop': 2, '2:30': 2, 'okaaay': 2, 'puberty': 2, 'hauling': 2, 'mushrooms': 2, 'ships': 2, 'affair': 2, 'spy': 2, 'considers': 2, 'peepee': 2, 'tit': 2, 'failure': 2, 'weebles': 2, 'nip': 2, 'frisbee': 2, 'strict': 2, 'kicky': 2, 'fitting': 2, \"roger's\": 2, \"there'd\": 2, 'aaaah': 2, 'emotionally': 2, 'developments': 2, 'waltons': 2, 'tracks': 2, 'intended': 2, 'depends': 2, 'reflection': 2, 'pheebes': 2, 'voluntarily': 2, 'chant': 2, \"burning's\": 2, 'zips': 2, \"paulo's\": 2, \"people'll\": 2, 'scooching': 2, 'charred': 2, 'loaded': 2, 'jan': 2, 'soul': 2, 'foghorn': 2, 'absence': 2, 'deny': 2, 'cinamon': 2, 'flattering': 2, 'estimated': 2, 'systems': 2, 'gogo': 2, 'goals': 2, 'curator': 2, 'suited': 2, 'appetizer': 2, 'bouche': 2, 'waitresses': 2, \"wendy's\": 2, 'olympics': 2, 'urge': 2, 'vulva': 2, 'whoaa': 2, 'cuddled': 2, \"how're\": 2, 'bonus': 2, 'hardball': 2, 'indeedy': 2, 'unamused': 2, 'bailed': 2, 'mmmmmm': 2, 'signals': 2, 'polite': 2, 'shrimp': 2, 'signal': 2, 'deeply': 2, 'taco': 2, 'shells': 2, \"o's\": 2, 'furious': 2, 'elaborate': 2, 'themes': 2, 'motif': 2, 'villagers': 2, 'fran': 2, 'parlour': 2, 'eeeee': 2, 'rifts': 2, 'wintry': 2, 'testing': 2, 'bending': 2, 'steaming': 2, 'scarves': 2, 'safer': 2, 'standin': 2, 'parenting': 2, 'trio': 2, 'rostins': 2, 'pat': 2, 'births': 2, 'struggles': 2, 'helen:': 2, 'statistics': 2, 'drift': 2, '&ndash': 2, 'takeout': 2, 'sitcom': 2, 'logo': 2, 'dialogue': 2, 'dubbed': 2, 'urkel': 2, 'riffs': 2, 'curly': 2, 'fries': 2, 'indicates': 2, 'laverne': 2, 'grin': 2, 'performs': 2, 'mommies': 2, 'vagina': 2, 'annual': 2, 'philosophically': 2, 'winding': 2, 'leap': 2, 'somethin': 2, 'freezes': 2, 'escapes': 2, 'vaguely': 2, 'flanen': 2, 'informed': 2, 'recollection': 2, 'believable': 2, 'persons': 2, 'psychology': 2, 'corridor': 2, 'nostril': 2, 'roast': 2, 'paperwork': 2, 'personnel': 2, 'manual': 2, 'stapler': 2, 'remotely': 2, 'jetson': 2, 'owns': 2, 'vacant': 2, 'wel': 2, 'tampa': 2, 'defence': 2, 'rainbow': 2, \"when's\": 2, 'pinch': 2, 'errrr': 2, 'attempting': 2, 'squishy': 2, 'thud': 2, 'oozing': 2, 'friends:': 2, 'thrilled': 2, 'dried': 2, 'geoffrey': 2, 'stat': 2, 'lowers': 2, 'pagan': 2, 'obeys': 2, 'uptight': 2, 'mouthed': 2, 'squirms': 2, 'haha': 2, 'hideously': 2, 'vicious': 2, 'yeh': 2, 'verbal': 2, 'gown': 2, 'distracted': 2, 'hoped': 2, 'forgotten': 2, 'concern': 2, \"blowin'\": 2, 'dismissively': 2, 'departing': 2, 'customers': 2, 'genuinely': 2, 'wrinkle': 2, 'received': 2, 'attempts': 2, 'affected': 2, 'unvoiced': 2, 'dash': 2, 'formation': 2, 'alternately': 2, 'garment': 2, 'urse': 2, 'delight': 2, 'sinks': 2, 'saddened': 2, 'slipping': 2, 'cocking': 2, 'regard': 2, 'tucked': 2, 'infant': 2, 'mechanics': 2, 'linda': 2, 'flintstones': 2, 'pounding': 2, 'playthings': 2, 'yarn': 2, 'dee': 2, 'fours': 2, 'jacks': 2, 'yas': 2, \"'nice\": 2, 'dealt': 2, \"rachel'\": 2, 'disc': 2, 'kettle': 2, 'avenue': 2, 'iris': 2, 'meter': 2, 'caved': 2, '$7': 2, 'tac': 2, 'ante': 2, 'collects': 2, 'cent': 2, 'stupidity': 2, 'earl': 2, 'blackberry': 2, \"'bring\": 2, 'raw': 2, 'fest': 2, 'guns': 2, 'hugh': 2, 'register': 2, 'marc': 2, 'pickles': 2, 'tearfully': 2, 'swiftly': 2, 'possession': 2, 'introduced': 2, 'dun': 2, 'dumbstruck': 2, 'radiators': 2, 'heating': 2, 'cooling': 2, 'loads': 2, 'tranquiliser': 2, '4:': 2, \"what've\": 2, 'neighbours': 2, 'vacuuming': 2, 'salty': 2, 'sailor': 2, 'francisco': 2, 'leaf': 2, 'blower': 2, 'spontaneous': 2, 'chanel': 2, 'coital': 2, 'rattles': 2, 'honing': 2, 'bernice': 2, 'draped': 2, 'choosing': 2, 'oranges': 2, 'visual': 2, \"peeper's\": 2, 'naughty': 2, 'irony': 2, \"what're'you\": 2, 'barr': 2, 'sweating': 2, 'satan': 2, 'clarify': 2, 'this:': 2, '95': 2, 'mop': 2, 'intimidated': 2, 'horseback': 2, 'ethnic': 2, 'observe': 2, 'yoghurt': 2, 'containers': 2, 'sync': 2, 'amsterdam': 2, 'violent': 2, 'popes': 2, 'volkswagen': 2, 'naturally': 2, 'miami': 2, 'justice': 2, 'auditioning': 2, 'recommend': 2, 'doubtfire': 2, 'horns': 2, 'hooo': 2, 'embassy': 2, 'correction': 2, 'colour': 2, 'champ': 2, 'babes': 2, 'thy': 2, 'exellent': 2, 'pirates': 2, 'likely': 2, \"'my\": 2, 'strictly': 2, 'technical': 2, 'ay': 2, \"fallin'\": 2, 'joan': 2, 'strongest': 2, 'stegosaurus': 2, 'tyrannosaurus': 2, 'nathan': 2, 'biblical': 2, 'gerston:': 2, 'santos:': 2, 'eagerly': 2, 'rossy': 2, 'plug': 2, 'cigars': 2, 'additional': 2, 'stuffed': 2, 'bumper': 2, 'quartz': 2, \"husband's\": 2, 'knick': 2, 'newborn': 2, 'hypothetically': 2, 'knapsack': 2, 'views': 2, 'focusing': 2, 'clever': 2, 'threatened': 2, 'static': 2, 'helper': 2, 'ties': 2, 'inflated': 2, 'luckiest': 2, 'nametag': 2, 'rescue': 2, 'instrument': 2, 'ed': 2, 'cooked': 2, 'donating': 2, 'contribution': 2, 'cole': 2, 'slaw': 2, 'flesh': 2, 'turkeys': 2, 'itinerary': 2, \"don'ti\": 2, 'oooohhh': 2, 'antique': 2, 'stuttering': 2, 'flennin': 2, 'petite': 2, 'wee': 2, 'mute': 2, \"'how\": 2, 'outburst': 2, 'noone': 2, 'senses': 2, 'recapping': 2, 'bench': 2, 'proving': 2, 'verbs': 2, 'grad': 2, '6:00': 2, 'ironically': 2, 'resistance': 2, \"something's\": 2, 'bossy': 2, 'arthur': 2, 'proposal': 2, 'frankie:': 2, 'inseam': 2, 'definite': 2, 'actuallyi': 2, \"mcdowell's\": 2, 'mcdowell': 2, 'apes': 2, 'discount': 2, 'worship': 2, 'woof': 2, 'strap': 2, 'jew': 2, 'led': 2, 'occur': 2, 'slices': 2, \"where're\": 2, 'showdown': 2, 'doofus': 2, 'result': 2, 'shoves': 2, 'bats': 2, \"adam's\": 2, 'rejoin': 2, 'picky': 2, \"there're\": 2, 'triangle': 2, 'evolving': 2, 'scientific': 2, 'isaac': 2, 'newton': 2, 'funky': 2, 'april': 2, 'homes': 2, '18th': 2, 'rache': 2, 'girly': 2, 'opposable': 2, 'clarinet': 2, 'scale': 2, 'gums': 2, 'comprehend': 2, 'denying': 2, 'brightest': 2, 'belief': 2, 'described': 2, 'classifieds': 2, 'lid]': 2, 'comedy': 2, '[leaves': 2, 'bar]': 2, 'forgets': 2, 'canada': 2, 'opposed': 2, 'cultures': 2, 'tri': 2, 'foxy': 2, 'snoopy': 2, 'darnit': 2, '[holds': 2, 'pitcher': 2, 'details': 2, 'psyched': 2, 'begs': 2, 'pleads': 2, 'ta': 2, 'sparkly': 2, 'ole': 2, 'offensive': 2, 'degrading': 2, 'cheesy': 2, 'craziest': 2, 'academy': 2, 'rahcel:': 2, 'talker': 2, '[being': 2, 'midgets': 2, 'pinned': 2, 'nerve': 2, 'aerobics': 2, 'steep': 2, 'whoosh': 2, 'bunnies': 2, 'ordinary': 2, 'destroying': 2, 'confess': 2, 'newly': 2, 'appointed': 2, \"roland's\": 2, 'jade': 2, 'cucumber': 2, 'calculator': 2, 'divided': 2, 'hoopla': 2, 'skit': 2, 'babysitter': 2, 'fisher': 2, 'babysit': 2, 'gathering': 2, 'pager': 2, 'policy': 2, 'crankypants': 2, 'peanuts': 2, 'tho': 2, 'sal': 2, 'skipped': 2, 'adopt': 2, 'throne': 2, \"terry's\": 2, 'cleeeean': 2, 'needles': 2, 'bus:': 2, 'heterosexual': 2, 'transit': 2, 'stroller': 2, 'su': 2, 'freckle': 2, 'malibu': 2, 'smel': 2, 'unattractive': 2, 'everyting': 2, 'remake': 2, '[hugs': 2, 'funny]': 2, 'stretchy': 2, '[slowly': 2, 'intercepts': 2, '[seeing': 2, '[reluctantly]': 2, 'clink': 2, 'offended': 2, 'yumm': 2, 'fruitflies': 2, 'spotting': 2, '[man': 2, '[jumps': 2, 'ohhhhhhhh': 2, 'buzzes]': 2, 'intercom]': 2, \"'ohh\": 2, \"day'\": 2, 'sailed': 2, 'regroups': 2, \"what'cha\": 2, '[sad]': 2, 'saline': 2, 'tray]': 2, '[nervous]': 2, 'easter': 2, 'bubbling': 2, '[with': 2, 'fifties': 2, 'threesome': 2, 'insulted': 2, 'cons': 2, 'ditzy': 2, 'indians': 2, 'served': 2, '[notices': 2, 'screen]': 2, 'printer': 2, 'printing': 2, '[clears': 2, 'throat]': 2, 'gray': 2, 'rachem': 2, 'list]': 2, 'one:': 2, 'soaked': 2, '[quietly]': 2, 'limerick': 2, \"[there's\": 2, 'geese': 2, 'slinky': 2, 'becuase': 2, '[gives': 2, 'medals': 2, 'pictures]': 2, 'posing': 2, 'leave]': 2, 'phonebook': 2, 'gram': 2, 'granddaughter': 2, 'burma': 2, 'sneakin': 2, \"tomorrow's\": 2, \"[phoebe's\": 2, 'irresponsible': 2, 'gremlin': 2, '74': 2, '[blows': 2, 'eeeshk': 2, '[reads': 2, 'seat]': 2, 'fingernail': 2, 'knob]': 2, 'metal': 2, 'bake': 2, 'bacon': 2, 'halt': 2, 'stripped': 2, 'girl]': 2, \"playin'\": 2, 'basil': 2, 'cardboard': 2, 'motor': 2, 'oil': 2, 'mindless': 2, 'adolescent': 2, 'portrayal': 2, '[reading]': 2, '[all': 2, \"'so\": 2, 'coffees': 2, 'amnesia': 2, 'ummmm': 2, 'network': 2, 'lori': 2, 'coffee]': 2, 'around]': 2, 'russ]': 2, 'ditto': 2, 'winged': 2, 'container': 2, \"part's\": 2, 'pasta': 2, 'promote': 2, 'leaving]': 2, 'twist': 2, 'atomic': 2, 'dysprosium': 2, 'knights': 2, 'satin': 2, 'doody': 2, 'bitterest': 2, '[entering': 2, 'fart': 2, 'suffering': 2, 'adelman': 2, 'lamb': 2, 'stella': 2, 'unfinished': 2, '[entering]': 2, 'dermer': 2, \"'course\": 2, 'soupy': 2, 'copied': 2, 'modern': 2, 'rockefeller': 2, 'liberty': 2, \"green's\": 2, 'marijuana': 2, '36': 2, 'reluctant': 2, 'emphatic': 2, 'unwraps': 2, 'nods]': 2, 'woman]': 2, 'danced': 2, 'voiceover:': 2, '[camera': 2, 'raisins': 2, 'addressed': 2, 'stamp': 2, 'laughs]': 2, 'dohnen': 2, 'childrens': 2, 'libraries': 2, 'hysterically]': 2, 'shields': 2, 'cages': 2, \"grandma's\": 2, 'peru': 2, 'nocturnal': 2, \"hopin'\": 2, 'barnyard': 2, 'flitting': 2, 'messenger': 2, 'taunting': 2, 'bribe': 2, 'sabrina': 2, 'complaints': 2, 'tracked': 2, 'weema': 2, 'harry': 2, 'trainer:': 2, 'isolation': 2, 'crackers': 2, 'mirrors': 2, 'mechanism': 2, 'cooks': 2, 'agh': 2, 'barrymore': 2, \"'do\": 2, 'tops': 2, 'jus': 2, 'whaddo': 2, 'exception': 2, '[hitting': 2, 'handbag': 2, 'stall]': 2, 'victims': 2, 'baking': 2, 'pony': 2, 'job]': 2, 'cupboard]': 2, 'meets': 2, 'mate': 2, '[gestures': 2, 'flashy': 2, 'forbid': 2, 'separated': 2, \"checkin'\": 2, 'gail:': 2, 'exposing': 2, 'marceau': 2, 'wank': 2, 'lifting': 2, 'cushions]': 2, 'savings': 2, '400': 2, 'buds': 2, 'path': 2, 'nose]': 2, 'overweight': 2, 'sandwich]': 2, 'afro': 2, 'moustache]': 2, 'cotter': 2, 'shoulders]': 2, 'keyboard': 2, 'roy:': 2, '[chip': 2, 'hadsome': 2, 'upset]': 2, 'recliners': 2, 'whichever': 2, 'chairs]': 2, 'aaahhhh': 2, 'sacrifice': 2, 'marie': 2, '[her': 2, 'survive': 2, 'larges': 2, 'sub': 2, 'lauging': 2, 'cheeto': 2, \"foolin'\": 2, '1982': 2, 'flock': 2, 'seagulls': 2, 'tickling': 2, 'humm': 2, 'doc': 2, '[points': 2, 'australopithicus': 2, 'habilus': 2, 'patiently': 2, 'wi': 2, 'karl': 2, 'peek': 2, 'planetarium': 2, 'cran': 2, 'cluster': 2, 'undressing': 2, 'silverware': 2, 'look]': 2, 'worms': 2, 'okey': 2, 'scar': 2, 'straddling': 2, 'thanked': 2, 'breasts]': 2, 'sides': 2, 'ceilings': 2, '1922': 2, 'johnny': 2, 'kissing]': 2, 'shape': 2, 'freshen': 2, 'bat]': 2, 'bare': 2, '[shows': 2, 'heaven': 2, 'sore': 2, 'scores]': 2, 'accross': 2, 'casa': 2, 'muppet': 2, 'producer': 2, 'ughh': 2, 'childish': 2, '[childish': 2, 'mi': 2, '[squeezes': 2, 'slippers': 2, '[oven': 2, 'blepe': 2, \"runnin'\": 2, 'brilliance': 2, 'recording': 2, 'velociraptor': 2, 'dino': 2, 'jo': 2, 'rebound': 2, 'dramatic': 2, 'disbeliefe]': 2, 'uhm': 2, 'serengetti': 2, \"to'\": 2, 'ping': 2, 'cambodia': 2, \"'eddie\": 2, 'smeared': 2, '[finishes': 2, 'patients': 2, 'fishtank': 2, 'corner]': 2, 'roomie': 2, \"'new\": 2, \"lives'\": 2, 'ballpark': 2, 'meaningless': 2, 'insult': 2, 'oats': 2, 'tenderness': 2, '[shuts': 2, 'comb': 2, 'dustpan': 2, 'savage': 2, 'voit': 2, 'horton:': 2, 'wong': 2, 'talkin': 2, 'goldfish': 2, 'whe': 2, 'jaunty': 2, 'cache': 2, 'windkeeper': 2, 'goddesses': 2, 'hobbit': 2, 'pyramid': 2, 'sacred': 2, 'porcelain': 2, 'realistic': 2, \"'joey\": 2, 'grapes': 2, 'dab': 2, 'pocket]': 2, 'goddess': 2, 'meetings': 2, 'parrot]': 2, '1200': 2, 'tore': 2, 'unpack': 2, 'watcha': 2, 'rabies': 2, 'travis': 2, 'wing': 2, '[richard': 2, 'buildings': 2, 'jaguar': 2, 'crawled': 2, 'tapes': 2, 'shield': 2, 'sadness': 2, '[shakes': 2, 'dollar]': 2, 'starters': 2, 'grew': 2, 'sah': 2, 'taxes': 2, 'county': 2, 'ben]': 2, 'andes': 2, 'charlotte': 2, 'humanity': 2, 'nerves': 2, 'playoffs': 2, 'ultimately': 2, 'cosmo': 2, \"childrens'\": 2, 'bleed': 2, 'tryin': 2, 'supervision': 2, 'ernie:': 2, 'initials': 2, 'chickened': 2, 'freakish': 2, 'couch]': 2, \"nothing's\": 2, 'kudos': 2, '$127': 2, 'olive': 2, 'loaf': 2, 'mayo': 2, 'trampoline': 2, 'halfway': 2, 'estate': 2, 'threshold': 2, 'squish': 2, 'shares': 2, '$17': 2, 'chp': 2, 'zxy': 2, 'motto': 2, \"dog's\": 2, 'proceed': 2, 'beaten': 2, '56': 2, 'bobbing': 2, 'happiest': 2, 'weapon': 2, 'rope': 2, 'bolts': 2, 'jukebox': 2, 'poach': 2, 'honk': 2, 'shannon': 2, 'stadium': 2, 'custard': 2, 'menus': 2, 'safely': 2, 'coast': 2, '[ushers': 2, 'shoos': 2, 'dennis': 2, 'occupied': 2, 'embarassing': 2, 'caps': 2, 'marker': 2, 'diversion': 2, 'focals': 2, 'condition': 2, 'require': 2, 'flings': 2, 'tournament': 2, 'fu': 2, 'varnish': 2, 'skins': 2, 'wicker': 2, 'july': 2, 'fireworks': 2, '[mr': 2, 'forcing': 2, 'infection': 2, 'remark': 2, 'taffy': 2, 'redoing': 2, 'risk': 2, \"fleischman's\": 2, 'hideous': 2, 'jimmy': 2, 'crashes': 2, 'terror': 2, 'unfortunate': 2, 'tube': 2, 'itchy': 2, 'everbody': 2, 'explained': 2, 'ashley': 2, 'brittany': 2, 'jeannie:': 2, 'dock': 2, 'receive': 2, 'wednesday': 2, \"joseph's\": 2, 'duct': 2, 'efficiently': 2, 'folded': 2, 'neurotic': 2, 'warren': 2, \"kind've\": 2, \"'good\": 2, 'theresa': 2, 'earlier]': 2, 'internet': 2, 'bo': 2, 'buzzed': 2, 'cyberchick': 2, \"mindy's\": 2, 'lobby]': 2, 'sushi': 2, 'cabana': 2, 'wineburg': 2, 'hunter': 2, 'min': 2, 'bongs': 2, 'drummer': 2, 'fewer': 2, 'asses': 2, 'lola': 2, 'marenge': 2, 'pa': 2, 'coach': 2, \"'okay\": 2, 'boil': 2, 'squeaky': 2, 'jabba': 2, 'prisoner': 2, 'szechwan': 2, 'rushmore': 2, 'signify': 2, \"'who\": 2, 'bonding': 2, 'hmph': 2, 'breeze': 2, 'fantasies': 2, 'eighteen': 2, 'europe': 2, 'differently': 2, 'banquet]': 2, 'called:': 2, 'nineteen': 2, 'hola': 2, 'woods': 2, 'gooo': 2, 'curiosity': 2, 'humiliated': 2, 'lunging': 2, 'milkshake': 2, 'sherman': 2, 'sling': 2, 'crew': 2, 'dingus': 2, 'average': 2, 'jars': 2, 'reflex': 2, 'sleepers': 2, \"pillow's\": 2, 'jam]': 2, 'swimmers': 2, \"huggin'\": 2, 'cloth': 2, 'eventhough': 2, 'describes': 2, 'pillar': 2, 'partly': 2, 'wraps': 2, 'etc': 2, 'host:': 2, 'cartons': 2, \"flingin'\": 2, \"flangin'\": 2, 'notepads': 2, 'tragedy': 2, 'tilts': 2, 'ski': 2, 'monster': 2, 'piccata': 2, 'temporarily': 2, 'assure': 2, 'hopeless': 2, 'uff': 2, 'junk': 2, 'cases': 2, 'aloof': 2, 'toughest': 2, 'overseas': 2, 'repeatedly': 2, 'brains': 2, 'suspected': 2, 'naming': 2, 'cubby': 2, 'basinger': 2, 'cindy': 2, 'berry': 2, 'kennedy': 2, 'parker': 2, 'hardy': 2, 'requires': 2, 'ninja': 2, 'drilling': 2, 'dingy': 2, 'holder': 2, 'narrowed': 2, 'hurely': 2, 'sarandon': 2, 'cans': 2, 'headache': 2, 'bro': 2, 'extinguisher': 2, 'cinderelly': 2, 'regulars': 2, 'anyways': 2, 'rulers': 2, 'foam': 2, 'velvet': 2, 'wynona': 2, 'local': 2, 'successfully': 2, 'titanic': 2, 'lifeguards': 2, 'nicole': 2, 'bounce': 2, 'grass': 2, 'fonzy': 2, 'matress': 2, 'king:': 2, 'bicycle': 2, 'refers': 2, 'wethead': 2, 'delievery': 2, 'dom': 2, 'velula': 2, 'boxing': 2, 'counters': 2, 'sneezers': 2, 'carbon': 2, 'fishhook': 2, 'eyebrow': 2, '232': 2, 'fixable': 2, 'varoom': 2, 'suggestions': 2, 'renters': 2, 'brakes': 2, 'honks': 2, 'beds': 2, 'brownie': 2, 'dentists': 2, 'hygienists': 2, 'oral': 2, 'hygiene': 2, 'poltergeist': 2, 'rearranged': 2, 'bens': 2, 'distraction': 2, 'rweee': 2, 'sowed': 2, 'bloodbath': 2, 'jewelery': 2, 'hubba': 2, 'bubba': 2, 'enemas': 2, 'enema': 2, 'ensemble': 2, 'headboard': 2, 'fllipping': 2, 'haaaaaa': 2, 'bonking': 2, 'bribery': 2, 'whaling': 2, 'fashioning': 2, 'alseep': 2, 'wierd': 2, 'wrecked': 2, 'posts': 2, 'richies': 2, 'soulmate': 2, 'burgendy': 2, 'manuver': 2, 'album]': 2, 'charms': 2, 'concentric': 2, 'pattern': 2, 'pitches': 2, 'hells': 2, 'runnin': 2, 'troll': 2, 'tackled': 2, 'fore': 2, 'shiver': 2, 'whered': 2, 'touchdowns': 2, 'netherlands': 2, 'dork': 2, 'ticking': 2, 'fence': 2, 'spikes': 2, 'tagged': 2, 'shrieking': 2, 'ps': 2, 'sarahs': 2, 'shuttle': 2, 'india': 2, 'jesus': 2, 'pursuing': 2, 'squad': 2, 'fortunata': 2, 'fashions': 2, 'fulfil': 2, 'commission': 2, 'batting': 2, 'swans': 2, 'offence': 2, 'boss:': 2, 'filters': 2, 'simulating': 2, 'alien': 2, 'memorize': 2, 'og': 2, 'hangers': 2, 'passin': 2, 'jello': 2, 'apparent': 2, 'hammered': 2, 'drinkin': 2, 'groaning': 2, 'feelin': 2, 'hooing': 2, 'gina': 2, 'veronica': 2, 'sittin': 2, 'cuba': 2, 'pushy': 2, 'teramisu': 2, 'squinting': 2, 'lations': 2, 'pogo': 2, 'albert': 2, 'cheeks': 2, 'invoice': 2, 'assistants': 2, 'stools': 2, 'poet': 2, 'epic': 2, 'handkerchief': 2, 'dense': 2, 'file': 2, 'barber:': 2, 'marking': 2, 'paints': 2, 'shelly': 2, 'dancers': 2, 'pas': 2, 'bouree': 2, 'pianist': 2, 'sh': 2, 'buttmunch': 2, 'edd': 2, '8:02': 2, 'jock': 2, 'nothings': 2, 'calvin': 2, 'allows': 2, 'explodes': 2, 'pedals': 2, 'elses': 2, 'singer': 2, 'ee': 2, 'hidden': 2, 'jingles': 2, \"lady's\": 2, 'poisoning': 2, 'holes': 2, 'lecturer:': 2, 'oversized': 2, 'professor': 2, 'is:': 2, 'nobel': 2, 'dashing': 2, 'issacs': 2, 'disaster': 2, 'itself': 2, 'purchase': 2, 'cous': 2, '038': 2, 'atlanta': 2, 'urrrgh': 2, 'yogart': 2, 'advances': 2, '5000': 2, '71': 2, 'introduces': 2, 'blown': 2, 'golden': 2, 'eggroll': 2, 'languages': 2, 'accepted': 2, 'diplomatic': 2, 'chorus': 2, 'touchet': 2, 'ccan': 2, 'previously': 2, 'tighter': 2, 'organic': 2, 'rebuild': 2, 'timings': 2, 'linen': 2, 'nighties': 2, 'nicely': 2, 'mature': 2, 'whine': 2, 'jeopardising': 2, 'anchovies': 2, 'nor': 2, 'moisturiser': 2, '60': 2, 'recorded': 2, 'fudge': 2, 'sprints': 2, 'lighters': 2, 'kneeling': 2, 'therefore': 2, 'st': 2, 'hostages': 2, '76': 2, 'highway': 2, 'lung': 2, '717': 2, 'sulk': 2, 'rodeo': 2, 'cassette': 2, 'ruth': 2, 'nudes': 2, 'chap': 2, '$20': 2, 'clinton': 2, 'huggin': 2, '865': 2, 'controls': 2, 'porch': 2, 'moans': 2, 'sized': 2, 'mommie': 2, 'daddie': 2, 'baddie': 2, 'adrienne': 2, 'cousins': 2, 'believing': 2, 'cds': 2, 'favours': 2, 'mississ': 2, 'zip': 2, 'spokeswoman:': 2, 'revolution': 2, 'sliced': 2, 'focused': 2, 'goldman': 2, 'shampoo': 2, 'silvia': 2, 'womens': 2, 'radioactive': 2, 'burial': 2, 'government': 2, 'dug': 2, 'rrroof': 2, 'victorian': 2, 'hovering': 2, 'understudy': 2, 'tootsie': 2, 'aroma': 2, 'dud': 2, 'appear': 2, 'painting': 2, 'goop': 2, 'lungs': 2, 'inspecting': 2, 'pirate': 2, 'foster': 2, 'sophies': 2, 'skate': 2, 'crumpled': 2, 'japan': 2, 'bakery': 2, 'intuitive': 2, 'dokey': 2, 'swore': 2, 'burners': 2, 'flimbys': 2, 'expires': 2, 'versus': 2, 'sewer': 2, 'moron': 2, 'surrounded': 2, 'viscously': 2, 'baaad': 2, 'tommys': 2, 'classy': 2, 'doofy': 2, 'manager:': 2, 'blargon': 2, 'aged': 2, 'voyage': 2, '801': 2, 'utah': 2, 'companies': 2, 'pimple': 2, 'unlike': 2, 'abnormality': 2, 'mill': 2, 'johnson': 2, 'burly': 2, 'sissy': 2, 'jasons': 2, 'imagining': 2, 'journal': 2, 'finest': 2, 'schools': 2, 'conquered': 2, 'intellectual': 2, 'designed': 2, 'williams': 2, 'gynaecologist': 2, 'bowling': 2, 'anyoh': 2, 'definately': 2, 'martini': 2, 'aboard': 2, 'painter': 2, 'homerun': 2, 'phil:': 2, 'smacked': 2, 'debut': 2, 'surrounding': 2, 'smacking': 2, 'buttock': 2, 'forearm': 2, 'bruiser': 2, 'listing': 2, 'countries': 2, 'abott': 2, 'sangria': 2, 'castle': 2, 'crushes': 2, 'carved': 2, 'cancelled': 2, 'waters': 2, 'dorf': 2, 'preventing': 2, 'violently': 2, 'wreck': 2, 'beetles': 2, 'wishing': 2, 'sensed': 2, 'prettiest': 2, 'profit': 2, 'shoo': 2, 'specially': 2, 'replaced': 2, 'soho': 2, 'tummy': 2, 'compartments': 2, 'chopper': 2, 'zana': 2, 'kelly': 2, 'dots': 2, 'flyers': 2, 'popped': 2, 'cater': 2, 'judged': 2, 'quiches': 2, 'deserves': 2, 'quiche': 2, 'gogh': 2, 'announcer': 2, 'stub': 2, 'generations': 2, 'berle': 2, 'volcano': 2, 'volcanoes': 2, 'unclogging': 2, 'confuse': 2, 'illegally': 2, 'potter': 2, 'petticure': 2, 'evicted': 2, 'pecs': 2, 'swedish': 2, 'impress': 2, 'touchy': 2, 'manly': 2, 'expects': 2, 'officer:': 2, '3:30': 2, 'interviewer': 2, 'demonstrate': 2, 'hamsters': 2, \"amanda's\": 2, 'dudes': 2, 'goats': 2, '[cheryl': 2, 'instructor': 2, 'era': 2, 'edition': 2, 'oils': 2, '$500': 2, '[kathy': 2, 'toasties': 2, 'grease': 2, 'jeepers': 2, 'creepers': 2, 'lust': 2, '[gunther': 2, 'uhl': 2, 'torture': 2, 'boles': 2, 'casey:': 2, 'bha': 2, 'keyboards': 2, 'emotions': 2, 'siren': 2, 'helicopter': 2, 'grooming': 2, 'fallen': 2, 'appreciated': 2, 'furnished': 2, 'samboucha': 2, 'timing': 2, '$1': 2, 'exchanges': 2, 'recipe': 2, 'burkes': 2, 'jamming': 2, 'timothy': 2, 'shivering': 2, 'cilantro': 2, 'reporter': 2, 'dinners': 2, 'ugliest': 2, 'convincing': 2, 'nova': 2, 'scotia': 2, 'noon': 2, 'canadian': 2, 'posner:': 2, 'brighten': 2, 'designers': 2, 'allesandro': 2, 'expense': 2, 'balanced': 2, 'reasonable': 2, 'cars': 2, 'orson': 2, 'direct': 2, 'commercials': 2, 'snowy': 2, 'draddle': 2, 'foods': 2, 'tonights': 2, 'atmosphere': 2, '327': 2, '238': 2, 'prague': 2, 'conductor:': 2, 'surrogate': 2, 'justthat': 2, 'dark:30': 2, 'everyones': 2, 'crowing': 2, 'ohhhhhhh': 2, 'shesgoing': 2, 'crows': 2, 'cookbooks': 2, 'embryo': 2, 'endometria': 2, 'todays': 2, 'tacks': 2, 'guesses': 2, 'excepted': 2, 'withapples': 2, 'piper': 2, 'implantation': 2, 'nowgo': 2, 'embryossss': 2, '25%': 2, '75': 2, 'gumball': 2, '$16': 2, 'thatokay': 2, 'thereis': 2, 'altering': 2, 'peeve': 2, 'humans': 2, 'phenomenon': 2, 'bejeezus': 2, 'flatley': 2, 'flail': 2, 'containing': 2, 'burlesque': 2, 'gaygas': 2, 'majored': 2, 'spice': 2, 'oooohh': 2, 'roosters': 2, 'dah': 2, 'beginsstop': 2, 'claims': 2, 'liaisons': 2, 'bernies': 2, 'categorizes': 2, 'confer': 2, 'beginsnow': 2, 'profession': 2, 'bings': 2, 'transponding': 2, 'transponcetranspondster': 2, 'signifying': 2, 'nooooooooo': 2, 'tonsils': 2, 'implanted': 2, 'bodys': 2, 'chinadolor': 2, 'progressing': 2, 'steadily': 2, 'adidas': 2, 'drugstore': 2, 'expectation': 2, 'ruining': 2, 'decay': 2, 'massive': 2, 'unpacked': 2, 'closets': 2, 'awwwww': 2, 'awwwwwww': 2, 'pancake': 2, 'cleaners': 2, 'selection': 2, 'insulting': 2, 'necks': 2, 'suffered': 2, 'beefsteak': 2, 'lone': 2, 'mimic': 2, 'lure': 2, 'shhing': 2, 'silvercup': 2, 'studios': 2, 'kurt': 2, 'chantal': 2, 'cable': 2, 'instincts': 2, 'emptive': 2, 'plugged': 2, '$25': 2, '$2': 2, 'liams': 2, 'squeals': 2, 'chatracus': 2, 'washed': 2, 'retrieves': 2, 'theft': 2, 'partys': 2, 'seasons': 2, 'salami': 2, 'pastrami': 2, 'cleavage': 2, 'gunthers': 2, 'tongues': 2, 'babys': 2, 'buts': 2, 'ob': 2, 'gyn': 2, 'ultrasound': 2, '009': 2, 'carryon': 2, 'relating': 2, 'colin': 2, 'booths': 2, 'clarity': 2, 'bugger': 2, 'crabby': 2, 'banner': 2, 'nightie': 2, 'respond': 2, 'usa': 2, 'sycophant': 2, 'respective': 2, 'awoken': 2, 'knickers': 2, 'lists': 2, 'sohey': 2, 'impartial': 2, 'leafy': 2, 'idiots': 2, 'hasty': 2, 'rejoins': 2, 'groom': 2, 'bridal': 2, 'crane': 2, 'mt': 2, '[and': 2, 'attacked': 2, 'expired': 2, 'mellow': 2, 'bash': 2, 'buckingham': 2, 'troubles': 2, 'kiev': 2, 'souvenir': 2, 'embarrass': 2, 'howls': 2, 'eew': 2, 'pillowcase': 2, 'progresses': 2, 'chippy': 2, 'housekeeper': 2, 'oneself': 2, 'shire': 2, 'stepmum': 2, 'steven': 2, 'evilly': 2, 'monty': 2, 'console': 2, 'passenger': 2, 'sighing': 2, 'escorts': 2, 'isle': 2, 'chuckle': 2, 'minister': 2, 'exiting': 2, 'philange': 2, 'bands': 2, 'proof': 2, 'booze': 2, 'quicker': 2, 'defeat': 2, 'underwater': 2, 'yelps': 2, \"parent's\": 2, 'edges': 2, 'mulch': 2, 'wander': 2, 'pains': 2, 'referring': 2, 'impersonating': 2, 'admitted': 2, 'urethra': 2, 'arghhhh': 2, \"alice's\": 2, 'threatening': 2, 'panicking': 2, 'exposure': 2, 'sesame': 2, 'pledges': 2, 'volunteer:': 2, 'collins:': 2, 'volunteer': 2, 'ohmygod': 2, 'culinary': 2, 'reflect': 2, 'shies': 2, 'regularly': 2, 'scheduled': 2, 'storming': 2, 'fought': 2, 'phased': 2, 'eyelash': 2, 'curler': 2, 'mink': 2, 'hence': 2, 'axe': 2, 'bushy': 2, 'crematorium': 2, 'huntley': 2, \"building's\": 2, 'judgement': 2, 'speakerphone': 2, 'frown': 2, 'lease': 2, 'inspector': 2, 'vunda': 2, 'roomies': 2, 'flaps': 2, 'warning': 2, 'salsa': 2, 'thongs': 2, \"thanksgiving's\": 2, '1862': 2, 'tending': 2, 'soldier': 2, 'tent': 2, 'pumping': 2, 'reliving': 2, 'greets': 2, 'compact': 2, 'begging': 2, 'pies': 2, 'humiliate': 2, 'severed': 2, 'stabbed': 2, 'tragic': 2, 'mores': 2, \"heathcliff's\": 2, 'symbolism': 2, 'venture': 2, 'repeating': 2, 'reports': 2, 'deadlines': 2, 'cynthia': 2, 'behavior': 2, 'goodie': 2, 'cyborg': 2, 'robot': 2, 'feminism': 2, 'pervert': 2, \"anyone's\": 2, 'reclines': 2, 'donations': 2, 'crank': 2, 'lawsuit': 2, 'krista': 2, 'weighted': 2, 'numerous': 2, 'skip': 2, 'reacted': 2, 'divorces': 2, \"'99\": 2, 'listed': 2, 'kopel': 2, 'coworkers': 2, \"hornswoggle's\": 2, 'ecstasy': 2, 'avail': 2, 'iceberg': 2, 'apply': 2, 'ot': 2, \"justi'm\": 2, 'torturing': 2, 'checkout': 2, 'hill': 2, \"francis'\": 2, 'danger': 2, 'divert': 2, 'bedtime': 2, 'mist': 2, 'hesitantly': 2, 'ledbetter': 2, 'ledbetter:': 2, 'tenants': 2, 'nametags': 2, 'fever': 2, 'chanting': 2, 'urgent': 2, 'donates': 2, '298': 2, 'grips': 2, 'homicide': 2, 'dreamt': 2, 'undercover': 2, 'foundation': 2, 'freakishly': 2, 'excess': 2, 'jaws': 2, 'surfing': 2, \"zelner's\": 2, 'jen': 2, 'integrity': 2, 'litigate': 2, 'sue': 2, 'zelner': 2, 'pamela': 2, 'cutouts': 2, \"kim's\": 2, 'opinions': 2, 'supported': 2, 'tuscan': 2, 'downtrodden': 2, 'kyle:': 2, 'rummaging': 2, 'bowls': 2, 'spoonful': 2, '$12': 2, \"scene's\": 2, 'sam': 2, 'waterston': 2, 'capricorn': 2, \"week's\": 2, 'nighttime': 2, '152': 2, 'newfound': 2, 'oi': 2, 'foxhole': 2, 'staten': 2, 'hairless': 2, 'leash': 2, 'whiskerson': 2, 'mesozoic': 2, 'paleozoic': 2, \"{y'know\": 2, 'sounding': 2, 'mitt': 2, 'doubts': 2, '{okay': 2, 'thus': 2, 'shutter': 2, 'continuity': 2, 'northern': 2, 'southern': 2, 'illinois': 2, 'ascot': 2, 'glaucoma': 2, '123': 2, '100%': 2, 'puss': 2, 'primetime': 2, 'fauna': 2, 'garfunkle': 2, 'grip:': 2, 'roman': 2, 'aversary': 2, 'nakedness': 2, 'wayne': 2, \"dealer's\": 2, 'pancho': 2, 'vila': 2, 'jackpot': 2, 'propped': 2, 'perry': 2, 'scurries': 2, 'lurking': 2, 'lurk': 2, 'doodled': 2, 'regina': 2, 'hairpiece': 1, 'bemused': 1, 'lapse]': 1, 'intestine': 1, 'pluck': 1, 'murky': 1, 'fixating': 1, 'hysterical': 1, 'sobbing': 1, 'consent': 1, 'caff': 1, 'lamauge': 1, 'drifted': 1, 'organ': 1, 'breating': 1, 'raindrops': 1, 'bluebells': 1, 'sleighbells': 1, \"'hat'\": 1, \"date'\": 1, 'lizards': 1, 'wondrous': 1, 'crapping': 1, 'whim': 1, \"'l'\": 1, 'bracket': 1, 'shredded': 1, 'finkel': 1, 'maching': 1, 'redials': 1, 'mento': 1, \"'one\": 1, \"woman'\": 1, 'flavors': 1, 'jimmies': 1, 'revelation': 1, 'ev': 1, 'chaci': 1, 'louise': 1, 'cunningham': 1, 'charles': 1, 'arcola': 1, 'scornful': 1, \"'billy\": 1, \"hero'\": 1, 'screamer': 1, 'june': 1, 'invade': 1, 'poland': 1, 'grimace': 1, 'squigy': 1, 'graduations': 1, 'okayyy': 1, 'input': 1, 'regional': 1, \"reruns'\": 1, 'pinocchio': 1, 'gippetto': 1, 'selves': 1, 'roz': 1, \"'to\": 1, \"bed'\": 1, 'beacon': 1, 'severe': 1, \"boots'\": 1, 'charging': 1, 'windshields': 1, 'port': 1, 'aromatherapy': 1, \"'anyway'\": 1, 'poured': 1, 'symbolic': 1, 'retailers': 1, 'anthem': 1, 'liza': 1, 'minelli': 1, \"y'serious\": 1, \"concert's\": 1, 'advice:': 1, \"'gee\": 1, \"glacier's\": 1, 'outstide': 1, 'extis': 1, 'ross:hi': 1, \"marty's\": 1, 'slowed': 1, 'ammunition': 1, 'flatness': 1, \"child's\": 1, 'prince': 1, 'ceremony': 1, 'thighmaster': 1, 'eeaagh': 1, 'dreading': 1, 'stomped': 1, \"when'd'ya\": 1, 'doy': 1, \"'doy'\": 1, 'dinah': 1, 'examin': 1, \"'involved'\": 1, 'martha': 1, \"ludwin's\": 1, 'ludwins': 1, 'baby/lesbian': 1, \"'our\": 1, \"harmonica'\": 1, 'digs': 1, 'anecdotes': 1, 'powered': 1, 'preferred': 1, \"'dumped'\": 1, 'stool': 1, 'surgical': 1, 'instrament': 1, 'cervix': 1, \"robbie's\": 1, \"greenstein's\": 1, 'gagging': 1, \"'for\": 1, \"instance'\": 1, \"julia's\": 1, 'tanned': 1, 'borders': 1, 'nonononono': 1, 'imagined': 1, 'nausea': 1, 'enterprise': 1, 'translated': 1, \"naked'\": 1, 'alcoholics': 1, \"people'\": 1, \"'ha\": 1, \"am'\": 1, \"millners'\": 1, 'millners': 1, 'horses': 1, 'warden': 1, 'fumbles': 1, 'cigarett': 1, 'smokes': 1, \"y'miss\": 1, 'stretch': 1, 'swaps': 1, \"y'okay\": 1, 'monthly': 1, \"satan's\": 1, 'minions': 1, 'skipping': 1, \"mine'\": 1, 'karmic': 1, 'debt': 1, 'puling': 1, 'exhale': 1, \"'s'going\": 1, 'schhexy': 1, 'schhorry': 1, 'herd': 1, 'you:': 1, \"'cross\": 1, \"heart'\": 1, 'filter': 1, 'sulkilty': 1, 'credited': 1, 'inconvenience': 1, 'dripping': 1, 'schho': 1, 'guyschh': 1, 'bashing': 1, 'nursery': 1, \"'there\": 1, 'yardstick': 1, 'hasselhof': 1, 'question:': 1, 'hassidic': 1, 'jewellers': 1, 'innate': 1, 'ness': 1, 'gallon': 1, 'homeless': 1, 'vowels': 1, 'ys': 1, 'saltines': 1, 'foil': 1, 'squirt': 1, 'gags': 1, 'reacts': 1, 'hitch': 1, 'hiker': 1, 'flaw': 1, 'pronouncing': 1, 'snort': 1, 'chews': 1, 'hooohhh': 1, 'degenerate': 1, 'undisturbed': 1, 'cental': 1, 'persecuting': 1, 'emphysema': 1, 'stubs': 1, 'wandered': 1, 'everyond': 1, 'deja': 1, 'vu': 1, 'clutch': 1, 'nononono': 1, 'tearful': 1, 'alans': 1, 'boats': 1, 'viking': 1, \"game's\": 1, 'deaf': 1, 'out:': 1, 'penguins': 1, 'consummated': 1, 'cluching': 1, 'mines': 1, 'earned': 1, 'steamed': 1, 'aaand': 1, 'duplex': 1, 'poulet': 1, 'crease': 1, \"took'em\": 1, 'peaches': 1, 'nectarines': 1, 'lesile': 1, 'artelle': 1, 'tiki': 1, 'weeeell': 1, 'trashy': 1, 'squeezing': 1, 'pittsburgh': 1, 'frost': 1, 'beanstalk': 1, 'toothless': 1, 'rink': 1, 'concered': 1, 'handshe': 1, 'predicament': 1, 'dented': 1, 'heyy': 1, \"'pl'\": 1, 'leaping': 1, 'mediterranean': 1, 'curiously': 1, 'staggered': 1, \"stephanopoulos'\": 1, 'snuffalopagus': 1, 'spying': 1, 'adviser': 1, \"clinton's\": 1, 'pucks': 1, 'kitting': 1, 'foreheads': 1, 'gladd': 1, 'dora': 1, 'napping': 1, 'preppy': 1, 'painkillers': 1, 'twelfth': 1, 'pate': 1, 'goose': 1, 'vegetable': 1, 'haaaah': 1, 'rollerson': 1, 'squabble': 1, 'wowww': 1, 'specifically': 1, 'finders': 1, 'keepers': 1, 'weepers': 1, \"'yes'\": 1, 'snatch': 1, 'pheebs:': 1, 'appreciatively': 1, 'collapse': 1, 'orgasms': 1, 'ur': 1, \"gangin'\": 1, 'nutty': 1, 'chocolatey': 1, 'cakey': 1, 'scrunchy': 1, 'convertible': 1, 'choruses': 1, 'eager': 1, 'accents': 1, 'laundorama': 1, 'sevenish': 1, 'belch': 1, 'camper': 1, 'minimal': 1, 'rethink': 1, 'underwearyou': 1, 'softener': 1, 'significant': 1, 'supremely': 1, 'proofs': 1, 'rockys': 1, 'loading': 1, \"show's\": 1, 'uberveiss': 1, 'spaz': 1, 'nother': 1, 'cleveland': 1, 'nibbly': 1, 'virginity': 1, 'inflate': 1, 'cocktails': 1, 'appalachia': 1, 'rambunctious': 1, \"it'snot\": 1, 'norman': 1, 'mailer': 1, 'flails': 1, 'sorting': 1, 'icepack': 1, 'grieve': 1, 'wating': 1, 'impending': 1, 'exclamation': 1, 'vell': 1, 'eva': 1, \"ve've\": 1, 'vork': 1, 'vould': 1, 'pwoblem': 1, 'qviiite': 1, 'dingle': 1, \"envy's\": 1, 'schwang': 1, 'applauding': 1, 'blarrglarrghh': 1, \"y'think\": 1, 'thankyou': 1, 'whadja': 1, 'trolls': 1, 'pronounces': 1, 'fishes': 1, 'israeli': 1, 'border': 1, 'yammon': 1, 'ooooohhh': 1, 'widowed': 1, \"out'\": 1, 'stuff:': 1, 'anthropologically': 1, 'leakey': 1, 'tah': 1, 'daaah': 1, 'attachments': 1, 'bristles': 1, 'psycho': 1, 'organised': 1, 'madcap': 1, 'beads': 1, 'condensation': 1, 'inching': 1, 'pfeeeh': 1, \"courtroom's\": 1, \"'mah\": 1, 'mah': 1, \"mah'\": 1, 'showbusiness': 1, 'moisturizer': 1, 'warned': 1, 'armloads': 1, 'teflon': 1, \"water's\": 1, 'grim': 1, 'showering': 1, 'clenching': 1, 'nonononononnononono': 1, \"'shut\": 1, \"grinch's\": 1, 'grows': 1, 'measuring': 1, \"'this\": 1, 'way:': 1, 'unattainable': 1, 'haphazard': 1, 'exuberance': 1, 'looters': 1, \"victoria's\": 1, 'atrium': 1, 'officiating': 1, 'roomate': 1, 'grossed': 1, 'sweetly': 1, 'frightened': 1, 'intentionally': 1, 'whoooaa': 1, 'milwaukee': 1, '1989': 1, 'mechanical': 1, 'overrated': 1, 'lesbianism': 1, 'groundwork': 1, 'priesthood': 1, 'yeeeeaaaahhh': 1, \"'rachel\": 1, 'sugarless': 1, 'mangled': 1, 'bitten': 1, 'treating': 1, 'bactine': 1, 'tooty': 1, \"'poor\": 1, \"tooty'\": 1, 'trampled': 1, \"perfection'\": 1, \"'i'll\": 1, 'loathe': 1, 'mendels': 1, 'ehhhh': 1, \"bubble's\": 1, 'boyish': 1, 'impish': 1, 'imp': 1, 'slyly': 1, 'heimlich': 1, 'blaaaaaah': 1, 'smiled': 1, 'mopeds': 1, 'goooooooddddddd': 1, 'si': 1, 'poco': 1, 'leetle': 1, 'chains': 1, \"candle's\": 1, '46': 1, '47': 1, 'maniacal': 1, 'bwah': 1, 'definitive': 1, 'mwwwooooo': 1, '7143457': 1, 'dehydrated': 1, 'japanese': 1, 'fluorescent': 1, \"'co\": 1, \"dependent'\": 1, \"'self\": 1, \"destructive'\": 1, 'sallidor': 1, 'bernie': 1, 'spellman': 1, 'vague': 1, 'caro': 1, 'mio': 1, 'phyllis': 1, 'exasperated': 1, 'homosexual': 1, 'vibe': 1, 'pencils': 1, 'sharpened': 1, 'tactlessness': 1, 'contains': 1, \"'jack\": 1, \"predictable'\": 1, \"'buried\": 1, \"services'\": 1, \"'s'no\": 1, 'eternity': 1, \"else'll\": 1, 'dressier': 1, 'forages': 1, 'cemetary': 1, 'remarkably': 1, 'brent': 1, 'mussberger': 1, 'cowboys': 1, 'aff': 1, 'injured': 1, \"muscle's\": 1, 'golfing': 1, \"dorothy's\": 1, 'grinning': 1, 'inanely': 1, 'fleel': 1, 'humouring': 1, 'earphone': 1, 'disability': 1, 'glazed': 1, \"dead'\": 1, 'affirming': 1, 'unsaid': 1, 'fiddle': 1, \"joe's'\": 1, '1939': 1, 'mardi': 1, 'gras': 1, 'radar': 1, 'salary': 1, 'puerto': 1, 'rico': 1, 'blymens': 1, 'abnormally': 1, 'asthma': 1, 'lyme': 1, 'sheepishly': 1, 'boycotting': 1, 'lunar': 1, 'faculty': 1, 'browsing': 1, 'yertle': 1, 'refer': 1, 'bobo': 1, 'feast': 1, \"fixin's\": 1, 'funyuns': 1, 'magnificent': 1, 'reverse': 1, 'spritz': 1, 'displayed': 1, 'snickers': 1, 'infectious': 1, 'vd': 1, 'blossom': 1, 'participate': 1, 'festivities': 1, \"cider's\": 1, 'mulling': 1, 'turking': 1, 'yamming': 1, 'moping': 1, 'shooping': 1, 'incoming': 1, 'tater': 1, 'tot': 1, 'unborn': 1, 'skis': 1, 'spotted': 1, 'crouches': 1, 'acoustical': 1, 'ke': 1, 'eys': 1, 'gills': 1, 'singin': 1, 'keyhole': 1, 'zillion': 1, 'smirky': 1, \"door's\": 1, 'thethis': 1, 'busting': 1, 'carve': 1, 'vomiting': 1, \"guys'd\": 1, 'caption': 1, 'captions': 1, 'follows:': 1, 'hemorrhoids': 1, 'awards': 1, \"'that'\": 1, 'pathe': 1, \"'pathet'\": 1, 'sanskrit': 1, \"'really\": 1, \"live'\": 1, 'jolly': 1, 'pressures': 1, 'holiday:': 1, 'scramble': 1, 'wooh': 1, 'introduction': 1, 'coal': 1, \"bewitchin'\": 1, 'ashes': 1, 'sneezy': 1, 'noth': 1, 'luminous': 1, 'delicate': 1, 'smidge': 1, 'methodical': 1, 'smarter': 1, 'gentler': 1, 'sweeter': 1, 'mock': 1, 'wiggles': 1, \"y'killing\": 1, 'spatulas': 1, 'faeces': 1, 'whiteboard': 1, 'particle': 1, 'accelerators': 1, 'conditions': 1, 'sweeper': 1, \"physicist's\": 1, 'rrrreally': 1, 'tidying': 1, \"pact'\": 1, \"one'll\": 1, 'expenses': 1, 'cheery': 1, 'lifson': 1, 'yamaguchi': 1, 'flench': 1, 'nonononononono': 1, \"max's\": 1, 'artichoke': 1, \"'that\": 1, \"thing'\": 1, 'greet': 1, 'urinate': 1, 'muddy': 1, 'dishevelled': 1, 'bloated': 1, 'pocketbook': 1, 'kerb': 1, 'undressed': 1, 'haaah': 1, 'wildly': 1, \"'reunited'\": 1, 'glitter': 1, 'yoko': 1, \"'phoebe\": 1, 'virtual': 1, 'snowstorm': 1, 'confetti': 1, \"sandy's\": 1, 'vrrbddy': 1, 'whiz': 1, 'alrightalrightalright': 1, \"pickin'\": 1, 'fleas': 1, 'phoning': 1, 'street:': 1, 'horoscope': 1, 'plunge': 1, 'depression': 1, 'momma': 1, \"'woo\": 1, \"hoo'\": 1, 'scout': 1, 'dents': 1, 'knuckles': 1, 'artistic': 1, 'sculpting': 1, \"understand'\": 1, \"'euphoria\": 1, \"unbound':\": 1, 'showtime': 1, 'hbo': 1, 'cinemax': 1, 'passing': 1, '79': 1, \"'mistress\": 1, 'bona': 1, 'sera': 1, 'rigatoni': 1, 'explode': 1, 'beaming': 1, 'congress': 1, 'debating': 1, 'deficit': 1, 'reduction': 1, 'fares': 1, '[next': 1, 'chatting': 1, 'agamemnon': 1, 'famished': 1, \"jeweller's\": 1, 'appraise': 1, 'euphoria': 1, 'euphemisms': 1, 'genitalia': 1, 'myyy': 1, '226': 1, \"'chicas'\": 1, 'slugger': 1, 'licker': 1, 'secondary': 1, 'complication': 1, \"gownit's\": 1, 'bizarro': 1, 'restrung': 1, 'ciao': 1, 'bela': 1, 'jockstrap': 1, 'drun': 1, 'scowling': 1, 'woulda': 1, \"green'\": 1, \"'love\": 1, 'liberated': 1, \"prison'\": 1, \"'j'\": 1, \"'engorged'\": 1, 'knockout': 1, 'brainwaves': 1, 'freudian': 1, 'behaves': 1, 'complex': 1, \"'you'\": 1, 'twists': 1, 'whadyou': 1, 'flushing': 1, 'woozy': 1, 'etch': 1, \"car's\": 1, 'lisbon': 1, 'effect': 1, 'kiddo': 1, 'politely': 1, \"couldn'ta\": 1, 'howdya': 1, 'wags': 1, \"'reaching\": 1, 'heaving': 1, \"'niffle'\": 1, \"'heaving\": 1, 'typist': 1, \"'huge\": 1, 'throbbing': 1, \"pens'\": 1, \"meat's\": 1, 'scrape': 1, 'plunk': 1, 'compass': 1, 'placenta': 1, 'freddie': 1, 'poc': 1, 'nos': 1, 'forefinger': 1, 'mmaah': 1, 'steele': 1, 'mmwa': 1, 'amnio': 1, 'huey': 1, 'chuckling': 1, 'frightenedly': 1, 'yaw': 1, 'flailing': 1, 'deb': 1, 'rona': 1, 'delvecchio': 1, 'hibachi': 1, '4:00': 1, 'somerfield': 1, 'shiatsu': 1, 'unprofessional': 1, 'buon': 1, 'bella': 1, 'racquela': 1, \"racquela's\": 1, 'waitohheyhuh': 1, 'ooooohh': 1, 'voiceover': 1, 'continues:': 1, 'camped': 1, 'oooooo': 1, 'indistinctly': 1, 'fiving': 1, 'moral': 1, 'obligation': 1, 'ladybugs': 1, 'suggest': 1, 'overlap': 1, 'wavers': 1, 'brow': 1, 'olympic': 1, 'scatter': 1, '375': 1, 'climbed': 1, 'altogether': 1, 'astonished': 1, 'chandle': 1, 'wussies': 1, 'raiding': 1, 'startle': 1, 'relatively': 1, 'weave': 1, 'nipular': 1, 'areas': 1, 'shrinky': 1, 'vinyl': 1, 'sparky': 1, 'uhhuh': 1, 'textbook': 1, 'midtown': 1, 'stonefaced': 1, 'bazida': 1, 'mortician': 1, \"y'ever\": 1, \"y'haven't\": 1, 'saucepan': 1, \"'em's\": 1, 'gaze': 1, 'resolve': 1, 'tat': 1, \"'tat\": 1, 'analytical': 1, 'thatthat': 1, 'fail': 1, 'esteem': 1, 'compensate': 1, 'overshadowing': 1, 'conceivable': 1, 'sabotage': 1, 'failures': 1, \"thatthat's\": 1, 'weeble': 1, \"weebles'\": 1, 'lifeboat': 1, 'wobble': 1, 'embolism': 1, \"ronni's\": 1, 'kerplunk': 1, \"shouldn'ta\": 1, \"where'm\": 1, 'restless': 1, 'rappelano': 1, 'mistress': 1, \"bathroom's\": 1, 'fasten': 1, 'seatbelts': 1, 'perceptive': 1, 'rears': 1, 'whacks': 1, \"accountant's\": 1, 'hobby': 1, 'disrespectful': 1, 'poodle': 1, 'stuffer': 1, 'attentive': 1, \"day's\": 1, 'wonderfulness': 1, 'dysfunctional': 1, 'dynamic': 1, 'dependant': 1, 'stunted': 1, 'tina': 1, 'mistakes': 1, 'alcoholic': 1, 'aaawwwwww': 1, 'boobie': 1, 'payback': 1, 'stop:': 1, 'egging': 1, 'pun': 1, 'stutters': 1, 'lesbiani': 1, 'butcome': 1, 'crunches': 1, 'zinfandel': 1, \"yellin'\": 1, 'weeper': 1, 'monthsi': 1, 'magnets': 1, 'digital': 1, 'abby': 1, 'shaves': 1, 'cruelty': 1, 'slather': 1, 'slathering': 1, 'mousses': 1, \"shirt's\": 1, \"stickin'\": 1, 'patrons': 1, 'overpriced': 1, 'reunion': 1, 'cordless': 1, 'obnoxiously': 1, 'lag': 1, 'angeles': 1, 'sage': 1, 'branches': 1, 'sacramental': 1, 'oregano': 1, 'fresca': 1, 'semen': 1, 'tossing': 1, \"ritter's\": 1, 'nokululu': 1, 'oon': 1, 'scotty': 1, 'jared': 1, 'grappa': 1, 'matchmaker': 1, 'stranded': 1, \"guys'll\": 1, 'kristen': 1, 'riggs': 1, 'funnily': 1, 'something:': 1, 'picturewow': 1, 'hairier': 1, 'chief': 1, 'busiest': 1, 'wolverine': 1, \"kristin's\": 1, 'wacky': 1, 'eraser': 1, 'tedlock': 1, 'tedlock:': 1, 'kostelick': 1, 'prank': 1, 'memos': 1, 'inputting': 1, 'temp': 1, 'promotion': 1, 'cheffing': 1, 'ecclectic': 1, 'suity': 1, 'pillman': 1, 'lesser': 1, \"restaurant's\": 1, '10th': 1, \"'ooh'\": 1, \"'ahh'\": 1, \"tony's\": 1, '32': 1, 'ounce': 1, 'puma': 1, 'bzzzz': 1, 'introduce': 1, 'metaphorically': 1, 'furry': 1, 'seal': 1, \"celia's\": 1, 'creamier': 1, 'askew': 1, 'aptitude': 1, 'intelligence': 1, 'ideally': 1, 'multinational': 1, 'corporation': 1, 'appetizers': 1, 'maintaining': 1, 'amateur': 1, 'status': 1, 'innsbruck': 1, \"'76\": 1, 'cruddy': 1, 'overkill': 1, 'caress': 1, 'aback': 1, 'astounded': 1, 'trembling': 1, 'rooting': 1, 'kostelic': 1, 'satisfying': 1, 'yearly': 1, 'structure': 1, 'negotiation': 1, 'cubicle': 1, 'perturbed': 1, 'jon': 1, 'lovitz': 1, 'greeter': 1, 'unconcerned': 1, 'overemphasizing': 1, 'smelt': 1, 'blazed': 1, 'doobie': 1, 'weed': 1, 'hemp': 1, 'ganja': 1, 'cheech': 1, 'rot': 1, 'ravioli': 1, 'celantro': 1, 'pondou': 1, 'inhaling': 1, 'appetite': 1, 'childishly': 1, 'overboard': 1, 'fellows': 1, 'tartlet': 1, 'michener': 1, 'filth': 1, 'agitated': 1, 'whooooaaaa': 1, 'aaaaah': 1, 'aaaaahhh': 1, 'inimitable': 1, 'aprons': 1, 'february': 1, 'snowplows': 1, 'clearing': 1, 'erasing': 1, 'peer': 1, 'signa': 1, 'sayin': 1, 'ursulas': 1, 'indoors': 1, 'neeson': 1, 'morly': 1, 'lesbians': 1, 'distractedly': 1, 'mighta': 1, 'bulge': 1, 'com': 1, 'overwhelms': 1, 'affectionately': 1, 'helens': 1, 'bookbinder': 1, 'ostentatiously': 1, 'whack': 1, 'beams': 1, 'flirtatiously': 1, 'dividing': 1, 'scampers': 1, 'interfering': 1, 'neatness': 1, 'creatures': 1, 'marce': 1, 'outstayed': 1, 'frigerate': 1, 'meltt': 1, 'shirley': 1, 'refrain': 1, 'latin': 1, 'lilt': 1, 'squashing': 1, 'bleats': 1, 'thisll': 1, 'exercises': 1, 'mummies': 1, 'coaches': 1, 'mummys': 1, 'anus': 1, 'seventies': 1, 'layin': 1, 'sympathetically': 1, 'fondle': 1, 'crabtree': 1, 'salts': 1, 'buchman': 1, 'devanow': 1, 'shuddering': 1, 'caffe': 1, 'lattes': 1, 'biscottie': 1, 'supplying': 1, 'skein': 1, 'worlds': 1, 'thinnest': 1, 'quickie': 1, 'rises': 1, 'delightedly': 1, 'seein': 1, 'capade': 1, 'snappily': 1, 'apprehension': 1, 'tangling': 1, 'chrysler': 1, 'defensively': 1, 'distracting': 1, 'ninas': 1, 'shapely': 1, 'departure': 1, 'nen': 1, 'schizophrenia': 1, 'frenzy': 1, 'fairies': 1, 'twinkling': 1, 'whooo': 1, 'wewee': 1, 'assured': 1, 'threat': 1, 'screws': 1, 'manipulates': 1, 'limbs': 1, 'resembles': 1, '13:': 1, 'occurring': 1, 'havin': 1, 'tires': 1, 'wherere': 1, 'bookbinders': 1, 'psychological': 1, 'insincerely': 1, 'hips': 1, 'quizzical': 1, 'tip:': 1, 'dreaded': 1, 'randy': 1, 'wistfully': 1, 'indicate': 1, 'reels': 1, 'doorpost': 1, 'helplessly': 1, \"heckles's\": 1, 'limping': 1, 'rays': 1, 'lowering': 1, 'fraud': 1, 'funnies': 1, 'haunt': 1, \"bay's\": 1, 'heave': 1, 'fetches': 1, 'contemplate': 1, \"starin'\": 1, 'hissy': 1, 'noah': 1, 'wyle': 1, 'clooney': 1, 'saffron': 1, 'consults': 1, 'prettily': 1, 'sprain': 1, 'keyed': 1, 'party:': 1, 'schmush': 1, 'peehe': 1, \"'b'\": 1, 'tableau': 1, 'delighted': 1, 'witticism': 1, 'waggles': 1, 'forkful': 1, 'prune': 1, 'andndash': 1, 'panicky': 1, 'cellars': 1, 'ernest': 1, 'tova': 1, 'borgnine': 1, 'discreetly': 1, 'concerns': 1, 'sss': 1, 'willya': 1, 'altars': 1, 'corners': 1, 'baring': 1, 'resenting': 1, 'brightly': 1, 'aahh': 1, 'chickpea': 1, 'glower': 1, 'daring': 1, 'aayah': 1, 'li': 1, 'freshman': 1, 'destruction': 1, 'staggers': 1, 'agog': 1, 'agitation': 1, 'whyyy': 1, 'clasping': 1, 'bosom': 1, 'clambers': 1, 'animosity': 1, 'slumping': 1, \"riff's\": 1, 'visited': 1, 'brightens': 1, 'hardens': 1, 'packs': 1, 'nutsy': 1, 'negligent': 1, 'attract': 1, \"waiter's\": 1, 'officious': 1, 'duty': 1, 'adopts': 1, 'mirroring': 1, 'neglecting': 1, 'busily': 1, 'chitters': 1, 'scenario': 1, 'scampering': 1, 'stretches': 1, 'simian': 1, '43': 1, \"'kidney'\": 1, \"'idney'\": 1, 'hissing': 1, 'distress': 1, 'hurtle': 1, 'frantic': 1, 'jeopardy': 1, 'vigorous': 1, 'attracting': 1, 'petals': 1, 'hopeful': 1, 'smooths': 1, 'identifying': 1, 'fends': 1, 'unconsciously': 1, \"breakin'\": 1, 'tingling': 1, 'angles': 1, 'sprung': 1, 'anaesthetic': 1, \"'m'\": 1, \"'o'\": 1, \"'monkey\": 1, 'daft': 1, 'encouragingly': 1, 'tenderly': 1, 'kwai': 1, 'proofread': 1, 'compuper': 1, 'responses': 1, 'inquiry': 1, 'crumpes': 1, \"happened'\": 1, 'hiiii': 1, \"notwe're\": 1, \"'read\": 1, 'weep': 1, 'sexist': 1, \"can'tyou\": 1, 'roulettes': 1, 'assorted': 1, 'crudites': 1, 'ooooooo': 1, 'pretz': 1, 'realization': 1, 'jamestown': 1, 'colony': 1, 'virginia': 1, 'ikea': 1, 'pizzeria': 1, 'bart': 1, 'timenot': 1, 'okif': 1, 'differ': 1, 'slipped': 1, \"sak's\": 1, 'randall': 1, 'recommending': 1, 'trident': 1, 'andoh': 1, 'shuffle': 1, 'shuffles': 1, 'expertly': 1, '$10': 1, \"teachin'\": 1, 'exert': 1, 'gals': 1, 'formality': 1, 'chit': 1, 'cincinnati': 1, 'blinds': 1, \"money's\": 1, \"'joker'\": 1, \"'poker'\": 1, \"'j\": 1, \"'joincidence'\": 1, \"'c'\": 1, 'bucko': 1, 'thinkohthat': 1, \"fly's\": 1, 'sores': 1, 'veins': 1, 'pleahello': 1, 'limit': 1, \"'once\": 1, \"'75\": 1, \"'77\": 1, \"'79\": 1, 'unbearable': 1, 'likeness': 1, 'have:': 1, 'camomile': 1, 'medley': 1, 'soother': 1, 'bunk': 1, 'examines': 1, \"'inspiration\": 1, 'mastered': 1, \"'pee\": 1, \"'forget\": 1, 'embargo': 1, 'toootal': 1, 'bombs': 1, 'buses': 1, 'violence': 1, 'frolicking': 1, \"'pwease\": 1, 'pwease': 1, 'unclench': 1, \"g's\": 1, \"'exactly\": 1, \"me'\": 1, \"'tonight'\": 1, \"1890's\": 1, 'feather': 1, 'boa': 1, 'raven': 1, 'pl': 1, \"arm's\": 1, 'dexter': 1, 'clunky': 1, 'touristy': 1, 'lysol': 1, 'regis': 1, 'philbin': 1, 'capuchian': 1, 'newark': 1, 'uncorks': 1, 'ledge': 1, \"shouldn't've\": 1, 'sweetness': 1, 'oookay': 1, 'punishable': 1, 'confiscation': 1, 'reconcile': 1, 'gianetti': 1, \"'morning\": 1, \"luisa'\": 1, \"overalls'\": 1, \"times'\": 1, 'bobcats': 1, 'duuuur': 1, 'nononowaitwaitwaitnono': 1, 'expertise': 1, 'mileu': 1, 'whaaat': 1, 'brushed': 1, 'monkeyish': 1, 'sways': 1, 'unseen': 1, 'vintage': 1, 'oblivious': 1, 'hobble': 1, 'bananaman': 1, 'potassium': 1, \"luisa's\": 1, \"couldn't've\": 1, 'homecoming': 1, 'resists': 1, 'pumps': 1, 'yearbook]': 1, 'von': 1, 'trapp': 1, 'alp': 1, 'lifestyle': 1, 'thetoughest': 1, 'craaazy': 1, 'schoolchildren': 1, 'dangle': 1, 'pressuring': 1, 'testosteroney': 1, 'interestingly': 1, 'shove': 1, \"bendall's\": 1, \"'prompts'\": 1, 'spatters': 1, \"justi'll\": 1, 'adjustment': 1, \"y'don't\": 1, \"'hello'\": 1, 'snubbed': 1, 'dental': 1, \"'s'like\": 1, 'diferent': 1, 'orthodontists': 1, 'lesbi': 1, 'brrrrrrr': 1, 'ducking': 1, 'boogie': 1, 'jig': 1, \"'s'why\": 1, \"things've\": 1, 'oldest': 1, 'schaffer': 1, 'sob': 1, 'announced': 1, 'proposed': 1, 'letters:': 1, 'hoop': 1, \"phone's\": 1, 'investigating': 1, 'doorman': 1, 'nngghhh': 1, 'rdtor': 1, \"sidney's\": 1, 'weights': 1, 'brunette': 1, 'ingrid': 1, 'bergman': 1, 'lineup': 1, \"'s'barry\": 1, 'costalano': 1, 'hogging': 1, 'smock': 1, 'approvingly': 1, 'monocle': 1, 'outing': 1, 'caution': 1, '$69': 1, 'yuk': 1, \"'shall\": 1, \"we'\": 1, 'pepponi': 1, 'neutral': 1, 'switzerland': 1, \"'of\": 1, 'fiddler': 1, 'hushes': 1, \"picture's\": 1, 'lotsa': 1, \"class'\": 1, \"d'y'see\": 1, 'swirly': 1, 'uncoordinated': 1, 'settles': 1, 'mo': 1, 'maturity': 1, 'agressive': 1, 'lovin': 1, 'zoos': 1, 'vigilante': 1, 'stealer': 1, 'astounding': 1, 'gunnersens': 1, 'boston': 1, 'fools': 1, 'nononononono': 1, 'shunned': 1, \"poets'\": 1, \"'now\": 1, 'tiem': 1, 'scranton': 1, \"chair's\": 1, 'brunt': 1, 'dictator': 1, 'slaughtered': 1, 'baldhara': 1, 'zookeeper': 1, 'interactive': 1, 'wildlife': 1, 'docile': 1, 'cornered': 1, 'objects': 1, \"diego's\": 1, 'gains': 1, 'dusting': 1, \"hell've\": 1, 'helloooo': 1, \"blue's\": 1, 'wintergarden': 1, \"'memo\": 1, 'pa:': 1, '67': 1, '42a': 1, 'actor:': 1, 'melodramatically': 1, 'glove': 1, 'mercutio': 1, 'holden': 1, 'mcgroin': 1, 'importantly': 1, 'allways': 1, 'inadequate': 1, 'subconscious': 1, 'dummie': 1, 'workshop': 1, 'sarcasticly': 1, 'redused': 1, 'involves': 1, \"'help\": 1, 'jimbo': 1, 'manchild': 1, 'thumbtack': 1, 'remover': 1, \"bing's\": 1, 'candels': 1, \"belt's\": 1, 'midterms': 1, 'noho': 1, \"'could\": 1, 'hills': 1, \"'tourists\": 1, 'terrorised': 1, 'thinking:': 1, 'uuh': 1, \"tomorrow'\": 1, 'thirteen': 1, 'bicentennial': 1, 'felon': 1, \"ethan's\": 1, 'chad': 1, 'andybody': 1, 'sw': 1, 'chander': 1, 'morphin': 1, 'extravaganza': 1, 'karaoke': 1, 'tracy': 1, 'ebony': 1, 'ivory': 1, 'hires': 1, \"wan't\": 1, '911': 1, 'frankly': 1, 'opener': 1, 'dryers': 1, 'rumour': 1, 'vunerable': 1, 'congressman': 1, 'graft': 1, \"employees's\": 1, 'petrie:': 1, 'gerston': 1, 'santos': 1, 'oooooooooh': 1, 'mimicks': 1, 'allmost': 1, 'immediatly': 1, 'lokk': 1, 'refering': 1, 'mucus': 1, 'arrangements': 1, 'tasteless': 1, 'chunkys': 1, 'sticker': 1, 'weakly': 1, '59': 1, 'swiss': 1, \"nurses'\": 1, \"iti'm\": 1, 'obstetrician': 1, 'knicks/celtics': 1, 'ewing': 1, 'rebuilding': 1, 'waah': 1, 'aa': 1, 'accompanies': 1, 'resent': 1, 'fundamentally': 1, 'unmarriable': 1, 'formal': 1, 'dressy': 1, \"god'\": 1, 'fatherhood': 1, \"son's\": 1, 'jessy': 1, 'cody': 1, 'dylan': 1, 'fiasco': 1, 'cramps': 1, 'hopsital': 1, 'pastry': 1, 'justyeah': 1, 'resembling': 1, 'mazel': 1, 'tov': 1, \"coffee'\": 1, 'loaner': 1, 'stepfather': 1, \"janitor's\": 1, 'irked': 1, 'crowning': 1, 'overhead': 1, 'placed': 1, 'fawning': 1, \"'pfft'\": 1, 'pffft': 1, 'pffffffft': 1, 'inlcuding': 1, 'jillion': 1, 'med': 1, 'piqued': 1, 'conduct': 1, 'ersonal': 1, 'persuade': 1, \"boit'sit's\": 1, 'aaaaaahhhh': 1, 'outisde': 1, 'breakfront': 1, 'alvin': 1, 'theodore': 1, 'basketeers': 1, 'musketeers': 1, 'transaction': 1, 'seuss': 1, \"'love'\": 1, 'temples': 1, \"chinese'\": 1, 'accordance': 1, 'ni': 1, 'chou': 1, 'ihe': 1, 'federal': 1, 'regulations': 1, 'toby': 1, 'pegged': 1, 'giver': 1, 'initial': 1, 'relationshippy': 1, 'spender': 1, 'ticker': 1, 'heightened': 1, 'thisthis': 1, \"'so'\": 1, 'teensy': 1, \"her'\": 1, 'begley': 1, 'environmental': 1, 'rossa': 1, 'figment': 1, 'momentarily': 1, 'reappears': 1, 'hammerhead': 1, \"meani'm\": 1, \"madonna's\": 1, 'sifting': 1, 'ridicule': 1, 'awaiting': 1, 'arrival': 1, 'montague': 1, 'orient': 1, 'vidal': 1, 'slowpokes': 1, 'sympathize': 1, 'counte': 1, 'sumo': 1, 'haircuts': 1, 'anal': 1, \"family's\": 1, '1990': 1, 'q': 1, 'disconnected': 1, 'rrrooossss': 1, 'smoching': 1, 'tutti': 1, 'werewell': 1, 'raquel': 1, 'palpable': 1, 'whincing': 1, 'trusts': 1, 'dudley': 1, 'disclosure': 1, 'indecent': 1, \"frank's\": 1, 'curling': 1, 'paisan': 1, 'cupping': 1, 'whatsa': 1, 'hernia': 1, '[out': 1, 'appreciates': 1, 'rodney': 1, 'nike': 1, 'sneakers': 1, \"suckin'\": 1, \"losin'\": 1, 'sweetums': 1, 'jules': 1, 'escalator': 1, 'moskowitz': 1, 'reaffirms': 1, '53': 1, \"who'd\": 1, 'jody': 1, 'crib': 1, \"why'd\": 1, 'packaging': 1, 'appeal': 1, 'alike': 1, 'cantaloupe': 1, 'peninsula': 1, 'otherside': 1, 'housewares': 1, 'cheddar': 1, \"openin'\": 1, 'misfires': 1, 'spays': 1, \"customer's\": 1, 'blinded': 1, 'suing': 1, 'todd': 1, \"lastin'\": 1, 'sunset': 1, 'bore': 1, 'manipulative': 1, 'occuring': 1, 'itches': 1, 'sneezed': 1, 'flew': 1, 'insignificant': 1, \"messin'\": 1, 'maureen': 1, 'rosilla': 1, 'yanni': 1, 'stomping': 1, 'faint': 1, 'scoff': 1, 'crop': 1, 'darwin': 1, 'celled': 1, 'organisms': 1, 'boyle': 1, 'attorney': 1, \"client's\": 1, 'earthly': 1, 'possessions': 1, 'sullies': 1, 'studied': 1, 'collected': 1, 'species': 1, 'africa': 1, 'grievances': 1, '17th': 1, 'rents': 1, 'mmmmm': 1, 'overlords': 1, 'spacecrafts': 1, \"modeler's\": 1, 'vivian': 1, 'madge': 1, 'aloneville': 1, 'hermit': 1, 'junction': 1, 'pronounced': 1, \"folks'\": 1, 'shellfish': 1, 'minds': 1, 'atom': 1, 'arrogant': 1, 'respected': 1, 'magically': 1, 'seashell': 1, 'y=know': 1, 'snakes': 1, 'risks': 1, 'alison': 1, 'unusually': 1, 'recycle': 1, 'yearbooks': 1, \"jus'\": 1, 'alison:': 1, 'philosopher': 1, 'her:': 1, 'pigeon]': 1, 'aaahh': 1, 'aaaaahh': 1, 'flowers]': 1, 'cheeseburger': 1, 'sheepish]': 1, 'multi': 1, 'functional': 1, 'narnia': 1, 'virility': 1, 'huts': 1, 'gravel': 1, 'pitcher]': 1, 'longest': 1, \"lot's\": 1, 'herself]': 1, 'wonerful': 1, 'matador': 1, '[duncan': 1, 'aside]': 1, 'nippled': 1, 'females': 1, \"lighting's\": 1, 'unflattering': 1, '[video': 1, 'music]': 1, 'stard': 1, 'fo': 1, \"butt's\": 1, \"blockin'\": 1, 'debra': 1, 'nearly': 1, 'hell]': 1, 'nutshell': 1, '[handing': 1, 'papers]': 1, 'straigh': 1, 'gobb': 1, 'exit]': 1, 'pounce': 1, 'gook': 1, 'talk]': 1, 'blurry': 1, 'rodrigo': 1, 'tomorow': 1, 'wry': 1, '62': 1, 'rounding': 1, \"savin'\": 1, 'dust': 1, 'methods': 1, 'somplace': 1, 'clinking': 1, 'ch': 1, 'roper': 1, 'carpaccio': 1, 'prawns': 1, 'thai': 1, 'leeks': 1, 'cheaper': 1, 'cajun': 1, 'catfish': 1, '$33': 1, 'apiece': 1, 'mush': 1, 'ebola': 1, 'eggplant': 1, 'suppliers': 1, 'dorky': 1, 'tiaras': 1, 'partied': 1, 'outreach': 1, 'corporate': 1, '$4': 1, 'steamy': 1, 'maye': 1, 'moody': 1, 'waaah': 1, 'flour': 1, 'swelling': 1, 'thcrabble': 1, 'soapy': 1, 'tegrin': 1, 'backward': 1, 'nirget': 1, 'musician': 1, 'afternoons': 1, 'swirl': 1, 'anvil': 1, 'righ': 1, \"o'\": 1, 'boys:': 1, 'cutie': 1, 'immodest': 1, 'crown': 1, 'beause': 1, 'sloppy': 1, 'carlin': 1, 'phobia': 1, 'phd': 1, 'orally': 1, 'circumstances': 1, 'injection': 1, \"marquel's\": 1, 'bruise': 1, 'puncture': 1, \"s's\": 1, 'jointed': 1, 'charact': 1, 'carseat': 1, 'schiffer': 1, 'zachary': 1, 'singing/screaming': 1, 'ths': 1, 'assuming': 1, 'assign': 1, 'request': 1, 'chez': 1, 'poisoned': 1, \"silvian's\": 1, 'spokes': 1, 'ken': 1, 'infected': 1, 'fearfully': 1, 'property': 1, 'together:': 1, 'repellant': 1, 'wieght': 1, 'insulation': 1, 'dire': 1, '[jogs': 1, 'lagging': 1, 'situps': 1, '[weakly]': 1, 'mouth]': 1, 'clenches': 1, 'zilch': 1, 'feigns': 1, 'indifference]': 1, \"settin'\": 1, 'jealousy': 1, 'opt': 1, 'sanity': 1, \"fluffy's\": 1, \"meowington's\": 1, 'watch]': 1, 'mich': 1, '[distracted]': 1, '[confused]': 1, 'figuring': 1, 'drinking]': 1, '[downs': 1, 'glass]': 1, 'jog': 1, 'puching': 1, 'champange': 1, '[obviously': 1, 'drunk]': 1, '[belligerently]': 1, 'chair]': 1, 'reluctant]': 1, '[dials]': 1, 'michael]': 1, 'bucket]': 1, 'asprin': 1, 'toy]': 1, '[pauses]': 1, '[talks': 1, '[over': 1, '[perky]': 1, \"going'\": 1, 'looooot': 1, '[hurt]': 1, 'fiances': 1, \"groovin'\": 1, 'difficulty': 1, 'afghan': 1, 'unplug': 1, '[getting': 1, 'wine]': 1, 'sunk': 1, 'slid': 1, 'phoe/mnca:': 1, 'megabytes': 1, 'ram': 1, '500': 1, 'megabyte': 1, 'spreadsheet': 1, 'capabilities': 1, 'modem': 1, 'transmits': 1, '[doggedly]': 1, '[rubs': 1, 'together]': 1, 'painfully': 1, '[uncomfortable]': 1, '[impatient]': 1, 'ssshh': 1, 'stress': 1, 'casts': 1, 'loolie': 1, 'rtst': 1, 'muy': 1, 'impressivo': 1, 'rastatter': 1, 'entail': 1, 'synthetic': 1, 'substitute': 1, '[disgusted': 1, 'crumbles': 1, 'dominates': 1, 'holidays:': 1, '[still': 1, 'chewing]': 1, 'marketing': 1, 'enthusiasm]': 1, 'themed': 1, 'abso': 1, '[swallows': 1, 'hard]': 1, 'lutely': 1, 'creating': 1, 'buckles': 1, 'rachel/julie': 1, \"wallet's\": 1, 'diamond': 1, 'computer]': 1, 'logical': 1, 'bold': 1, 'fonts': 1, 'paleontologists': 1, '[long': 1, 'pause]': 1, 'crumb': 1, 'hotline': 1, 'melancholy': 1, 'spock': 1, 'pauses]': 1, '[dejected]': 1, 'joey/chan:': 1, 'run]': 1, 'rattled]': 1, '[remembers': 1, 'is]': 1, '[through': 1, 'gritted': 1, 'teeth]': 1, 'ned': 1, 'ra': 1, 'dinkus': 1, '[squirming]': 1, 'dung': 1, 'beetle': 1, '[coldly]': 1, 'two:': 1, 'three:': 1, 'four:': 1, 'five:': 1, 'six:': 1, 'drapes]': 1, '[near': 1, 'others]': 1, 'sullenly': 1, 'quantities': 1, 'indicated': 1, 'tablespoon': 1, 'fda': 1, 'laboratory': 1, \"weighin'\": 1, 'dedicated': 1, 'appalling': 1, 'devote': 1, 'avery': 1, \"michelle's\": 1, 'morals': 1, 'fishtachios': 1, 'pistachios': 1, 'primarily': 1, 'reconstituted': 1, 'impersonal': 1, 'remnants': 1, 'goooosh': 1, \"'gershwin\": 1, \"musical'\": 1, 'bitemebitemebitemebiteme': 1, \"eatin'\": 1, 'lords': 1, \"leapin'\": 1, \"layin'\": 1, 'impressed]': 1, 'pairs': 1, \"'unfortunate\": 1, \"incident'\": 1, 'couches]': 1, '[childishly]': 1, 'sewn': 1, 'authentic': 1, 'frame]': 1, 'furnishings': 1, 'stepdad': 1, 'oprah': 1, '[showing': 1, 'collie': 1, 'obituaries': 1, 'esther': 1, 'livingston': 1, '[scratches': 1, 'name]': 1, 'updating': 1, '[nervously]': 1, 'kite': 1, 'fa': 1, '[realizes]': 1, 'patent': 1, 'stumble': 1, 'claymation': 1, \"what'll\": 1, 'gutless': 1, 'hair]': 1, 'ithica': 1, 'saratoga': 1, 'oneonta': 1, 'youself': 1, \"upstate's\": 1, 'laurel': 1, 'middletown': 1, 'einstein]': 1, 'swap': 1, 'front]': 1, 'brake': 1, 'belt]': 1, 'paramedics': 1, 'car]': 1, 'sixteenth': 1, 'polish]': 1, '[breaks': 1, \"turnin'\": 1, 'fuse': 1, \"funny's\": 1, 'blackmailed': 1, 'theme:': 1, '[screeches': 1, 'plexiglass': 1, 'tropical': 1, '[sitting': 1, 'pea': 1, '[carrying': 1, 'squares': 1, 'jerky': 1, '[one': 1, 'refrigerator]': 1, '[answering': 1, 'sauna': 1, 'tipping': 1, '[approaches': 1, 'treeger]': 1, \"gonna'\": 1, 'mistletoe]': 1, \"far'd\": 1, 'pharmacy': 1, 'dirtbag': 1, 'hedges': 1, 'standing]': 1, 'wiper': 1, 'guuuyys': 1, 'cola': 1, 'ribbed': 1, 'reviewed': 1, 'royal': 1, 'newspaper]': 1, 'disturbingly': 1, 'unskilled': 1, 'mediocre': 1, 'tribbiana': 1, 'achieve': 1, '153': 1, 'veteranarian': 1, '[sullenly]': 1, 'hiiiiii': 1, 'fbob': 1, 'hands]': 1, 'affection': 1, 'avert': 1, '[exits]': 1, 'looooovvvvve': 1, \"cousin's\": 1, 'loooooovvvvve': 1, 'mugful': 1, 'boned': 1, \"history'\": 1, '[realizing': 1, 'ago]': 1, 'ooooooh': 1, 'bombed': 1, 'dumpster': 1, 'alot': 1, 'nonfat': 1, 'ehhhummmm': 1, 'sip]': 1, 'flask]': 1, 'flask': 1, 'social': 1, 'drinker': 1, \"'c'mon\": 1, 'cake]': 1, 'ooohh': 1, 'lorne': 1, 'bittersweet': 1, '[gasps]': 1, 'schwimmer': 1, 'dual': 1, '[sounding': 1, 'hhhhiiiii': 1, 'estl': 1, 'ecstatic': 1, 'squinky': 1, '[turning': 1, 'bahhhh': 1, 'buttered': 1, '[introducing': 1, 'periodontist': 1, 'beverage': 1, 'moths': 1, '[upset]': 1, 'innn': 1, 'goober': 1, '[not': 1, 'react]': 1, 'sauce]': 1, 'denise': 1, 'mind]': 1, 'waiter]': 1, 'element': 1, '101': 1, 'ium': 1, '[condescendingly]': 1, 'mendelevium': 1, 'blues': 1, 'diploma': 1, 'fini': 1, 'ooooohhhh': 1, 'airline': 1, 'shoelaces': 1, '[three': 1, 'wagon': 1, 'scrapes': 1, 'codependent': 1, 'awwwwwwww': 1, 'soooooo': 1, 'ramore': 1, 'recurring': 1, 'episodes': 1, 'allright': 1, 'feign': 1, 'ignorance': 1, 'builds': 1, 'winky': 1, 'revel': 1, 'revelling': 1, \"monica's]\": 1, 'catered': 1, '[singing': 1, \"rogers'\": 1, 'neighborhood]': 1, 'hurriedly]': 1, 'wallace': 1, 'ramoray': 1, 'wallace:': 1, 'subcranial': 1, 'hematoma': 1, 'braverman': 1, 'inspect': 1, '82': 1, '[central': 1, 'scarier': 1, 'niedman': 1, 'steiger': 1, 'hundredth': 1, \"lady'll\": 1, 'sorority': 1, 'cello': 1, '[laughing]': 1, 'suburbs': 1, 'grownup': 1, 'tendency': 1, 'blessing': 1, 'subtitles': 1, 'groans]': 1, 'adelaide': 1, 'wedding]': 1, 'futile': 1, 'cape': 1, '[wedding': 1, 'butterscotch': 1, 'guest]': 1, 'overhear': 1, 'wonderfully': 1, 'pursue': 1, '[susan': 1, 'lonely]': 1, 'rejected': 1, 'schmenis': 1, '[monkeyshine': 1, 'theme]': 1, 'pouty': 1, 'attitude': 1, 'letter]': 1, 'secretive': 1, 'admirer': 1, 'ford': 1, \"'ps\": 1, 'enclosed': 1, 'suitcase]': 1, \"travelin'\": 1, 'jake': 1, 'emotion': 1, '[rob': 1, 'rob]': 1, 'performers': 1, '[door': 1, 'pan]': 1, \"pan's\": 1, 'stalkers': 1, 'holding]': 1, 'brooke': 1, 'dean': 1, 'administrator': 1, 'capuchan': 1, 'sicker': 1, \"'sometimes\": 1, 'macaws': 1, 'guitar]': 1, 'kids:': 1, 'ooohhh': 1, 'bates': 1, 'wack': 1, 'persue': 1, 'boff': 1, 'tunes': 1, 'grandparents': 1, 'thinner': 1, 'reattaching': 1, 'spinal': 1, 'minites': 1, '[laughs': 1, 'emphatically]': 1, 'choking]': 1, 'diege': 1, 'foodal': 1, 'chokage': 1, 'nibbling': 1, 'hand]': 1, 'informative': 1, 'ambassador': 1, 'sightless': 1, 'spectre': 1, 'macabe': 1, \"zoo's\": 1, 'publicity': 1, 'enigma': 1, 'denizen': 1, 'clydesdales': 1, 'farmer': 1, 'grinds': 1, 'hamburgers': 1, 'nooowww': 1, 'neuro': 1, 'choppered': 1, 'lounge': 1, \"drake's\": 1, 'pretended': 1, 'kiddie': 1, 'outbreak': 1, '[little': 1, '[shouting': 1, 'bisexuals': 1, 'genre': 1, 'pocanos': 1, 'flipper': 1, 'singing]': 1, '[no': 1, '[guard': 1, 'elefante': 1, 'elephant': 1, 'ground]': 1, 'cybill': 1, 'shepard': 1, 'wering': 1, 'suits]': 1, \"chris's\": 1, 'refuses': 1, 'acknowledge': 1, 'moustasche': 1, 'convinces': 1, 'bleach': 1, 'gabe': 1, 'fatigues]': 1, 'camoflauge': 1, 'cap': 1, 'humor': 1, 'set]': 1, 'brussels': 1, 'uhhm': 1, 'susie]': 1, 'stephen': 1, 'hurs': 1, 'stein': 1, 'masturbating': 1, 'makeup]': 1, \"ernie's\": 1, 'crossroads': 1, 'smokin': 1, 'acutally': 1, 'racketball': 1, 'rescedule': 1, 'juist': 1, \"'flaign\": 1, 'en': 1, \"sten'\": 1, 'reservation': 1, \"edna's\": 1, 'swell': 1, 'banannacake': 1, 'mealworms': 1, 'yaaahhh': 1, \"what'dya\": 1, '[phone': 1, 'ove': 1, 'mediating': 1, 'unjustified': 1, 'forehead]': 1, 'flicks': 1, '[flicks]': 1, 'flicked': 1, 'bitches': 1, 'squirmy': 1, 'plaaaa': 1, '[susie': 1, 'clench': 1, 'clothes]': 1, 'groundrules': 1, 'other]': 1, 'time]': 1, 'restroom': 1, 'whistles': 1, 'wearin': 1, 'flossing': 1, 'mirror]': 1, 'adjoining': 1, 'tushie': 1, 'shortly': 1, 'recommended': 1, '[': 1, 'claude]': 1, 'walnut': 1, \"drinkin'\": 1, 'limo]': 1, '[shoots': 1, 'goal]': 1, 'makin': 1, \"payin'\": 1, 'gaudy': 1, 'engraved': 1, '[reads]': 1, 'case]': 1, '[sets': 1, \"wearin'\": 1, 'lettuce': 1, 'tomatos': 1, \"they'r\": 1, 'jullienne': 1, 'aaaahhhhhhh': 1, 'outa': 1, 'ello': 1, 'shower]': 1, \"feelin'\": 1, 'goodfella': 1, 'debloons': 1, 'trophies': 1, 'plaques': 1, 'merit': 1, 'badges': 1, 'disturb': 1, 'basket]': 1, 'splitting': 1, 'hawaii': 1, '[shuffles': 1, 'founder': 1, 'gail': 1, '[waves': 1, '[realizes': 1, 'repeller': 1, 'eyesore': 1, 'liberace': 1, 'anything]': 1, 'geisha': 1, 'conversation]': 1, 'grandkids': 1, 'acc': 1, 'cept': 1, 'respond]': 1, 'lamp]': 1, 'wrist]': 1, 'sorrow': 1, 'haveth': 1, 'steffi': 1, 'graf': 1, 'tush': 1, 'grandson': 1, 'lesiban': 1, 'harmonica': 1, 'dips': 1, 'larger': 1, 'annoyed]': 1, 'check]': 1, 'cheapasaurus': 1, 'greatful': 1, '[standing': 1, 'rained': 1, 'reduce': 1, 'deviated': 1, 'septum': 1, 'torso': 1, '[zooms': 1, 'mayonaise': 1, '[pans': 1, 'unhooked': 1, \"'axel\": 1, \"f']\": 1, 'gublik': 1, '317': 1, 'chill': 1, 'pins': 1, 'corsage': 1, \"chip's\": 1, 'stairs]': 1, 'doubtful': 1, 'harsh': 1, 'atta': 1, 'scrambles': 1, 'change]': 1, 'endtable]': 1, '[going': 1, 'downstairs]': 1, 'slouch': 1, 'covers]': 1, 'acres': 1, 'lever]': 1, 'extend': 1, 'footrests]': 1, 'recline': 1, 'aaaahhhhhh': 1, 'dyke': 1, 'move]': 1, '[beeper': 1, 'trigger': 1, \"cub'\": 1, '86': 1, 'raft': 1, \"rick'em\": 1, 'shake]': 1, '[tilting': 1, '[demonstrating]': 1, \"ok'\": 1, '[demonstrates]': 1, '[tilts': 1, '[bobs': 1, 'changer': 1, \"cd's\": 1, 'heads]': 1, '[bobbing': 1, \"pizza's\": 1, 'sodas': 1, 'opthamologists': 1, 'opthamologist': 1, 'sherrif': 1, 'cadillac': 1, 'cataract': 1, 'kabob': 1, '[grabbing': 1, '[since': 1, '[start': 1, \"moment's\": 1, 'protected': 1, \"laughin'\": 1, 'dimensional': 1, 'xanadu': 1, '[uses': 1, 'see]': 1, \"lyin'\": 1, 'delivered]': 1, \"why're\": 1, 'brothery': 1, 'sexiest': 1, '[his': 1, 'clay': 1, 'loincloth': 1, 'dru': 1, 'motional': 1, \"henry's\": 1, 'fairness': 1, \"grandpa's\": 1, \"sorentino's\": 1, 'pelt]': 1, '[spreads': 1, 'pelt': 1, 'system]': 1, 'booms': 1, \"'billions\": 1, 'ursa': 1, 'unbelievaaaaah': 1, 'youth': 1, 'them]': 1, 'beavis': 1, 'butthead': 1, \"[they're\": 1, '[feels': 1, \"crunch's\": 1, 'waaa': 1, 'unclog': 1, 'doke': 1, 'splotch': 1, \"parents'\": 1, 'stroke': 1, \"'god\": 1, 'iq': 1, \"star's\": 1, \"peein'\": 1, 'rockettes': 1, 'observes': 1, 'vicariously': 1, 'speedster': 1, 'cou': 1, 'leghorn': 1, 'artist:': 1, \"relationship's\": 1, 'equals': 1, 'suffrage': 1, 'heinie': 1, 'tattooed': 1, 'harmon': 1, 'kilerbrew': 1, 'cocoon': 1, 'bimbo': 1, 'shapiro': 1, 'olds': 1, 'mouldings': 1, 'refreshed': 1, 'pale': 1, 'richard]': 1, 'di': 1, '[tosses': 1, 'spoons]': 1, \"these'll\": 1, 'environment': 1, 'wetter': 1, 'scored': 1, 'tattoo]': 1, 'tasteful': 1, 'bairly': 1, 'returns]': 1, '[looks]': 1, 'thing]': 1, 'base]': 1, 'fur]': 1, 'genuine': 1, '[leads': 1, 'uncomprehending]': 1, '[someone': 1, 'improvises': 1, 'saucer': 1, 'claimed': 1, 'offbeat': 1, 'demo': 1, '[congradulating': 1, 'celebrating]': 1, '[celebrating': 1, 'more]': 1, 'not]': 1, '[celebrating]': 1, '[swats': 1, 'insect': 1, 'promptly]': 1, 'folding]': 1, 'dufus': 1, 'mii': 1, '[sarcastically]': 1, 'slippers]': 1, 'barks]': 1, 'terriffic': 1, \"tv's]\": 1, 'lieutenant': 1, 'rommmates': 1, \"producer:they're\": 1, 'beind': 1, 'aquarium': 1, 'fault]': 1, 'acually': 1, 'costing': 1, 'cranial': 1, 'ridge': 1, 'tony]': 1, 'munch': 1, 'diaphram': 1, 'likewise': 1, 'supermarket': 1, 'chorizo': 1, \"when'd\": 1, \"usin'\": 1, '[annoying': 1, 'laugh]': 1, '[pheobe': 1, '[cheer]': 1, 'empty]': 1, 'jonny': 1, 'neweggs': 1, \"'see\": 1, \"pals'\": 1, 'noogies': 1, 'predators': 1, \"changin'\": 1, 'dimension': 1, 'sin': 1, 'ultrasonic': 1, 'teased': 1, 'pissing': 1, '[changes': 1, 'channel]': 1, 'imals': 1, 'stinky': 1, '[stares': 1, \"[chandler's\": 1, 'tabletop': 1, '[reluctantly': 1, 'sings]': 1, 'brad': 1, 'separating': 1, 'siamese': 1, 'venezuela': 1, 'ramone': 1, \"world's\": 1, 'emerald': 1, 'meeee': 1, 'grotesque': 1, 'armless': 1, 'racer': 1, 'abyss': 1, 'laughing]': 1, 'crusty': 1, 'moroccas': 1, 'moring': 1, \"there've\": 1, 'minowick': 1, 'thougtful': 1, '[tilly': 1, 'digest': 1, 'digests': 1, 'alex': 1, \"writer's\": 1, 'writer:': 1, 'jerkweed': 1, \"francesca's\": 1, 'percentage': 1, \"g'night\": 1, \"[rachel's\": 1, 'uhhhooo': 1, 'torrini': 1, 'inteligenct': 1, 'tangellon': 1, 'falls]': 1, 'fleet': 1, 'sew': 1, 'romp': 1, 'chipmunk': 1, 'left]': 1, '[growls': 1, 'somehting': 1, 'agghhh': 1, 'nam': 1, 'scissors]': 1, 'yeesss': 1, 'deerhunter': 1, 'beforehand': 1, 'insoles': 1, 'horton': 1, 'amger:': 1, 'ahhhhhhhhhhhhhhhhhhhhhhhhh': 1, '[sound': 1, \"remore's\": 1, 'shaft]': 1, 'incorporate': 1, 'straightened': 1, 'mildew': 1, 'uhhhaahh': 1, 'pecan': 1, 'looking]': 1, 'fishie': 1, 'cracker]': 1, 'brisk': 1, 'daahh': 1, 'hannibal': 1, 'lecter': 1, 'pallie': 1, \"sellin'\": 1, '8th': 1, 'sqare': 1, 'empowered': 1, 'bearers': 1, 'croan': 1, \"'hello\": 1, 'fallic': 1, \"drivin'\": 1, 'minser': 1, \"'be\": 1, 'minumum': 1, '$3500': 1, 'safari': 1, 'drivin': 1, '$1100': 1, 'lucite': 1, 'condescending': 1, 'pedantic': 1, \"'hang\": 1, \"'somethin'\": 1, \"big's\": 1, 'fonna': 1, '$2300': 1, 'chromantic': 1, 'gaaaahhh': 1, 'fiestier': 1, 'pepperidge': 1, 'avalanche': 1, 'bryce': 1, 'daaahhhh': 1, 'aaahhhhhhh': 1, 'uuuh': 1, 'bedding': 1, 'dehydrator': 1, 'dehydrate': 1, 'apricots': 1, 'required': 1, 'chico': 1, 'smudgy': 1, 'expand': 1, 'attend': 1, 'expressway': 1, 'lighning': 1, 'betrayed': 1, 'arshak': 1, 'movers': 1, 'supper': 1, 'judas': 1, \"wasn''t\": 1, \"livin'\": 1, '[movers': 1, '[approaching': 1, 'mover': 1, 'impulse': 1, 'poecelain': 1, 'greyhound]': 1, 'dong': 1, \"psycho's\": 1, 'mannaquin': 1, 'diff': 1, 'recall': 1, 'moses': 1, 'naah': 1, 'crapped': 1, 'cleans': 1, 'chained': 1, 'forces': 1, '[unchains': 1, 'way]': 1, 'recliner]': 1, 'terriably': 1, 'goodbuy': 1, 'psychopath': 1, 'foos': 1, 'cantelope': 1, 'housetrained': 1, 'frontier': 1, 'wolf': 1, 'yu': 1, \"end'\": 1, 'watching]': 1, '[hear': 1, 'gunshot': 1, '[scene:monica': 1, 'leftovers': 1, 'sprinting': 1, 'bizillionth': 1, 'prower': 1, \"'did\": 1, 'spike': 1, 'bruises': 1, 'minty': 1, 'glare]': 1, 'jag': 1, '[smells': 1, 'butt]': 1, 'susan]': 1, 'liquour': 1, 'yumen': 1, 'speach': 1, 'endearment': 1, 'fields': 1, 'guacamole': 1, \"so'd\": 1, 'palm]': 1, '[passes': 1, 'eyy': 1, 'blacksmith': 1, 'weeping': 1, 'spatula]': 1, 'spatula': 1, 'sidestepped': 1, 'sylvia': 1, 'visitiing': 1, 'momies': 1, 'condary': 1, 'caregiver': 1, 'length]': 1, 'nassau': 1, \"system's\": 1, 'web': 1, 'wonderfullness': 1, 'yankees': 1, 'yankee': 1, \"gehrig's\": 1, 'gehrig': 1, 'resotre': 1, 'sentences': 1, 'shoveling': 1, 'vassar': 1, 'aghh': 1, 'cristmas': 1, 'bailey': 1, 'destroyed': 1, 'reid': 1, 'denied': 1, \"1800's\": 1, 'florence': 1, 'henderson': 1, 'hoggin': 1, 'kickin': 1, 'vernacular': 1, 'nighty': 1, 'nite': 1, '[slaps': 1, \"killin'\": 1, 'pail': 1, 'diaper]': 1, \"'hi'\": 1, \"wha'dya\": 1, '[pauses': 1, 'behuh': 1, 'rotisserie': 1, 'coincidences': 1, \"mcdonald's\": 1, 'macdonald': 1, 'rackets': 1, 'bully': 1, 'des': 1, 'artistes': 1, 'hhhiiii': 1, 'oohhh': 1, 'someone]': 1, 'bulls': 1, 'laps': 1, \"birthfather'\": 1, 'leg]': 1, 'kibbles': 1, 'yippity': 1, '[flings': 1, 'sadwich': 1, 'aahhh': 1, '[dog': 1, 'hehehehey': 1, \"bully's\": 1, 'tie]': 1, \"phoeb's\": 1, 'despite': 1, 'womb': 1, 'yelp': 1, '[innocently]': 1, \"threshold's\": 1, 'sgj': 1, \"'takes\": 1, \"'don't\": 1, '$3': 1, 'financially': 1, 'challenged': 1, 'estrada': 1, 'zexy': 1, \"fella's\": 1, '[dials': 1, 'packets': 1, 'mix]': 1, 'thier': 1, 'mugs]': 1, 'mixing': 1, 'chandler:well': 1, 'continuously': 1, 'stirring]': 1, \"neice's\": 1, 'christening': 1, 'descent': 1, 'custer': 1, 'passage': 1, 'virginities': 1, 'inside]': 1, 'otherwords': 1, 'retardant': 1, 'schnoodle': 1, \"cone'll\": 1, 'follows]': 1, 'genetically': 1, 'gutter': 1, '[waitress': 1, 'drinks]': 1, 'weenies': 1, 'ribs': 1, \"dana's\": 1, 'ovulating': 1, 'guy]': 1, 'tripped': 1, 'ymca': 1, 'staff': 1, 'couruses': 1, 'coins': 1, 'tablecloth': 1, 'committees': 1, 'beneath': 1, 'breast]': 1, \"rache's\": 1, 'dillon': 1, 'emma': 1, 'horriable': 1, \"anyone'd\": 1, 'scholarship': 1, 'graduating': 1, 'testament': 1, 'celica': 1, 'commencement': 1, 'bishop': 1, 'tutu': 1, 'stacy': 1, 'roth': 1, 'parteee': 1, 'shut]': 1, 'sandra': 1, 'festive': 1, '[cutting': 1, 'chrissy': 1, '[peeks': 1, 'bedr': 1, 'clear]': 1, 'chanlder': 1, 'absdolutely': 1, 'goon': 1, 'questioningly': 1, \"let'\": 1, 'movin': 1, '[buzzer': 1, 'beautiul': 1, 'lights]': 1, 'sweetpea': 1, '[ad': 1, 'openers': 1, \"daughter'\": 1, 'markers': 1, 'vascular': 1, 'gunter:': 1, 'illusion': 1, 'roo': 1, '[closes': 1, 'glasses]': 1, \"person's\": 1, \"'monica\": 1, 'bi': 1, 'frames': 1, 'sedaka': 1, 'chimney': 1, '[packs': 1, 'ou': 1, 'earpieces': 1, 'moistening': 1, 'boggle': 1, 'quieter': 1, '[volleyball': 1, 'therapist': 1, 'chosen': 1, 'bansai': 1, 'gulliver': 1, \"[monica's\": 1, 'ridiculed': 1, 'classs': 1, 'yoga': 1, 'bridges': 1, \"bansai's\": 1, 'chiuaua': 1, '[running': 1, \"holdin'\": 1, 'tigers': 1, 'champs': 1, 'chiefs': 1, 'governor': 1, 'condo': 1, 'relied': 1, 'regimented': 1, 'denial': 1, 'wetting': 1, 'reminded': 1, 'forefathers': 1, 'smush': 1, 'occured': 1, \"want's\": 1, 'greene:alright': 1, 'across]': 1, 'creme': 1, \"d'menthe\": 1, 'chateau': 1, 'caresses': 1, 'chest]': 1, 'gelatenous': 1, \"'heads\": 1, \"up'\": 1, 'flan]': 1, 'bananna': 1, 'submaring': 1, 'resurfaces': 1, '[once': 1, 'hiii': 1, 'uncalled': 1, 'jim': 1, \"crochee's\": 1, 'fattest': 1, 'remaking': 1, 'easing': 1, 'blossoms': 1, 'entry': 1, \"morning's\": 1, 'projections': 1, 'alexander': 1, 'tribbianni': 1, '[scott': 1, 'processors': 1, 'splotches': 1, \"ryan's\": 1, 'barnicles': 1, 'hauser': 1, 'lochs': 1, 'unveils': 1, 'incidence': 1, 'operations': 1, 'itching': 1, \"karen'll\": 1, 'phony': 1, 'morale': 1, 'ruffle': 1, \"'what're\": 1, 'scratchy': 1, 'perpendicular': 1, 'suspicion': 1, 'lender': 1, 'nosing': 1, 'chandy': 1, 'rogue': 1, 'seduces': 1, \"worker's\": 1, 'wives': 1, 'freakshow': 1, 'fictional': 1, '[chadler': 1, 'orders': 1, 'cobbler': 1, \"plate's\": 1, '[waving]': 1, '[ryan': 1, '[wipes': 1, 'weapons': 1, 'periscope': 1, 'thingys': 1, 'submarines': 1, \"[ryan's\": 1, 'clo': 1, 'anchors': 1, 'pu': 1, 'rse': 1, '[drops': 1, \"kisser'\": 1, \"'think\": 1, 'tender': 1, 'tensed': 1, \"bride's\": 1, '1800s': 1, \"fiancee's\": 1, 'stuud': 1, 'geeek': 1, 'defended': 1, 'quipy': 1, \"'cut\": 1, \"real'\": 1, \"wedding's\": 1, 'hound': 1, 'basset': 1, '70': 1, 'hovercrafts': 1, 'website': 1, 'guggenheim': 1, 'sp': 1, 'hh': 1, 'kneed': 1, 'comfroting': 1, 'article': 1, 'planner': 1, 'planner:': 1, 'bunched': 1, 'hyphen': 1, 'chopped': 1, 'liver': 1, 'tribiani': 1, \"'da\": 1, \"chesh'\": 1, 'seriousness': 1, 'incidentally': 1, '9:45': 1, '*one*': 1, 'dignity': 1, 'showgirl': 1, 'tended': 1, 'havana': 1, 'coo': 1, 'ban': 1, 'dancing]': 1, 'arrive]': 1, \"life's\": 1, 'winked': 1, 'wink': 1, 'tupolo': 1, 'morrison': 1, 'elton': 1, 'za': 1, 'explains': 1, \"dumpin'\": 1, \"yankin'\": 1, 'blink': 1, 'jedi': 1, 'vibrate': 1, 'skywalker': 1, '_oun_': 1, 'rush_ore': 1, 'hocke': 1, 'teers': 1, 'yeeees': 1, \"'r'\": 1, \"'t'\": 1, 'chemical': 1, 'tenses': 1, 'staton': 1, 'muscle': 1, 'plinky': 1, 'plunky': 1, 'flowing': 1, 'wagering': 1, 'permitted': 1, 'waterfalls': 1, 'trickling': 1, 'fountains': 1, 'brook': 1, \"joey's]\": 1, \"'hate'\": 1, 'idea:': 1, 'it:': 1, 'galaxy': 1, 'technique': 1, 'stamina': 1, \"sharing's\": 1, 'images': 1, 'elle': 1, 'macpherson': 1, 'muhawa': 1, \"'mom\": 1, \"'share'\": 1, \"'scare'\": 1, 'baack': 1, 'mets': 1, 'shea': 1, 'videos]': 1, 'video:april': 1, 'united': 1, 'garrison': 1, 'sumter': 1, 'bombardment': 1, 'monicuddle': 1, \"sam's\": 1, 'strafing': 1, 'troop': 1, \"leia's\": 1, \"dancer's\": 1, \"jabba's\": 1, \"up's\": 1, \"hair's\": 1, 'nervous]': 1, 'quiz': 1, 'spain': 1, 'vain': 1, 'calves': 1, 'rotten': 1, 'clapping': 1, 'vacated': 1, \"'please\": 1, 'negates': 1, \"daughter's\": 1, 'silk': 1, 'ey': 1, 'milne': 1, 'dillhole': 1, 'camping': 1, 'fatigues': 1, \"'all\": 1, '7:33': 1, 'strappys': 1, 'yeahh': 1, 'earlobes': 1, 'michelle:': 1, 'dialed': 1, 'optional': 1, 'correspondence': 1, 'accomplish': 1, 'benefitty': 1, 'abandoning': 1, 'aroused': 1, 'oooo': 1, 'waa': 1, 'yaaaay': 1, 'whitfield': 1, 'institute': 1, 'cretaceous': 1, 'confirmed': 1, 'wholesale': 1, '*fell*': 1, 'socket': 1, 'stalking': 1, 'beepers': 1, 'guidance': 1, \"'gone\": 1, 'employee': 1, 'cuddle': 1, \"'ewww'\": 1, 'rollll': 1, 'tinsy': 1, \"'de\": 1, \"ized'\": 1, 'crumbs': 1, 'curin': 1, \"forgetin'\": 1, 'cuddling]': 1, \"rollin'\": 1, 'stuff]': 1, 'movement': 1, 'donor': 1, '03815': 1, \"6'2\": 1, '170': 1, 'geena': 1, 'davis': 1, 'ache': 1, 'comments:': 1, 'rocket': 1, \"'days\": 1, 'hellooo': 1, \"kissin'\": 1, 'orrr': 1, 'pillars': 1, 'mesh': 1, 'spied': 1, '37135': 1, \"'fraid\": 1, 'astronaut': 1, \"rachel's:\": 1, 'discoveries': 1, 'revolutionary': 1, 'guarantees': 1, \"'kevin'\": 1, 'installing': 1, 'sideways': 1, 'katelynn': 1, \"buffay's\": 1, \"'annie\": 1, \"'right\": 1, 'beret': 1, 'soilder': 1, 'squawks': 1, 'head:': 1, \"'run\": 1, 'distant': 1, 'amazingly': 1, \"'katelynn's'\": 1, \"'will\": 1, 'dinner]': 1, 'vowel': 1, 'tripping': 1, 'feared': 1, \"'let's\": 1, 'chased': 1, 'clingy': 1, 'stomachs': 1, 'cal': 1, 'protects': 1, 'interests': 1, \"'they\": 1, \"way'\": 1, 'canna': 1, 'bumping': 1, 'butcher': 1, 'rejections': 1, \"'weren't\": 1, \"'pretty\": 1, 'coy': 1, \"'aloof'\": 1, \"doof'\": 1, 'unprecedented': 1, 'grumpy': 1, 'dwarves': 1, \"'good'\": 1, \"joe's\": 1, \"barbi's\": 1, \"'too\": 1, 'backyard': 1, 'himself/herself': 1, 'drips': 1, 'his/her': 1, 'lumber': 1, 'jeans': 1, 'snug': 1, 'sergio': 1, 'valentes': 1, 'sistery': 1, 'copperfield': 1, 'fox': 1, 'freebie': 1, 'crawford': 1, 'halle': 1, 'jessica': 1, 'odonnel': 1, 'daniel': 1, 'stevenson': 1, 'canidates': 1, 'catergories': 1, 'reader': 1, 'headin': 1, 'redo': 1, 'highly': 1, 'hamper': 1, 'glued': 1, 'gouged': 1, 'toliet': 1, 'surgeons': 1, 'colon': 1, 'counh': 1, 'feburary': 1, '16th': 1, '25th': 1, 'forgiving': 1, 'fumes': 1, 'extinguishers': 1, 'hose': 1, 'num': 1, 'chucks': 1, 'nugies': 1, 'waistband': 1, 'retiling': 1, 'octopus': 1, 'insisting': 1, 'parlors': 1, 'choices': 1, 'printed': 1, 'winona': 1, 'pfieffer': 1, 'hammel': 1, 'ushered': 1, 'fanny': 1, 'whiffler': 1, 'dislikes': 1, 'dislike': 1, 'hopped': 1, 'caf': 1, 'hazel': 1, 'recognises': 1, 'alternate': 1, 'crawler': 1, 'reimburse': 1, 'flattery': 1, 'draft': 1, 'rider': 1, 'center]': 1, 'dogged': 1, '2x4': 1, 'uglies': 1, 'ferrets': 1, 'plural': 1, 'spitter': 1, 'photographer': 1, 'photography': 1, 'referred': 1, 'shootin': 1, 'dds': 1, 'intensely': 1, 'humidity': 1, '87': 1, 'eggert': 1, 'dismantle': 1, 'nurturing': 1, 'lisa': 1, 'constructive': 1, 'wifes': 1, 'squint': 1, 'alda': 1, 'superhero': 1, 'booo': 1, 'despair': 1, 'medieval': 1, 'appalled': 1, 'tomorrows': 1, 'empire': 1, 'croissant': 1, 'extension': 1, 'betraying': 1, 'downward': 1, 'curve': 1, 'underlines': 1, 'christian': 1, 'compulsively': 1, 'antiquey': 1, 'levines': 1, 'stab': 1, 'bugged': 1, 'messy': 1, 'blindness': 1, 'lecturing': 1, 'facial': 1, 'expressions': 1, 'tricks': 1, 'convey': 1, 'dismissed': 1, 'mall': 1, 'solve': 1, 'accelerating': 1, 'ramp': 1, 'mightve': 1, 'supergay': 1, 'extapa': 1, 'alignment': 1, 'titling': 1, 'careers': 1, 'advised': 1, 'homosexually': 1, 'auditioned': 1, 'contract': 1, 'luchhi': 1, 'daytime': 1, 'jester': 1, 'varrrrrroom': 1, 'varrrrrrrrrrom': 1, 'stomp': 1, 'steering': 1, 'varrrrrrrrroom': 1, 'marshmellows': 1, 'marshmellow': 1, 'clusters': 1, 'vi': 1, 'spectacularly': 1, 'tineals': 1, 'bunnied': 1, 'lightpost': 1, 'baste': 1, 'celebrates': 1, 'quarterback': 1, 'slant': 1, 'marhan': 1, 'marklan': 1, 'klan': 1, 'gha': 1, 'haaaan': 1, 'amazes': 1, 'strengths': 1, 'compulsive': 1, 'eater': 1, 'mono': 1, 'cheaters': 1, 'swollen': 1, 'glands': 1, 'swam': 1, 'fished': 1, 'tackling': 1, 'ble': 1, 'hikes': 1, '5:': 1, 'delivers': 1, 'exhaling': 1, 'intimdating': 1, 'tinker': 1, 'heidi': 1, 'windmill': 1, 'shallow': 1, 'breakthroughs': 1, 'marries': 1, 'womankind': 1, 'huddle]': 1, 'pitch': 1, 'erupt': 1, 'holland': 1, 'sundays': 1, 'snowing': 1, 'macaroons': 1, 'solid': 1, 'shielding': 1, 'marine': 1, 'execute': 1, 'precision': 1, 'penache': 1, 'backswing': 1, 'whacked': 1, 'seasame': 1, 'prime': 1, 'corpses': 1, 'grotesquely': 1, 'tinsel': 1, 'twinkly': 1, 'daydreaming': 1, 'taj': 1, 'mahal': 1, 'slots': 1, 'curtains': 1, 'astronauts': 1, 'honorary': 1, 'overs': 1, 'policeman': 1, 'realilized': 1, 'yikes': 1, 'ageist': 1, 'haunty': 1, 'demonic': 1, 'retrained': 1, 'shapes': 1, 'rudolph': 1, 'jesuss': 1, 'flavoured': 1, 'deities': 1, 'menoreoes': 1, 'gaining': 1, 'rudolphs': 1, 'spiders': 1, 'motivation': 1, 'supply': 1, 'occurred': 1, 'munchies': 1, 'dorms': 1, \"'cookie\": 1, 'stuffers': 1, 'lickers': 1, 'font': 1, 'plumbing': 1, 'aerosol': 1, 'lookie': 1, 'fir': 1, 'tallies': 1, '321': 1, 'charla': 1, '278': 1, '871': 1, 'feverishly': 1, '872': 1, 'nuget': 1, 'diffency': 1, 'loaned': 1, 'nimitz': 1, 'perked': 1, 'kidder': 1, 'presenting': 1, 'tuttles': 1, 'tinfoil': 1, 'mission': 1, 'countdown': 1, 'echo': 1, 'beeping': 1, 'satellite': 1, 'asteroid': 1, 'demonstrating': 1, 'nouse': 1, 'katherine': 1, 'sush': 1, 'arrghh': 1, 'errigh': 1, 'comin': 1, 'gassy': 1, 'asap': 1, 'demeaning': 1, 'yentel': 1, 'dowdy': 1, 'mira': 1, 'arthritic': 1, 'seamstress': 1, 'mannequin': 1, 'dillillio': 1, 'shade': 1, 'kiddin': 1, 'dialer': 1, 'speedily': 1, 'savor': 1, 'hungover': 1, 'hoooo': 1, 'dina': 1, 'overly': 1, 'witnesses': 1, 'groping': 1, \"mussolini's\": 1, 'giddy': 1, 'pioneers': 1, 'baggy': 1, 'surgically': 1, 'softest': 1, 'theresa:': 1, 'kissin': 1, 'receiving': 1, 'soberly': 1, 'interviewed': 1, 'coached': 1, 'congratu': 1, 'consolation': 1, 'botanist': 1, 'botanists': 1, 'growling': 1, 'lunchbox': 1, 'clich': 1, 'enthusiastic': 1, 'outloud': 1, 'tale': 1, 'dickens': 1, 'cliff': 1, 'notes': 1, 'abridgment': 1, \"joanna's\": 1, 'shipped': 1, 'jeannine': 1, 'adios': 1, 'replacing': 1, 'holders': 1, 'beaudalire': 1, \"translation's\": 1, 'boyyyyssss': 1, \"pianist's\": 1, 'roles': 1, 'twila': 1, 'tharp': 1, 'ballet': 1, 'provide': 1, 'senorita': 1, 'meteor': 1, 'translucent': 1, 'vessel': 1, 'emptier': 1, 'loyal': 1, \"girlfriend's\": 1, 'anymorrrrre': 1, 'confidant': 1, 'visits': 1, \"'maybe\": 1, \"'yes\": 1, \"'wh\": 1, \"'hhiii\": 1, \"'man\": 1, 'siegal': 1, 'ity': 1, 'boree': 1, 'packet': 1, 'pretensous': 1, 'finer': 1, 'unpublished': 1, 'headdddd': 1, 'bedd': 1, 'cling': 1, 'stocking': 1, 'classics': 1, 'citizen': 1, 'kane': 1, 'vertigo': 1, 'clockwork': 1, 'grope': 1, 'herseys': 1, 'jogs': 1, 'swims': 1, 'reps': 1, 'klien': 1, 'be:': 1, 'nods:': 1, 'wellll': 1, 'eclipse': 1, 'complement': 1, 'eyeballs': 1, 'squishes': 1, 'trails': 1, 'manuscript': 1, 'josephine': 1, 'lauries': 1, 'foul': 1, 'dainty': 1, 'glory': 1, 'testy': 1, 'concealed': 1, 'platonic': 1, 'neighbour': 1, 'cancelling': 1, '217': 1, 'meh': 1, 'blanks': 1, 'proposes': 1, 'marring': 1, 'boiler': 1, 'destroys': 1, 'recoils': 1, 'nicholson': 1, 'masher': 1, 'complementary': 1, 'thorn': 1, 'yawns': 1, 'vowed': 1, 'thorns': 1, 'rhyming': 1, 'styles': 1, 'meeeee': 1, 'eeee': 1, 'applauds': 1, 'vlad': 1, 'betray': 1, 'unyielding': 1, 'penetrate': 1, 'icy': 1, 'exterior': 1, 'ouija': 1, 'delicacy': 1, 'gingeer': 1, 'artificial': 1, 'slush': 1, 'bionic': 1, 'monger': 1, 'saddest': 1, 'feets': 1, 'chicky': 1, 'pillleeeee': 1, 'layering': 1, 'fabrics': 1, 'bracelets': 1, 'oversizing': 1, 'accessories': 1, 'milks': 1, 'greatness': 1, 'burnin': 1, 'longshot': 1, 'strappy': 1, 'pitstains': 1, 'gazillion': 1, 'pittain': 1, 'heard:': 1, 'parka': 1, 'clearer': 1, 'qualifies': 1, 'blackboard': 1, 'poopy': 1, 'commercial:': 1, 'odour': 1, 'lifes': 1, 'ectomy': 1, 'motherlike': 1, 'anis': 1, 'sharpener': 1, 'gawk': 1, 'copying': 1, 'translates': 1, 'sergeis': 1, 'germans': 1, 'extent': 1, 'ladybug': 1, 'translators': 1, '10:30': 1, 'presented': 1, 'rivera': 1, 'robbinson': 1, 'handheld': 1, 'grinder': 1, 'grinding': 1, 'schemp': 1, 'deadline': 1, 'stressed': 1, 'collating': 1, '400%': 1, 'voulez': 1, 'vous': 1, 'coucher': 1, 'avec': 1, 'moi': 1, 'ce': 1, 'soir': 1, 'fascinated': 1, 'responds': 1, 'talky': 1, 'complements': 1, 'myth': 1, 'insults': 1, 'accompany': 1, \"u2's\": 1, 'don': 1, 'maclean': 1, 'americccan': 1, 'urrgh': 1, 'straightens': 1, 'fabutec': 1, 'substances': 1, 'depths': 1, 'nobodys': 1, 'benefit': 1, 'deathbeds': 1, 'plops': 1, 'zine': 1, 'deadened': 1, 'anybodys': 1, 'treated': 1, 'jeopardise': 1, 'technicality': 1, 'someones': 1, '9:00': 1, 'rehack': 1, '9:15': 1, 'writhing': 1, 'devastated': 1, 'telepathic': 1, 'like:': 1, 'hunched': 1, 'forgiven': 1, 'pharmaceutical': 1, 'drug': 1, 'kidnap': 1, 'cub': 1, 'skedaddle': 1, 'highness': 1, 'meee': 1, 'klein': 1, 'dealie': 1, 'heels': 1, 'yeahhh': 1, '[theres': 1, 'hymn': 1, '253': 1, 'sparrow': 1, 'marathon': 1, 'grrreat': 1, 'tinted': 1, 'unscheduled': 1, 'goooooooooo': 1, 'brace': 1, 'pees': 1, 'restrooms': 1, 'tuschy': 1, 'tailpipes': 1, 'underwire': 1, 'deceptively': 1, 'littered': 1, 'yeahhhhh': 1, 'sputters': 1, 'm*a*s*h': 1, 'anniversaries': 1, 'lasts': 1, 'triple': 1, 'freemont': 1, 'westmont': 1, 'westburg': 1, 'collapsed': 1, 'capacity': 1, 'unsettling': 1, '[rosss': 1, 'tampons': 1, 'pleh': 1, 'helicopters': 1, 'mosey': 1, 'interstate': 1, 'arrrghh': 1, 'skier': 1, 'unsupported': 1, 'winters': 1, 'poseidon': 1, 'batterys': 1, 'battery': 1, 'skimp': 1, '$112': 1, '110': 1, 'exercise': 1, 'suckle': 1, 'audio': 1, 'pffhah': 1, 'hypnotised': 1, 'hypnotise': 1, 'heather': 1, 'scoops': 1, 'vandalism': 1, 'immature': 1, 'growl': 1, 'hiss': 1, 'cheesecake': 1, 'topic': 1, 'plain': 1, 'aint': 1, 'disarray': 1, 'lectured': 1, 'economics': 1, 'walker:': 1, 'texas': 1, 'walker': 1, '44': 1, '88': 1, 'tastrophe': 1, 'stylish': 1, 'participating': 1, 'secretary:': 1, 'romania': 1, 'loon': 1, 'encourage': 1, 'smelled': 1, 'punctured': 1, 'breaths': 1, 'millionaires': 1, 'feminine': 1, 'coliseum': 1, 'lire': 1, 'centre': 1, 'nnnsch': 1, 'shoppin': 1, 'braking': 1, 'recognition': 1, 'doritos': 1, 'separately': 1, 'imperial': 1, 'troopers': 1, 'sharper': 1, 'estefan': 1, 'retarded': 1, 'murrays': 1, 'brilliantly': 1, 'incisive': 1, 'deconstructing': 1, 'psyche': 1, 'datable': 1, 'eavesdrops': 1, 'swoops': 1, 'awwwahuh': 1, 'zillionaire': 1, 'dakota': 1, 'somethings': 1, 'adriennes': 1, 'cowlicky': 1, 'slower': 1, 'inventor': 1, 'schmair': 1, 'penicillin': 1, 'midget': 1, 'jovi': 1, 'stupidly': 1, 'posses': 1, 'lever': 1, 'gunfighter': 1, 'yale': 1, 'macbeth': 1, 'pigtails': 1, 'scenarios': 1, 'improvement': 1, 'silverman': 1, 'bellied': 1, 'livered': 1, 'fashioned': 1, 'shaken': 1, 'cranky': 1, 'dolls': 1, '[rachels': 1, 'versachi': 1, 'gaelic': 1, 'wallpapers': 1, 'faded': 1, 'carpets': 1, 'hardwood': 1, 'attic': 1, 'checkin': 1, 'surreal': 1, 'bark': 1, 'rehearsals': 1, 'props': 1, 'interior': 1, 'licorice': 1, 'coolest': 1, 'incense': 1, 'strand': 1, 'strung': 1, 'ooohhhh': 1, 'crisp': 1, 'clicked': 1, 'committing': 1, 'adrians': 1, 'adrian': 1, 'processed': 1, 'compulsion': 1, 'intimated': 1, 'marshall': 1, 'originated': 1, 'origin': 1, 'giraffes': 1, 'slowing': 1, 'ahhhhim': 1, 'loreo': 1, 'cocoa': 1, 'distracts': 1, 'quincy': 1, 'quincys': 1, 'anchorwoman:': 1, 'improper': 1, 'sturdier': 1, 'toiletries': 1, 'permanent': 1, 'closest': 1, 'stu': 1, 'vincent': 1, 'colonel': 1, 'sanders': 1, 'topless': 1, 'fowl': 1, 'journalist': 1, 'fictitious': 1, 'psychic': 1, 'substantial': 1, 'chickeeeen': 1, 'determine': 1, 'gallivanting': 1, 'aspirins': 1, 'bosses': 1, 'rib': 1, 'liner': 1, 'oke': 1, 'subtle': 1, 'trans': 1, 'yowzah': 1, 'lassie': 1, 'waddle': 1, 'gigantic': 1, 'rachels]': 1, 'bathroom:': 1, 'clipped': 1, 'warranty': 1, 'es': 1, 'stiller': 1, 'criss': 1, 'calmly': 1, 'cailin]': 1, 'pursued': 1, 'approaches]': 1, 'outstanding': 1, 'representation': 1, 'intently': 1, 'lucille': 1, 'lortel': 1, 'uneven': 1, 'millers': 1, 'mannered': 1, 'laughable': 1, 'marshal': 1, 'talmant': 1, 'talentless': 1, 'crab': 1, 'critics': 1, 'plague': 1, 'clawing': 1, 'trashed': 1, 'smartest': 1, 'hurl': 1, 'riboflavin': 1, '7:15': 1, 'hairdo': 1, 'summertime': 1, 'tommyyyy': 1, 'freshly': 1, 'tarp': 1, 'jabbering': 1, 'shehasproblems': 1, 'poops': 1, 'wattles': 1, 'doorways': 1, 'chic': 1, 'whaa': 1, 'flights': 1, 'play]': 1, 'alternative': 1, 'fuels': 1, 'toll': 1, 'visually': 1, 'accessible': 1, 'heeeiiiiii': 1, 'iiiii': 1, 'wrinkly': 1, 'fancier': 1, 'winter': 1, 'highest': 1, 'sowing': 1, \"sowin'\": 1, 'juggler': 1, '`i': 1, \"know'\": 1, 'benign': 1, 'identify': 1, 'lopped': 1, '`we': 1, \"talk'\": 1, 'cheated': 1, 'worsened': 1, 'mechanic': 1, 'sirens': 1, 'rhodes': 1, 'johnson:': 1, 'hamilton': 1, \"jason's\": 1, \"rhodes's\": 1, 'den': 1, 'command': 1, 'dimmer': 1, 'kea': 1, \"millionaire's\": 1, 'watering': 1, 'fiches': 1, 'hiders': 1, 'hugo': 1, 'ligrens': 1, 'design': 1, 'mom:': 1, 'settings': 1, 'glaze': 1, 'fireman:': 1, 'stations': 1, 'savory': 1, 'herbalists': 1, 'brides': 1, 'carin': 1, 'clubbing': 1, 'drawings': 1, 'sos': 1, 'herbalist': 1, 'replaces': 1, 'attended': 1, 'eeh': 1, 'sav': 1, 'resultswhoa': 1, 'conquer': 1, 'banned': 1, '49': 1, 'koon': 1, 'doe': 1, 'brazilian': 1, 'octagon': 1, 'creepin': 1, 'rut': 1, 'gibberish': 1, 'sajs': 1, 'office:': 1, 'flap': 1, 'missouri': 1, 'urine': 1, '[two': 1, 'slickers': 1, 'crystal:': 1, 'crowded': 1, 'williams:': 1, 'petes]': 1, 'eaves': 1, 'robin]': 1, 'gang]': 1, 'heeled': 1, 'ooozing': 1, 'nada': 1, 'stunned]': 1, 'compete': 1, 'are:': 1, 'gouging': 1, 'yeesh': 1, 'grabbin': 1, 'height': 1, 'operators': 1, 'rubdown': 1, 'trainers': 1, 'assassin': 1, 'workout': 1, 'fame': 1, 'computech': 1, 'ricocheted': 1, 'combo': 1, 'appearing': 1, 'confrontational': 1, 'beck': 1, '[pete': 1, 'entourage': 1, 'hunnington': 1, 'abbottttttt': 1, 'boo': 1, 'opponents': 1, 'strength': 1, 'referee:': 1, 'abbott': 1, 'wince': 1, 'arena': 1, 'regrets': 1, 'overnight': 1, 'garage': 1, 'appointments': 1, '862': 1, 'ringside': 1, 'concentration': 1, 'grilling': 1, 'iran': 1, 'thieves': 1, 'conducting': 1, 'praise': 1, 'tanked': 1, 'dicey': 1, 'tapanzi': 1, 'posterior': 1, 'ahhhhhhh': 1, 'ahhhhh': 1, 'ants': 1, 'aggressive': 1, 'ufff': 1, 'precaution': 1, 'spine': 1, 'rotator': 1, 'cuff': 1, 'fracture': 1, 'severely': 1, 'adams': 1, 'killers': 1, 'conclusion': 1, 'stevens': 1, 'joel': 1, 'burg': 1, 'circling': 1, 'hurridly': 1, '1965': 1, 'bummerrr': 1, 'apologises': 1, 'spinster': 1, 'theoretically': 1, 'straw': 1, 'brim': 1, 'impaired': 1, 'ganged': 1, 'flood': 1, 'baths': 1, 'erwins': 1, 'flingy': 1, 'allll': 1, 'boredddd': 1, 'creeping': 1, 'clothing': 1, 'electromagnetic': 1, 'microscopes': 1, 'forensics': 1, 'pinky': 1, 'tuscadero': 1, 'inspiration': 1, 'sponsor': 1, 'hooooo': 1, 'wooooo': 1, 'game]': 1, 'arnolds': 1, 'toenails': 1, 'mermaid': 1, 'satisfaction': 1, 'pier': 1, 'namesake': 1, 'clamed': 1, 'jordan': 1, 'nudge': 1, 'balded': 1, 'nnnnn': 1, 'darkened': 1, 'shhhs': 1, 'm&m': 1, 'nasal': 1, 'sane': 1, 'gooood': 1, 'episode]': 1, 'joked': 1, 'involving': 1, 'towel]': 1, 'chooses': 1, 'sunburned': 1, 'sellfish': 1, 'seashores': 1, 'abandoner': 1, 'loong': 1, 'thorough': 1, 'glance': 1, 'holocaust': 1, 'ennnh': 1, 'canned': 1, 'goods': 1, 'ammonia': 1, 'unfaithful': 1, 'montuak': 1, 'gist': 1, 'fright': 1, 'wails': 1, 'fuchsia': 1, 'mauvvve': 1, '66': 1, 'bedroommmm': 1, 'consummating': 1, 'miffed': 1, 'dressed]': 1, 'rambled': 1, 'trapping': 1, 'apostrophe': 1, 'sliiiide': 1, 'tetanus': 1, 'decorations': 1, '555': 1, '9323': 1, 'oak': 1, 'craftsmanship': 1, 'gepeto': 1, 'accountant': 1, 'glycoma': 1, 'skeptismo': 1, 'roughy': 1, 'peni': 1, 'letterman': 1, 'mascot': 1, 'squirming': 1, \"doy'know\": 1, 'beokay': 1, 'ushering': 1, 'peter:': 1, 'tacked': 1, 'purred': 1, 'sturdy': 1, 'construction': 1, 'coffin': 1, 'lipper': 1, 'spindler': 1, 'devane': 1, 'goldie': 1, 'zuchoff': 1, 'mcgwire': 1, 'breadsly': 1, 'dorfman': 1, 'architect': 1, 'soyou': 1, 'histerically': 1, 'multiplex': 1, 'consoling': 1, 'robbed': 1, 'lookhey': 1, 'insensitive': 1, 'reincarnated': 1, 'futon': 1, 'envision': 1, 'uncertain': 1, 'outdoor': 1, 'paddling': 1, 'rusted': 1, 'rusty': 1, 'schmidgen': 1, 'creaks': 1, 'occurrence': 1, 'creak': 1, 'raved': 1, 'scrapping': 1, 'unconstituional': 1, 'algonquin': 1, 'eatthats': 1, 'weinburg': 1, 'oven:': 1, 'doesntfeel': 1, 'macaroon': 1, 'bosss': 1, 'businesslike': 1, 'scoot': 1, 'pantsuit': 1, 'inever': 1, 'paintings': 1, 'vatican': 1, 'vulcanised': 1, 'spocks': 1, 'treadmill': 1, 'tug': 1, 'pouff': 1, 'learnin': 1, 'negotiating': 1, 'pulp': 1, 'doh': 1, 'rumours': 1, 'stingy': 1, 'legend': 1, 'casserole': 1, 'ingredients': 1, 'vesuvius': 1, 'igneous': 1, 'lava': 1, 'spewing': 1, 'ash': 1, 'dormant': 1, 'vivisection': 1, 'vasdeferens': 1, 'vietnam': 1, 'documentary': 1, 'korean': 1, 'korea': 1, 'kims': 1, 'poppy': 1, 'seed': 1, 'mishap': 1, 'room:': 1, 'prevents': 1, 'clogging': 1, 'didnti': 1, 'coveralls': 1, 'phrases': 1, 'peppiness': 1, 'lycra': 1, 'gymtreat': 1, 'plunger': 1, 'stabilization': 1, '1968': 1, 'flirtin': 1, 'leaqve': 1, 'arabian': 1, 'evictedill': 1, 'washboard': 1, 'flabby': 1, 'saggy': 1, 'spa': 1, 'quitters': 1, 'prospect': 1, 'heeling': 1, 'theokay': 1, 'injure': 1, 'greenpeace': 1, 'nicknames': 1, 'lingo': 1, 'superintendents': 1, 'thatgarbage': 1, 'spotter': 1, 'doomed': 1, 'dancy': 1, 'pademarie': 1, 'twinkle': 1, 'lambert': 1, 'closures': 1, 'lambert:': 1, 'nowait': 1, 'ricks': 1, 'simons': 1, 'simon:': 1, 'woes': 1, 'policemen': 1, '^night': 1, 'day^': 1, 'foxtrot': 1, 'tango': 1, 'lara': 1, 'jenis': 1, \"gang's\": 1, 'chucky': 1, 'exceptionally': 1, \"showin'\": 1, 'whiskey': 1, 'cofax': 1, 'teamed': 1, 'kath': 1, 'researcher': 1, 'floozy': 1, 'varsity': 1, 'organized': 1, 'schedules': 1, 'commodore': 1, '64': 1, 'dope': 1, 'just_': 1, 'phlegm': 1, 'mod': 1, 'splashed': 1, 'leashes': 1, 'frees': 1, 'spinach': 1, 'hoods': 1, 'pneumonia': 1, \"beer's\": 1, 'broth': 1, 'germs': 1, 'nightclub': 1, 'damned': 1, 'fantastically': 1, 'slit': 1, 'rated': 1, 'sitter': 1, '`my': 1, 'keg': 1, '`little': 1, 'similarly': 1, 'clad': 1, '`yes': 1, 'day_': 1, 'initiate': 1, '`what': 1, '[inside]': 1, 'papa': 1, 'spokesmodel': 1, 'doctoral': 1, 'candidate': 1, 'specializing': 1, 'centazoic': 1, 'easiest': 1, 'phebes': 1, \"boy's\": 1, 'destructive': 1, 'rare': 1, 'bookstores': 1, 'dealers': 1, \"author's\": 1, 'meaningful': 1, 'crossbow': 1, 'equipment': 1, 'negativity': 1, \"monican't\": 1, 'monican': 1, 'ahahaha': 1, \"duck's\": 1, 'universal': 1, 'tomorrowthe': 1, 'beed': 1, \"looki've\": 1, 'erectus': 1, 'hunt': 1, 'findings': 1, 'sewage': 1, 'falters': 1, 'dwelling': 1, 'payment': 1, 'finances': 1, '1996': 1, 'rectangular': 1, 'delveccio': 1, 'sombreros': 1, \"ol'\": 1, 'emblem': 1, 'sloppiness': 1, 'oink': 1, 'switches': 1, 'unimpressed': 1, 'funeral]': 1, 'peepers': 1, 'intermission': 1, 'lullabye': 1, 'bukart': 1, 'provided': 1, 'caterers': 1, 'mustering': 1, 'sanitation': 1, 'gooey': 1, 'straddles': 1, '[from': 1, 'sadly]': 1, '[nodding': 1, 'feelings]': 1, 'aahhuuhhh': 1, '[moving': 1, 'kathy]': 1, 'puzzled]': 1, 'sponge': 1, 'scrubbing': 1, 'captured': 1, 'girlfriendwhich': 1, 'upsetfor': 1, 'unfulfilling': 1, 'granted': 1, 'lane': 1, 'elaine': 1, 'tarzan': 1, 'bhannn': 1, 'bhan': 1, 'inno': 1, 'retrieved': 1, 'communicating': 1, 'wordless': 1, 'barking': 1, 'mooing': 1, 'jackhammer': 1, 'bitchin': 1, 'sowow': 1, 'uhohhh': 1, 'disk': 1, 'imi': 1, 'proofing': 1, 'yasmein': 1, 'articles': 1, 'preference': 1, 'parkway': 1, 'aunts': 1, 'poofy': 1, 'agony': 1, 'urn': 1, 'improved': 1, 'electrifying': 1, 'starbucks': 1, 'ridding': 1, 'chimps': 1, 'emptied': 1, 'canti': 1, 'dwarfed': 1, 'intent': 1, 'inspire': 1, 'depriving': 1, 'tainted': 1, 'betrayal': 1, 'dings': 1, 'callin': 1, 'wxrk': 1, 'headsets': 1, 'backpack': 1, 'jabs': 1, 'slammed': 1, 'repacking': 1, 'sentenced': 1, 'honored': 1, 'robbery': 1, 'cornea': 1, 'plank': 1, 'aye': 1, 'matie': 1, 'livin': 1, 'swears': 1, 'savin': 1, 'devoid': 1, 'mooning': 1, 'eggshell': 1, 'threefold': 1, 'dodge': 1, 'okayyyyy': 1, \"bitchin'\": 1, 'sword': 1, 'baguette': 1, 'influence': 1, 'dozens': 1, 'bumblebees': 1, 'alert': 1, 'ganderson': 1, 'funest': 1, 'desks': 1, 'therell': 1, 'qualifications': 1, 'excitedi': 1, 'kit': 1, 'equator': 1, 'posner': 1, 'implementing': 1, 'labels': 1, 'folders': 1, 'mentor': 1, 'cultivating': 1, 'waterbed': 1, 'retraction': 1, 'inedible': 1, 'swill': 1, 'grossly': 1, 'incompetent': 1, 'breadsticks': 1, 'celery': 1, 'lebanon': 1, 'belongings': 1, 'occasional': 1, 'binge': 1, 'effective': 1, 'gandel': 1, 'worf': 1, 'mornin': 1, 'seals': 1, 'depend': 1, 'coloring': 1, 'snowballing': 1, 'energized': 1, 'strained': 1, 'kenny': 1, 'businesses': 1, 'notebook': 1, 'usnothing': 1, 'emillio': 1, 'carlos': 1, 'ado': 1, 'exictement': 1, 'dollup': 1, 'cooperation': 1, 'eveyone': 1, 'oreos': 1, 'oreo': 1, 'simultaneously': 1, 'mercy': 1, 'burring': 1, 'valentines': 1, 'accountants': 1, 'legal': 1, 'tamer': 1, 'headway': 1, 'confrontation': 1, 'cubans': 1, 'basel': 1, 'hadens': 1, 'rhymes': 1, 'budolph': 1, '401': 1, 'ks': 1, 'magnetic': 1, 'dontif': 1, 'youi': 1, 'wasif': 1, 'ummmmmmmm': 1, 'getoh': 1, 'dateoh': 1, 'trousers': 1, 'chilean': 1, 'mango': 1, 'relish': 1, 'bagwhy': 1, 'afterthought': 1, 'maam': 1, '+': 1, 'thoughtit': 1, 'magma': 1, 'ku': 1, 'laude': 1, 'canadians': 1, 'poughkeepsie:': 1, 'salads': 1, 'leeeeean': 1, \"santa's\": 1, 'moncia': 1, 'plese': 1, 'glander': 1, 'eloping': 1, 'conceive': 1, 'expert': 1, 'memorizing': 1, 'rex': 1, 'carnivore': 1, 'cretasous': 1, 'itsthey': 1, 'bun': 1, 'sony': 1, 'akeeper': 1, 'rightthere': 1, 'nicelying': 1, 'tofill': 1, 'semi': 1, 'pliocene': 1, 'fossilised': 1, 'glazing': 1, 'didpot': 1, 'combines': 1, 'passions': 1, 'erotica': 1, 'erotiery': 1, 'donti': 1, 'puppys': 1, 'parenty': 1, '129': 1, 'puddin': 1, 'mulden': 1, 'wowhoa': 1, 'erogenous': 1, 'zones': 1, 'labelling': 1, 'materhorn': 1, '77': 1, 'phillips': 1, 'unnatural': 1, 'squat': 1, 'pear': 1, 'yesno': 1, 'ema': 1, 'tumour': 1, 'abs': 1, 'blouses': 1, 'eliminated': 1, 'stocked': 1, 'donut': 1, 'simulates': 1, 'charged': 1, '$32': 1, 'undermine': 1, 'chester': 1, 'robbins': 1, 'alec': 1, 'baldwin': 1, 'kidman': 1, 'mel': 1, 'gibson': 1, 'eastwood': 1, 'cereals': 1, 'jellies': 1, 'marmalades': 1, '81': 1, 'task': 1, 'instant': 1, 'tate': 1, 'donovan': 1, 'wardrobe': 1, 'adjusts': 1, 'assets': 1, 'conclusions': 1, \"bey'know\": 1, 'accusing': 1, 'kissy': 1, 'fiddling': 1, 'dollies': 1, 'confronted': 1, 'julies': 1, 'charlies': 1, 'polishing': 1, 'frustrating': 1, 'guaranteed': 1, 'polisher': 1, 'unforgivable': 1, 'basing': 1, 'theories': 1, 'gunman': 1, 'communism': 1, 'geometry': 1, 'brushing': 1, 'nicks': 1, 'debriefing': 1, 'redecorated': 1, 'polished': 1, 'youwhat': 1, 'youdid': 1, 'justify': 1, 'billfold': 1, 'bergen': 1, 'helmut': 1, 'spaceballs': 1, 'lures': 1, 'goings': 1, 'guggly': 1, 'giggly': 1, 'jammer': 1, 'aboutwell': 1, 'londonwell': 1, 'shropshire': 1, 'yknowwell': 1, 'kindai': 1, 'hardcore': 1, 's&m': 1, 'guessi': 1, 'relived': 1, 'tenors': 1, 'emanating': 1, 'bait': 1, 'retching': 1, 'memorise': 1, 'isi': 1, 'toughie': 1, 'wiener': 1, 'carts': 1, 'searched': 1, 'cocaine': 1, 'elastic': 1, 'heywhoa': 1, 'clocked': 1, '9:30': 1, 'franticly': 1, 'howhow': 1, 'soaking': 1, 'thatyknow': 1, 'flitted': 1, 'everylittlething': 1, 'wreaks': 1, 'daiquiris': 1, 'whatyknow': 1, 'hestons': 1, 'confronts': 1, 'cannon': 1, 'anotheropp': 1, 'lawrence': 1, 'oliver': 1, 'stank': 1, 'redford': 1, 'stunk': 1, 'stripping': 1, 'insanely': 1, 'spunky': 1, 'smoothest': 1, 'grazed': 1, 'achieved': 1, 'isincredible': 1, 'joshuaguy': 1, 'kindayknow': 1, 'upcoming': 1, 'manicure': 1, 'ohmygawd': 1, 'flushes': 1, 'alimony': 1, 'personalitywell': 1, 'u2': 1, 'somethingor': 1, '1776': 1, 'riverside': 1, '2:00': 1, 'brits': 1, 'cupid': 1, '14th': 1, 'schmoon': 1, 'transferring': 1, 'janice:too': 1, 'vienna': 1, 'barcelona': 1, 'soak': 1, 'plugging': 1, 'electronics': 1, 'controlled': 1, 'outlets': 1, 'espn': 1, 'saver': 1, 'badminton': 1, 'scruddle': 1, 'palaeontologist': 1, 'heschandler': 1, 'energetic': 1, 'onedude': 1, 'referee': 1, 'wolves': 1, 'liam]': 1, 'underway': 1, 'urged': 1, 'mates': 1, 'headfirst': 1, 'youarenot': 1, 'cufflinks': 1, 'pulse': 1, 'electrical': 1, 'travelling': 1, 'inflict': 1, 'swift': 1, 'bloke': 1, 'madman': 1, 'originally': 1, 'wires': 1, 'baseboard': 1, 'chatracus:': 1, 'nosei': 1, 'concussion': 1, 'tightly': 1, '664': 1, 'fuel': 1, 'aimlessly': 1, 'electrician': 1, 'shocks': 1, 'genie': 1, 'stressing': 1, 'cakeooh': 1, 'cravings': 1, 'guava': 1, 'stylewhat': 1, 'doorknobs': 1, 'cupert': 1, 'hewitt': 1, 'ornate': 1, 'doorknob': 1, 'lax': 1, 'buh': 1, 'tricking': 1, 'trench': 1, 'treasure': 1, 'cashmere': 1, 'thief': 1, 'tear': 1, 'magna': 1, 'thinker': 1, 'cherries': 1, 'knot': 1, 'unique': 1, 'hacking': 1, 'plaza': 1, 'surprisedgood': 1, 'footloose': 1, 'flashdance': 1, 'plumber': 1, 'welder': 1, 'anticipation': 1, 'crawl': 1, 'blooded': 1, 'attacks': 1, 'devouring': 1, 'meatwise': 1, 'appetisers': 1, 'cheerleading': 1, 'pom': 1, 'poms': 1, 'cartwheel': 1, 'emilwhoa': 1, 'ughhhh': 1, 'sophisticateda': 1, 'urges': 1, 'snaking': 1, 'flop': 1, 'billmaybe': 1, 'billfree': 1, 'ladys': 1, 'protective': 1, 'mutes': 1, 'tentatively': 1, 'byes': 1, 'madly': 1, 'ukrainian': 1, 'cockpit': 1, 'israel': 1, 'heartbeats': 1, 'rides': 1, 'sweatshop': 1, 'careerand': 1, 'refrigerators': 1, 'boards': 1, 'prefers': 1, 'corny': 1, 'supermodels': 1, 'skinny': 1, 'fertile': 1, 'insider': 1, 'tokyo': 1, 'woken': 1, 'cartoons': 1, 'slays': 1, 'saturn': 1, 'dealership': 1, 'awaken': 1, 'dreadful': 1, 'doorstep': 1, 'transportation': 1, 'combine': 1, 'relaxicab': 1, 'taxicab': 1, 'travels': 1, 'say]': 1, 'youyes': 1, 'booth': 1, 'newman': 1, 'teller': 1, 'vault': 1, 'bellies': 1, 'imy': 1, 'iii': 1, 'honoured': 1, 'cougar': 1, 'traumatised': 1, 'ambitious': 1, 'tonnes': 1, 'stuffill': 1, 'exxon': 1, 'valdez': 1, 'dontmaybe': 1, 'frilly': 1, 'exited': 1, 'coloured': 1, 'frieze': 1, 'pine': 1, 'asparagus': 1, 'au': 1, 'croup': 1, 'filet': 1, 'mignon': 1, 'bitched': 1, 'spilt': 1, 'was:': 1, 'stretching': 1, 'steam': 1, 'playfuldidnt': 1, 'bruce': 1, 'buttafucco': 1, 'chanoey': 1, 'didntim': 1, 'soothes': 1, 'sothis': 1, 'soi': 1, 'migrate': 1, 'leaps': 1, 'ofwhat': 1, 'electricity': 1, 'slightest': 1, 'piano': 1, 'notthats': 1, 'milan': 1, 'superiors': 1, 'afteri': 1, 'lyin': 1, 'untrusting': 1, 'trusting': 1, '94': 1, 'whatyeahwhat': 1, 'markson': 1, 'factyes': 1, 'yayohyay': 1, 'deplane': 1, 'bellyaching': 1, 'blimey': 1, 'bowe': 1, 'seriously/': 1, 'clauss': 1, 'elves': 1, 'yknowyoure': 1, 'meaner': 1, 'chino': 1, 'comelook': 1, 'clogged': 1, 'algernon': 1, 'illustrated': 1, 'oohoh': 1, 'nameoh': 1, 'phoebeball': 1, 'rejoice': 1, 'courtside': 1, 'foreigners': 1, 'lifeyou': 1, 'isntyou': 1, 'pierced': 1, 'thatare': 1, 'commerical': 1, 'technology': 1, 'sprint': 1, 'stoleyou': 1, 'itour': 1, 'sections': 1, 'scarfs': 1, 'didhow': 1, 'speechless': 1, 'pending': 1, 'nuptials': 1, 'schoolboy': 1, 'disappeared': 1, 'silences': 1, 'sleeper': 1, 'withill': 1, 'yeahoh': 1, 'errands': 1, 'indiana': 1, 'tcssh': 1, 'hasyeah': 1, 'connection': 1, 'raspberry': 1, 'beatrice': 1, 'pyjama': 1, 'paging': 1, 'fraiser': 1, 'menstruating': 1, 'ithat': 1, 'needwe': 1, 'uncomprehensively': 1, 'craaaazy': 1, 'alll': 1, 'sleepily': 1, 'defying': 1, 'garter': 1, 'girljoey': 1, 'unconscious': 1, 'marriedim': 1, 'ernies': 1, 'doooo': 1, 'awakening': 1, 'quiets': 1, '$60': 1, 'risking': 1, 'guysll': 1, 'yeeeeahhhh': 1, 'addressing': 1, 'herebut': 1, 'after]': 1, 'hurrying': 1, 'wrongly': 1, 'mailing': 1, 'mails': 1, 'trimester': 1, 'heyyy': 1, 'reallyim': 1, 'happill': 1, 'scene]': 1, 'prevent': 1, 'beachhouse': 1, 'argueing': 1, 'video]': 1, 'portions': 1, 'endtable': 1, 'shiningoh': 1, 'whilst': 1, 'sites': 1, 'gooooood': 1, 'funk': 1, 'causeoh': 1, 'didyou': 1, 'sortve': 1, 'youyeah': 1, 'fiction': 1, 'heyhey': 1, 'bachelors': 1, 'rightoh': 1, 'anthropologists': 1, 'zima': 1, '1998': 1, 'chilie': 1, 'birdies': 1, 'meetin': 1, 'thisah': 1, 'iyknow': 1, 'tad': 1, 'edgy': 1, 'yknowno': 1, 'irreplaceable': 1, 'dialling': 1, 'murders': 1, 'cautiously': 1, 'sterilised': 1, 'bible': 1, 'ambush': 1, 'recognise': 1, 'gonzalez': 1, 'diverse': 1, 'nightstand': 1, '600': 1, 'sadder': 1, 'nieces': 1, 'nephews': 1, 'ritalin': 1, 'expectant': 1, 'procedure': 1, 'shooing': 1, 'concluded': 1, 'remembrance': 1, 'customs': 1, 'travellers': 1, 'cheques': 1, 'cheerie': 1, 'dontcant': 1, 'trots': 1, 'phobo': 1, 'phewbedo': 1, 'phaybobo': 1, 'landmarks': 1, 'hotels': 1, 'rang': 1, 'tarragon': 1, 'florist': 1, 'phoned': 1, 'tulips': 1, 'chilliest': 1, 'carpel': 1, 'tunel': 1, 'syndrome': 1, 'elegant': 1, 'salmonella': 1, 'demolition': 1, 'shovel': 1, 'navigated': 1, 'himohh': 1, 'mywhy': 1, 'tulip': 1, 'londoners': 1, 'tourists': 1, 'suggested': 1, 'comprehends': 1, 'decent': 1, 'booked': 1, 'postponing': 1, 'tepid': 1, 'graveyard': 1, 'hiccups': 1, 'itsuck': 1, 'crunchy': 1, 'greasy': 1, 'aversion': 1, 'duchess': 1, 'fergie': 1, 'dumber': 1, 'dreamed': 1, 'tiered': 1, 'nun': 1, 'thethat': 1, 'rerun': 1, 'bricks': 1, 'musicians': 1, 'alcove': 1, 'irachel': 1, 'ohhdo': 1, 'residence': 1, 'addresses': 1, 'identifies': 1, 'divulge': 1, 'glocken': 1, 'insisted': 1, 'responding': 1, 'absorbed': 1, 'terribly': 1, 'multipage': 1, 'directs': 1, 'chestnuts': 1, 'panchetta': 1, 'disgustingly': 1, 'ht': 1, 'receptions': 1, 'recarpet': 1, 'landscaping': 1, 'remodel': 1, 'cheerfully': 1, 'cheerfulness': 1, 'fare': 1, 'drivers': 1, 'gazebo': 1, 'melba': 1, 'ether': 1, 'montgomery': 1, 'congratulation': 1, 'teenage': 1, 'thieving': 1, 'what/': 1, 'uneasy': 1, 'uneasily': 1, 'throughout': 1, 'sedative': 1, 'burden': 1, 'defensive': 1, 'shine': 1, 'proposing': 1, 'fairyland': 1, 'pisst': 1, 'alter': 1, 'inflection': 1, 'fuggetaboutit': 1, 'refereeing': 1, 'forcefully': 1, 'foots': 1, 'mutters': 1, 'disagreement': 1, 'unnoticed': 1, 'grasps': 1, 'groomsmen': 1, 'thered': 1, 'everlasting': 1, 'encircles': 1, 'declarations': 1, 'declare': 1, 'receptive': 1, 'recessional': 1, 'physician': 1, 'interchangeable': 1, 'drunkenly': 1, 'saysi': 1, 'yippee': 1, 'rightdo': 1, 'objectively': 1, 'areohh': 1, 'suites': 1, 'extricate': 1, 'utterly': 1, 'armful': 1, 'soaps': 1, '747': 1, 'unsuccessful': 1, 'standby': 1, 'ticketed': 1, 'passengers': 1, 'yknowthanks': 1, 'wellnah': 1, 'rossreally': 1, 'failed': 1, 'merlot': 1, 'spritzer': 1, 'airports': 1, 'candlelight': 1, 'liquored': 1, 'angus': 1, 'wheatsheaf': 1, 'woohoo': 1, 'hati': 1, 'frosty': 1, 'delayed': 1, 'abandon': 1, \"y'knowemily\": 1, 'shabby': 1, 'stem': 1, 'rash': 1, 'treatment': 1, \"can'ti\": 1, 'smudgey': 1, 'deflated': 1, 'tower': 1, 'bums': 1, 'reserve': 1, 'stemmed': 1, 'potpourri': 1, 'wantedtell': 1, 'allow': 1, 'massacre': 1, 'tremendous': 1, 'bask': 1, 'kissey': 1, \"justy'knowstop\": 1, 'culture': 1, 'puke': 1, \"readin'\": 1, 'events': 1, 'fossilized': 1, 'floated': 1, 'howl': 1, 'retreat': 1, 'leaking': 1, 'rightooh': 1, 'aaiiyyyeeee': 1, 'delivering': 1, 'internal': 1, 'delaware': 1, 'mazada': 1, '2%': 1, 'financing': 1, 'headlines': 1, 'playpen': 1, 'eitherooh': 1, 'thunder': 1, 'fonzerelli': 1, 'fonz': 1, 'dilatedamundo': 1, 'defending': 1, \"goofin'\": 1, 'giiiiiiift': 1, 'resident': 1, 'specified': 1, 'doogie': 1, \"fonz's\": 1, 'unload': 1, 'ordinarily': 1, \"optionwhat's\": 1, 'froze': 1, 'gulf': 1, 'shift': 1, 'headlock': 1, 'rocking': 1, 'momi': 1, 'clamp': 1, 'sterile': 1, '31': 1, 'bongos': 1, 'yesssss': 1, 'thrice': 1, 'heated': 1, 'goof': 1, 'definition': 1, 'fangled': 1, 'petri': 1, 'liotta': 1, 'prissy': 1, 'twit': 1, 'vomited': 1, \"ony'know\": 1, 'muppets': 1, 'unselfish': 1, \"there'sno\": 1, 'shhst': 1, 'harassing': 1, 'relatives': 1, 'subdued': 1, 'unitel': 1, 'snuck': 1, 'raked': 1, 'stoop': 1, 'jackass': 1, 'stove': 1, \"can'twhat\": 1, \"agent's\": 1, 'emeril': 1, 'emeril:': 1, 'broiling': 1, 'caterpillars': 1, 'william': 1, 'sonoma': 1, 'cirque': 1, 'du': 1, 'soleil': 1, 'shoving': 1, 'operator': 1, 'fate': 1, 'unenthusiastic': 1, 'donate': 1, 'surpassed': 1, 'viewers': 1, 'sharpest': 1, 'feeloh': 1, 'latex': 1, 'prying': 1, 'screwdriver': 1, 'grove': 1, 'peaks': 1, '3:02': 1, 'sunrise': 1, 'interruptions': 1, 'lotta': 1, 'pepto': 1, 'bismol': 1, 'repopulate': 1, 'boils': 1, \"poo's\": 1, 'chocolates': 1, 'os': 1, 'unacceptable': 1, 'suckers': 1, 'mugsy': 1, 'wigging': 1, 'monnnnn': 1, 'disastrous': 1, 'rollos': 1, 'colleagues': 1, 'rollo': 1, 'diarrhea': 1, '$300': 1, 'urghh': 1, 'woofing': 1, 'twenties': 1, 'alka': 1, 'seltzer': 1, 'obsessing': 1, 'assumed': 1, 'reunions': 1, 'offnothing': 1, 'thanohhh': 1, 'convention': 1, 'dismisses': 1, 'ohhhhhhhhhhh': 1, 'overhand': 1, \"fun's\": 1, 'heirloom': 1, 'belonged': 1, 'heirlooms': 1, 'boot': 1, \"knife's\": 1, 'existence': 1, 'filipino': 1, \"it'semily\": 1, 'extreme': 1, \"silvie's\": 1, 'coodies': 1, 'poison': 1, 'flickers': 1, 'looming': 1, 'activates': 1, 'minnelli': 1, 'sublet': 1, 'columbia': 1, 'rail': 1, 'commute': 1, 'continuum': 1, 'breathless': 1, 'bigfoot': 1, 'bunyan': 1, 'acceptance': 1, 'cremate': 1, 'pelts': 1, 'cremated': 1, 'quirky': 1, 'fossil': 1, 'samples': 1, 'shutters': 1, 'rebuke': 1, 'minks': 1, \"iit's\": 1, 'yetii': 1, 'fogger': 1, 'appearances': 1, \"sack's\": 1, 'underprivileged': 1, 'capri': 1, 'spackling': 1, 'frowning': 1, 'curbside': 1, 'tormenting': 1, 'squirrels': 1, 'geographic': 1, \"tribe's\": 1, 'knobs': 1, 'nomad': 1, 'gonad': 1, 'inspected': 1, 'inspector:': 1, 'inspectors': 1, 'bribes': 1, 'deducted': 1, \"chef's\": 1, 'hatless': 1, 'detective': 1, 'sidekick': 1, 'sidestep': 1, 'looong': 1, 'moca': 1, 'jazzed': 1, 'nonstop': 1, 'violations': 1, 'awed': 1, 'enclosure': 1, 'sail': 1, 'alligator': 1, 'ahhhhhhhhhh': 1, 'dyslexics': 1, 'hunch': 1, 'accompanying': 1, 'johnos': 1, \"you'rehey\": 1, 'affordable': 1, 'circled': 1, 'roughly': 1, 'bleaker': 1, \"lisettie's\": 1, 'thatthis': 1, 'cleaner': 1, 'convenience': 1, 'references': 1, 'reliable': 1, 'barks': 1, '136': 1, 'dawns': 1, 'yonder': 1, 'dunder': 1, 'mingle': 1, 'bloomies': 1, 'solider': 1, 'wingman': 1, 'frat': 1, 'bros': 1, 'lobbing': 1, 'habits': 1, 'productive': 1, 'headdress': 1, 'bonnet': 1, 'fullness': 1, \"chick's\": 1, 'underpant': 1, 'feat': 1, 'engineering': 1, 'eviction': 1, 'bumming': 1, 'flashbacks': 1, '1978': 1, 'butler': 1, 'battlefield': 1, 'wounded': 1, 'historical': 1, 'exploding': 1, '1992': 1, 'platter': 1, 'bastedoh': 1, 'arghhhhhh': 1, 'taunt': 1, 'butternut': 1, 'squash': 1, 'squatternut': 1, 'buash': 1, '1987': 1, 'pilgrims': 1, 'rumor': 1, \"id's\": 1, 'clifford': 1, 'alverez': 1, 'roland': 1, 'chang': 1, 'dwarf': 1, '1988': 1, \"wilson's\": 1, 'crockett': 1, 'tubbs': 1, 'legendary': 1, \"80's\": 1, 'sleeves': 1, 'thin': 1, 'lacrosse': 1, 'dishtowel': 1, 'mac': 1, 'paramedic:': 1, 'trauma': 1, 'ramming': 1, 'injury': 1, 'sow': 1, 'piggy': 1, \"shriner's\": 1, '1915': 1, 'fidgeting': 1, 'undies': 1, 'tighty': 1, 'whiteys': 1, 'wethering': 1, 'okayooh': 1, 'grub': 1, 'rally': 1, 'anywayumm': 1, 'heathcliff': 1, 'characterize': 1, 'attendance': 1, 'mirrored': 1, 'shrewdly': 1, 'observed': 1, 'fountain': 1, 'ummoh': 1, 'films': 1, 'ohi': 1, 'leedbetter': 1, 'refusal': 1, 'remain': 1, 'vogue': 1, 'insights': 1, 'preview': 1, 'polaroid': 1, 'nudges': 1, 'stupor': 1, 'tranquilizer': 1, 'comparing': 1, 'robocop': 1, 'ahhoy': 1, 'enticed': 1, \"chicken's\": 1, 'classmates': 1, 'learners': 1, 'essay': 1, 'reorganized': 1, 'meats': 1, 'products': 1, 'religious': 1, 'heresit': 1, 'christmastime': 1, 'rookie': 1, 'smirks': 1, 'fridays': 1, \"estelle's\": 1, 'telia': 1, 'discouraged': 1, 'collecting': 1, 'feliz': 1, 'navidad': 1, 'allo': 1, 'swede': 1, 'greetings': 1, 'blondie': 1, 'scowls': 1, 'hunting': 1, 'discipline': 1, 'meddled': 1, 'deposit': 1, 'spackle': 1, \"charity's\": 1, 'smoldering': 1, 'erupts': 1, 'rulebook': 1, 'fluidop': 1, 'ignited': 1, 'creator': 1, 'respects': 1, 'ashtray': 1, 'undefeated': 1, \"y'knowwrestley\": 1, 'relaxes': 1, \"fireball's\": 1, 'unhook': 1, 'detectors': 1, 'airhead': 1, 'picturei': 1, 'churo': 1, \"stain's\": 1, 'adorned': 1, 'scowl': 1, 'donation': 1, \"ginger's\": 1, 'distractions': 1, 'polentologist': 1, 'created': 1, 'propane': 1, 'torch': 1, 'efforts': 1, 'tiffany': 1, '1999': 1, '73': 1, 'planeload': 1, 'plummet': 1, 'deaths': 1, 'sprouting': 1, 'claire': 1, 'botched': 1, 'resulted': 1, 'swoggle': 1, 'transcribers': 1, 'reconfiguring': 1, 'claw': 1, 'outumm': 1, 'guitars': 1, 'auntie': 1, 'comments': 1, 'snuggle': 1, 'hornswoggle:': 1, 'emanates': 1, 'regions': 1, 'explosion': 1, 'farted': 1, 'horrific': 1, 'wonderment': 1, 'coolness': 1, 'envelops': 1, 'ahhhhhhhhhhhhhh': 1, 'studying': 1, 'andy': 1, 'arghh': 1, 'pace': 1, 'shrunk': 1, 'expanded': 1, 'sprinkle': 1, 'absorb': 1, 'moisture': 1, 'vaseline': 1, 'copious': 1, 'amounts': 1, 'applies': 1, 'sensation': 1, 'justif': 1, 'strands': 1, 'gossiping': 1, 'inquiring': 1, 'delay': 1, 'strumming': 1, 'squeaks': 1, 'fringe': 1, 'planes': 1, 'unattended': 1, 'aniston': 1, 'fraggile': 1, 'downing': 1, 'wanti': 1, 'initiated': 1, 'disinterested': 1, 'oblivion': 1, 'management': 1, 'louisiana': 1, 'flattened': 1, 'dewey': 1, 'cheatum': 1, 'howe': 1, '$30': 1, 'repaired': 1, 'atbigger': 1, 'inventory': 1, \"work's\": 1, 'ithere': 1, 'ifare': 1, 'settling': 1, 'dispute': 1, 'clucks': 1, 'nasty': 1, 'hanks': 1, 'encounters': 1, 'substance': 1, 'browned': 1, 'basted': 1, 'martina': 1, \"'um\": 1, 'racquets': 1, '95%': 1, 'oopsey': 1, 'smash': 1, \"isit's\": 1, 'mocks': 1, '[suddenly': 1, 'infamous': 1, 'farrell': 1, 'bigot': 1, 'contestants': 1, 'contestant': 1, 'wonton': 1, \"doug's\": 1, 'sweeten': 1, 'sniveling': 1, 'imply': 1, 'comic': 1, 'liar': 1, 'thatever': 1, 'gullible': 1, 'coffeeahh': 1, 'annoy': 1, 'implications': 1, 'forgave': 1, \"downlet's\": 1, 'chimes': 1, 'stovepipe': 1, 'suave': 1, 'ultra': 1, 'disappear': 1, 'spiritual': 1, \"pheebs'\": 1, 'unisex': 1, 'practical': 1, '$350': 1, 'vasa': 1, 'mustercard': 1, 'welcoming': 1, 'penella': 1, 'reverend': 1, 'glenda': 1, 'executor': 1, 'pastor:': 1, 'indignant': 1, 'wincing': 1, \"shouldi'm\": 1, 'okayyyy': 1, 'anddd': 1, 'latest': 1, 'mejust': 1, 'bursting': 1, 'votes': 1, 'hesitant': 1, 'hesitating': 1, \"it'sew\": 1, 'receipts': 1, \"lilly's\": 1, 'cremating': 1, 'howoh': 1, 'formula': 1, 'uppp': 1, \"justit's\": 1, 'controversial': 1, 'labeled': 1, 'fried': 1, 'oroh': 1, 'ehhh': 1, 'disposal': 1, 'sexuality': 1, 'softhello': 1, \"i'moh\": 1, 'sipping': 1, 'coffeeoh': 1, 'sexless': 1, 'misunderstand': 1, 'flexed': 1, 'applicants': 1, 'ethical': 1, 'scales': 1, 'pinball': 1, 'pinchable': 1, 'bulging': 1, 'bicepsshe': 1, 'snoozing': 1, 'slick': 1, 'messers': 1, 'messies': 1, 'compares': 1, 'hobbies': 1, 'monwhoa': 1, 'applied': 1, 'fierce': 1, \"buti'm\": 1, 'strategies': 1, 'pairing': 1, 'saunters': 1, \"'come\": 1, \"hither'\": 1, 'initially': 1, 'intercourse': 1, 'begrudgingly': 1, 'undoes': 1, 'mutual': 1, 'draining': 1, 'suggestive': 1, 'conferring': 1, 'showcasing': 1, 'bendy': 1, 'iloveher': 1, 'competitor': 1, 'outlook': 1, 'iwhat': 1, 'lovebirds': 1, 'punching': 1, 'bodyguard': 1, 'preschool': 1, 'scented': 1, 'retiring': 1, 'cheapskate': 1, \"party's\": 1, 'thighs': 1, 'breadstick': 1, 'fangs': 1, 'curled': 1, 'cooker': 1, 'shht': 1, 'tutor': 1, 'raging': 1, 'guests:': 1, 'investigate': 1, '#1:': 1, 'chipping': 1, 'puffy': 1, 'lookbig': 1, 'padding': 1, 'punched': 1, 'retaliates': 1, 'shin': 1, 'partygoers': 1, '#2:': 1, 'frosting': 1, '#3:': 1, 'abrasive': 1, 'numbingly': 1, 'elderly': 1, 'digger': 1, 'cradle': 1, 'perv': 1, 'banished': 1, 'teasing': 1, 'maroon': 1, 'withwait': 1, 'itmonica': 1, 'fritzy': 1, 'antics': 1, \"veryy'know\": 1, \"likey'know\": 1, 'punk': 1, 'slammer': 1, 'bluff': 1, 'staircase': 1, 'martin': 1, 'luther': 1, 'stud': 1, 'crosswords': 1, 'implication': 1, 'instantly': 1, '57th': 1, 'flattered': 1, 'cranking': 1, 'existing': 1, 'enticing': 1, 'reinforcements': 1, 'sandwiched': 1, 'ett': 1, \"she'sreally\": 1, 'pickup': 1, 'irresistible': 1, 'shmoshness': 1, 'chew': 1, 'harboring': 1, 'fugitive': 1, 'minimum': 1, 'foolish': 1, 'flashed': 1, 'fingerprints': 1, 'saleswoman': 1, 'coordinator': 1, 'twisting': 1, 'ewwuck': 1, \"'watching\": 1, \"tv'\": 1, 'smirk': 1, 'emerged': 1, 'misspoke': 1, 'fiery': 1, 'knowoh': 1, 'hussy': 1, 'sleaze': 1, 'ohhhhhhhhh': 1, 'competitiveness': 1, \"flippin'\": 1, '{here': 1, '{finally': 1, 'bulletin': 1, '629': 1, '9***': 1, 'intruder': 1, 'handyman': 1, 'undress': 1, 'parallel': 1, 'eighth': 1, 'stairway': 1, \"jen's\": 1, 'dahhhhh': 1, 'videotaped': 1, 'blotter': 1, 'workplace': 1, '{by': 1, 'thati': 1, 'twig': 1, 'detour': 1, 'stroll': 1, 'paragraph': 1, 'criminal': 1, 'notreally': 1, 'irrational': 1, 'tugs': 1, 'loaning': 1, 'pasted': 1, 'anderson': 1, 'swimsuits': 1, 'polo': 1, 'unwilling': 1, 'weirder': 1, 'steered': 1, 'playstation': 1, 'watch/read': 1, 'disagree': 1, 'goblins': 1, \"princess's\": 1, 'punished': 1, 'habit': 1, 'smokerson': 1, 'binder': 1, 'alphabetized': 1, 'highlighted': 1, 'designs': 1, 'dubbies': 1, 'wracking': 1, 'callbacks': 1, 'gallons': 1, 'rue': 1, 'rued': 1, \"oncedidn't\": 1, 'competing': 1, 'mitch': 1, \"so's\": 1, 'puffing': 1, 'plaid': 1, 'appealing': 1, 'patches': 1, 'cigs': 1, 'caveman': 1, 'stability': 1, 'ketchup': 1, 'raymond:': 1, 'festooned': 1, 'centerpiece': 1, 'garland': 1, 'etc]': 1, 'buckets': 1, 'cubed': 1, 'evaporate/smoke': 1, 'mystical': 1, 'yuck': 1, \"y'knowgo\": 1, \"birthday's\": 1, 'unexpected': 1, 'godson': 1, 'consciously': 1, 'sabotaged': 1, 'succeed': 1, 'goal': 1, 'ja': 1, '11:30': 1, 'uncanny': 1, 'measurements': 1, 'vegetarianism': 1, 'benefits': 1, 'possessed': 1, 'exorcised': 1, 'lima': 1, 'crawling': 1, \"old's\": 1, 'misdemeanors': 1, 'cleared': 1, 'behave': 1, 'pantomime': 1, 'resignation': 1, 'shushes': 1, 'ovens': 1, 'odorless': 1, 'leak': 1, 'meth': 1, 'methane': 1, 'favors': 1, 'braces': 1, 'bravo': 1, 'impromptu': 1, 'commencing': 1, 'countdownengineson': 1, 'seeking': 1, 'replacement': 1, 'luckier': 1, 'prevented': 1, 'organize': 1, 'candids': 1, 'referenced': 1, 'prototype': 1, 'talkative': 1, 'unmarked': 1, 'thechandler': 1, 'deli': 1, 'meatballs': 1, 'melted': 1, 'sniff': 1, 'tastiness': 1, 'sconce': 1, 'slug': 1, 'sur': 1, 'perps': 1, 'lawyers': 1, 'perp': 1, 'demoted': 1, 'visitors': 1, 'serpico': 1, 'controlling': 1, 'himhelp': 1, 'unstable': 1, 'noooooooo': 1, \"witness's\": 1, 'scrap': 1, 'rational': 1, 'fullest': 1, 'glenn': 1, 'pouting': 1, 'rambling': 1, 'awe': 1, 'dove': 1, 'iknewyou': 1, 'instinct': 1, 'risked': 1, 'eez': 1, 'repair': 1, \"becausei'm\": 1, 'menot': 1, 'escaping': 1, 'escaped': 1, 'playback': 1, 'leader': 1, 'troops': 1, 'protecting': 1, 'pacifist': 1, 'sugarlips': 1, '{and': 1, 'breathes': 1, \"iti'll\": 1, 'aman': 1, '2:17': 1, 'jinx': 1, 'shawn': 1, 'cassidy': 1, '{i': 1, 'purebred': 1, 'sphinx': 1, 'purr': 1, 'shoestring': 1, '{which': 1, 'facilities': 1, '5th': 1, 'appeared': 1, 'amphibian': 1, '<manical_laugh': 1, 'wav>': 1, 'deluded': 1, 'spellchecker': 1, 'anyhoo}': 1, '{oh': 1, \"droppin'\": 1, 'gar': 1, 'sohappy': 1, 'juggle': 1, 'myoh': 1, 'protect': 1, 'minion': 1, 'christ': 1, \"vision's\": 1, 'compromised': 1, 'overreacted': 1, 'congrats': 1, 'interrogation': 1, 'appropriate': 1, 'produces': 1, 'bragging': 1, \"actuallyit's\": 1, 'investment': 1, 'haggle': 1, '$800': 1, 'uncovers': 1, 'fled': 1, '}]': 1, 'defrosting': 1, 'tiring': 1, 'ballplayer': 1, 'ballplayers': 1, 'reputation': 1, 'flanked': 1, 'winking': 1, 'betsy': 1, \"betsy's\": 1, 'chilling': 1, 'permission': 1, '{also': 1, 'dispersal': 1, 'reschedule': 1, 'blinky': 1, 'traveled': 1, 'wisconsin': 1, 'south': 1, 'ophthalmologist': 1, 'removal': 1, 'tester': 1, 'retinas': 1, \"{there's\": 1, 'sloppily': 1, 'springing': 1, 'hiney': 1, 'speeds': 1, 'handwriting': 1, 'childlike': 1, 'correcting': 1, 'grammar': 1, 'risqu': 1, 'ohio': 1, 'protection': 1, 'flora': 1, 'mask': 1, 'cameron': 1, 'diaz': 1, 'stanley': 1, 'invest': 1, 'helium': 1, 'congratulatory': 1, \"sushi's\": 1, \"gladiator's\": 1, 'husband:': 1, 'toga': 1, 'rrific': 1, 'administer': 1, 'touchie': 1, 'sucker': 1, '5639': 1, 'stunt': 1, 'tourist:': 1, 'poses': 1, 'ani': 1, 'ary': 1, 'nevadaversary': 1, 'airlines': 1, 'candies': 1, 'aft': 1, 'and]': 1, \"{don't\": 1, 'networks': 1, 'denis': 1, \"franz's\": 1, 'kitchennaked': 1, 'vivid': 1, 'expressive': 1, 'strokesunless': 1, 'gaming': 1, 'cleopatra': 1, 'shutdown': 1, 'dawson': 1, 'lunching': 1, 'hunky': 1, 'aircraft': 1, 'secure': 1, 'feathery': 1, \"newton's\": 1, 'danke': 1, 'schoen': 1, 'setback': 1, 'doubled': 1, 'irl': 1, 'quest': 1, 'relaying': 1, 'unsupporting': 1, 'embark': 1, 'moneymaking': 1, 'scheme': 1, 'mysterious': 1, \"jones's\": 1, 'casinos': 1, 'victory': 1, 'disembarking': 1, 'disembarks': 1, 'canyou': 1, 'dancekarate': 1, 'deadly': 1, 'sway': 1, 'mansion': 1, 'statute': 1, 'foreshadowing': 1, \"answer's\": 1, 'anyhoo]': 1, 'tonsoffreaks': 1, 'beeline': 1, 'overcharge': 1, 'handfuls': 1, 'content': 1, 'pricey': 1, \"nasa's\": 1, 'clap': 1, 'muriel': 1, '23': 1, 'gambler': 1, 'richme': 1, '{whoa': 1, 'matthew': 1, 'como': 1, 'armed': 1, 'bandit': 1, 'chunk': 1, 'consumed': 1, 'slows': 1, 'stumbles': 1, 'whup': 1, 'cooperate': 1, 'whiskers': 1, 'meows': 1, \"lurker's\": 1, 'deposits': 1, 'toots': 1, 'efficient': 1, 'justtake': 1, 'thereooh': 1, 'spoiler': 1, 'phantom': 1, 'menace': 1, 'yoda': 1, 'wad': 1, 'unfold': 1, 'businesswoman': 1, 'showcased': 1, 'venue': 1, \"king's\": 1, 'elvis': 1, 'presley': 1, \"yougin's\": 1, 'vivaaaaaa': 1, 'vivaaaaa': 1, 'vegassssss': 1, 'fade': 1, '<PAD>': 1})\n"
          ],
          "name": "stdout"
        }
      ]
    },
    {
      "metadata": {
        "id": "AkY_CwP1Ucj8",
        "colab_type": "text"
      },
      "cell_type": "markdown",
      "source": [
        "# Check Point\n",
        "This is your first checkpoint. If you ever decide to come back to this notebook or have to restart the notebook, you can start from here. The preprocessed data has been saved to disk."
      ]
    },
    {
      "metadata": {
        "id": "AdxLV5EuUcj9",
        "colab_type": "code",
        "colab": {}
      },
      "cell_type": "code",
      "source": [
        "\"\"\"\n",
        "DON'T MODIFY ANYTHING IN THIS CELL\n",
        "\"\"\"\n",
        "import helper\n",
        "import problem_unittests as tests\n",
        "import numpy\n",
        "\n",
        "int_text, vocab_to_int, int_to_vocab, token_dict = load_preprocess()"
      ],
      "execution_count": 0,
      "outputs": []
    },
    {
      "metadata": {
        "id": "bbgcNhKLUckA",
        "colab_type": "text"
      },
      "cell_type": "markdown",
      "source": [
        "## Build the Neural Network\n",
        "In this section, you'll build the components necessary to build an RNN by implementing the RNN Module and forward and backpropagation functions.\n",
        "\n",
        "### Check Access to GPU"
      ]
    },
    {
      "metadata": {
        "id": "R9BL50XjUckB",
        "colab_type": "code",
        "colab": {}
      },
      "cell_type": "code",
      "source": [
        "\"\"\"\n",
        "DON'T MODIFY ANYTHING IN THIS CELL\n",
        "\"\"\"\n",
        "import torch\n",
        "\n",
        "# Check for a GPU\n",
        "train_on_gpu = torch.cuda.is_available()\n",
        "if not train_on_gpu:\n",
        "    print('No GPU found. Please use a GPU to train your neural network.')"
      ],
      "execution_count": 0,
      "outputs": []
    },
    {
      "metadata": {
        "id": "_8-2AR0LUckD",
        "colab_type": "code",
        "colab": {}
      },
      "cell_type": "code",
      "source": [
        "from torch.utils.data import TensorDataset, DataLoader\n",
        "\n",
        "import numpy as np\n",
        "def batch_data(words, sequence_length, batch_size):\n",
        "    \"\"\"\n",
        "    Batch the neural network data using DataLoader\n",
        "    :param words: The word ids of the TV scripts\n",
        "    :param sequence_length: The sequence length of each batch\n",
        "    :param batch_size: The size of each batch; the number of sequences in a batch\n",
        "    :return: DataLoader with batched data\n",
        "    \"\"\"\n",
        "    # TODO: Implement function\n",
        "    batch_size_total = batch_size * sequence_length\n",
        "    print(\"batch_size_total:\", batch_size_total)\n",
        "    #n_batches = len(words) // batch_size_total\n",
        "    n_words=words[:-sequence_length]\n",
        "    #print(\"n_words:\",n_words)\n",
        "    #print(\"length:\",len(n_words))\n",
        "    #words=np.array(words)\n",
        "    #ords=words.reshape(batch_size,-1)\n",
        "    feature_tensors=[]\n",
        "    target_tensors=[]\n",
        "    for n in range(0,len(n_words)):\n",
        "        feature_tensors.append(words[n:n+sequence_length])\n",
        "        #print(\"feature_tensors:\",feature_tensors)\n",
        "        target_tensors.append(words[n+sequence_length])\n",
        "        #print(\"target_tensors:\",target_tensors)\n",
        "    number_batch = len(n_words)//batch_size\n",
        "    feature_tensors = feature_tensors[:number_batch*batch_size]\n",
        "    #print(\"f:\",feature_tensors)\n",
        "    #print(len(feature_tensors))\n",
        "    #print(type(feature_tensors))\n",
        "    target_tensors = target_tensors[:number_batch*batch_size]\n",
        "    #print(\"t:\",target_tensors)\n",
        "    #print(len(target_tensors))\n",
        "    #print(type(target_tensors))\n",
        "\n",
        "    \n",
        "    # only full batches\n",
        "    \n",
        "    \n",
        "    \n",
        "        \n",
        "    # return a dataloader\n",
        "    data = TensorDataset(torch.from_numpy(np.array(feature_tensors)),torch.from_numpy(np.array(target_tensors)))\n",
        "    data_loader = torch.utils.data.DataLoader(data,batch_size=batch_size,shuffle=True)\n",
        "    return data_loader\n",
        "\n",
        "# there is no test for this function, but you are encouraged to create\n",
        "# print statements and tests of your own\n"
      ],
      "execution_count": 0,
      "outputs": []
    },
    {
      "metadata": {
        "id": "T7FoUzqGUckG",
        "colab_type": "text"
      },
      "cell_type": "markdown",
      "source": [
        "## Input\n",
        "Let's start with the preprocessed input data. We'll use [TensorDataset](http://pytorch.org/docs/master/data.html#torch.utils.data.TensorDataset) to provide a known format to our dataset; in combination with [DataLoader](http://pytorch.org/docs/master/data.html#torch.utils.data.DataLoader), it will handle batching, shuffling, and other dataset iteration functions.\n",
        "\n",
        "You can create data with TensorDataset by passing in feature and target tensors. Then create a DataLoader as usual.\n",
        "```\n",
        "data = TensorDataset(feature_tensors, target_tensors)\n",
        "data_loader = torch.utils.data.DataLoader(data, \n",
        "                                          batch_size=batch_size)\n",
        "```\n",
        "\n",
        "### Batching\n",
        "Implement the `batch_data` function to batch `words` data into chunks of size `batch_size` using the `TensorDataset` and `DataLoader` classes.\n",
        "\n",
        ">You can batch words using the DataLoader, but it will be up to you to create `feature_tensors` and `target_tensors` of the correct size and content for a given `sequence_length`.\n",
        "\n",
        "For example, say we have these as input:\n",
        "```\n",
        "words = [1, 2, 3, 4, 5, 6, 7]\n",
        "sequence_length = 4\n",
        "```\n",
        "\n",
        "Your first `feature_tensor` should contain the values:\n",
        "```\n",
        "[1, 2, 3, 4]\n",
        "```\n",
        "And the corresponding `target_tensor` should just be the next \"word\"/tokenized word value:\n",
        "```\n",
        "5\n",
        "```\n",
        "This should continue with the second `feature_tensor`, `target_tensor` being:\n",
        "```\n",
        "[2, 3, 4, 5]  # features\n",
        "6             # target\n",
        "```"
      ]
    },
    {
      "metadata": {
        "id": "k0NbWqPvUckH",
        "colab_type": "text"
      },
      "cell_type": "markdown",
      "source": [
        "### Test your dataloader \n",
        "\n",
        "You'll have to modify this code to test a batching function, but it should look fairly similar.\n",
        "\n",
        "Below, we're generating some test text data and defining a dataloader using the function you defined, above. Then, we are getting some sample batch of inputs `sample_x` and targets `sample_y` from our dataloader.\n",
        "\n",
        "Your code should return something like the following (likely in a different order, if you shuffled your data):\n",
        "\n",
        "```\n",
        "torch.Size([10, 5])\n",
        "tensor([[ 28,  29,  30,  31,  32],\n",
        "        [ 21,  22,  23,  24,  25],\n",
        "        [ 17,  18,  19,  20,  21],\n",
        "        [ 34,  35,  36,  37,  38],\n",
        "        [ 11,  12,  13,  14,  15],\n",
        "        [ 23,  24,  25,  26,  27],\n",
        "        [  6,   7,   8,   9,  10],\n",
        "        [ 38,  39,  40,  41,  42],\n",
        "        [ 25,  26,  27,  28,  29],\n",
        "        [  7,   8,   9,  10,  11]])\n",
        "\n",
        "torch.Size([10])\n",
        "tensor([ 33,  26,  22,  39,  16,  28,  11,  43,  30,  12])\n",
        "```\n",
        "\n",
        "### Sizes\n",
        "Your sample_x should be of size `(batch_size, sequence_length)` or (10, 5) in this case and sample_y should just have one dimension: batch_size (10). \n",
        "\n",
        "### Values\n",
        "\n",
        "You should also notice that the targets, sample_y, are the *next* value in the ordered test_text data. So, for an input sequence `[ 28,  29,  30,  31,  32]` that ends with the value `32`, the corresponding output should be `33`."
      ]
    },
    {
      "metadata": {
        "id": "D78VBWB3UckI",
        "colab_type": "code",
        "outputId": "c7e427c2-11c9-452a-a318-939060cdc4b1",
        "colab": {
          "base_uri": "https://localhost:8080/",
          "height": 272
        }
      },
      "cell_type": "code",
      "source": [
        "# test dataloader\n",
        "\n",
        "test_text = range(50)\n",
        "t_loader = batch_data(test_text, sequence_length=5, batch_size=10)\n",
        "\n",
        "sample_x, sample_y = next(iter(t_loader))\n",
        "\n",
        "print(sample_x.shape)\n",
        "print(sample_x)\n",
        "print()\n",
        "print(sample_y.shape)\n",
        "print(sample_y)"
      ],
      "execution_count": 10,
      "outputs": [
        {
          "output_type": "stream",
          "text": [
            "batch_size_total: 50\n",
            "torch.Size([10, 5])\n",
            "tensor([[38, 39, 40, 41, 42],\n",
            "        [11, 12, 13, 14, 15],\n",
            "        [ 9, 10, 11, 12, 13],\n",
            "        [32, 33, 34, 35, 36],\n",
            "        [ 5,  6,  7,  8,  9],\n",
            "        [39, 40, 41, 42, 43],\n",
            "        [14, 15, 16, 17, 18],\n",
            "        [15, 16, 17, 18, 19],\n",
            "        [ 1,  2,  3,  4,  5],\n",
            "        [ 0,  1,  2,  3,  4]])\n",
            "\n",
            "torch.Size([10])\n",
            "tensor([43, 16, 14, 37, 10, 44, 19, 20,  6,  5])\n"
          ],
          "name": "stdout"
        }
      ]
    },
    {
      "metadata": {
        "id": "6jPltfI-UckM",
        "colab_type": "text"
      },
      "cell_type": "markdown",
      "source": [
        "---\n",
        "## Build the Neural Network\n",
        "Implement an RNN using PyTorch's [Module class](http://pytorch.org/docs/master/nn.html#torch.nn.Module). You may choose to use a GRU or an LSTM. To complete the RNN, you'll have to implement the following functions for the class:\n",
        " - `__init__` - The initialize function. \n",
        " - `init_hidden` - The initialization function for an LSTM/GRU hidden state\n",
        " - `forward` - Forward propagation function.\n",
        " \n",
        "The initialize function should create the layers of the neural network and save them to the class. The forward propagation function will use these layers to run forward propagation and generate an output and a hidden state.\n",
        "\n",
        "**The output of this model should be the *last* batch of word scores** after a complete sequence has been processed. That is, for each input sequence of words, we only want to output the word scores for a single, most likely, next word.\n",
        "\n",
        "### Hints\n",
        "\n",
        "1. Make sure to stack the outputs of the lstm to pass to your fully-connected layer, you can do this with `lstm_output = lstm_output.contiguous().view(-1, self.hidden_dim)`\n",
        "2. You can get the last batch of word scores by shaping the output of the final, fully-connected layer like so:\n",
        "\n",
        "```\n",
        "# reshape into (batch_size, seq_length, output_size)\n",
        "output = output.view(batch_size, -1, self.output_size)\n",
        "# get last batch\n",
        "out = output[:, -1]\n",
        "```"
      ]
    },
    {
      "metadata": {
        "id": "Sru7aCrCUckN",
        "colab_type": "code",
        "outputId": "741edf42-ccd6-49b5-bd11-1c3b5c7603ed",
        "colab": {
          "base_uri": "https://localhost:8080/",
          "height": 34
        }
      },
      "cell_type": "code",
      "source": [
        "import torch.nn as nn\n",
        "\n",
        "class RNN(nn.Module):\n",
        "    \n",
        "    def __init__(self, vocab_size, output_size, embedding_dim, hidden_dim, n_layers, dropout=0.5):\n",
        "        \"\"\"\n",
        "        Initialize the PyTorch RNN Module\n",
        "        :param vocab_size: The number of input dimensions of the neural network (the size of the vocabulary)\n",
        "        :param output_size: The number of output dimensions of the neural network\n",
        "        :param embedding_dim: The size of embeddings, should you choose to use them        \n",
        "        :param hidden_dim: The size of the hidden layer outputs\n",
        "        :param dropout: dropout to add in between LSTM/GRU layers\n",
        "        \"\"\"\n",
        "        super(RNN, self).__init__()\n",
        "        # TODO: Implement function\n",
        "        \n",
        "        # set class variables\n",
        "        self. vocab_size=vocab_size\n",
        "        self.output_size=output_size\n",
        "        self.embedding_dim=embedding_dim\n",
        "        self.n_layers=n_layers\n",
        "        self.hidden_dim=hidden_dim\n",
        "        self.dropout=dropout\n",
        "        # define model layers\n",
        "        self.embedding=nn.Embedding(vocab_size,embedding_dim)\n",
        "        self.lstm=nn.LSTM(embedding_dim,hidden_dim,n_layers,dropout=dropout,batch_first=True)\n",
        "        self.dropout=nn.Dropout(dropout)\n",
        "        self.fc=nn.Linear(hidden_dim,output_size)\n",
        "        \n",
        "        \n",
        "        \n",
        "    \n",
        "    \n",
        "    def forward(self, nn_input, hidden):\n",
        "        \"\"\"\n",
        "        Forward propagation of the neural network\n",
        "        :param nn_input: The input to the neural network\n",
        "        :param hidden: The hidden state        \n",
        "        :return: Two Tensors, the output of the neural network and the latest hidden state\n",
        "        \"\"\"\n",
        "        # TODO: Implement function   \n",
        "        batch_size=nn_input.size(0)\n",
        "        embed=self.embedding(nn_input)\n",
        "        output,hidden=self.lstm(embed,hidden)\n",
        "        output=output.contiguous().view(-1, self.hidden_dim)\n",
        "\n",
        "        output=self.fc(output)\n",
        "        output=output.view(batch_size, -1, self.output_size)\n",
        "        out = output[:, -1]\n",
        "\n",
        "        # return one batch of output word scores and the hidden state\n",
        "        return out,hidden\n",
        "    \n",
        "    \n",
        "    def init_hidden(self, batch_size):\n",
        "        weight = next(self.parameters()).data\n",
        "        \n",
        "        '''\n",
        "        Initialize the hidden state of an LSTM/GRU\n",
        "        :param batch_size: The batch_size of the hidden state\n",
        "        :return: hidden state of dims (n_layers, batch_size, hidden_dim)\n",
        "        '''\n",
        "        # Implement function\n",
        "         \n",
        "        # initialize hidden state with zero weights, and move to GPU if available\n",
        "        if train_on_gpu:\n",
        "            hidden = (weight.new(self.n_layers, batch_size, self.hidden_dim).zero_().cuda(),\n",
        "                     weight.new(self.n_layers, batch_size, self.hidden_dim).zero_().cuda())\n",
        "        else:\n",
        "            hidden = (weight.new(self.n_layers, batch_size, self.hidden_dim).zero_(),\n",
        "                     weight.new(self.n_layers, batch_size, self.hidden_dim).zero_())\n",
        "        return hidden\n",
        "\n",
        "\"\"\"\n",
        "DON'T MODIFY ANYTHING IN THIS CELL THAT IS BELOW THIS LINE\n",
        "\"\"\"\n",
        "tests.test_rnn(RNN, train_on_gpu)"
      ],
      "execution_count": 11,
      "outputs": [
        {
          "output_type": "stream",
          "text": [
            "Tests Passed\n"
          ],
          "name": "stdout"
        }
      ]
    },
    {
      "metadata": {
        "id": "9D8e01ZfUckR",
        "colab_type": "text"
      },
      "cell_type": "markdown",
      "source": [
        "### Define forward and backpropagation\n",
        "\n",
        "Use the RNN class you implemented to apply forward and back propagation. This function will be called, iteratively, in the training loop as follows:\n",
        "```\n",
        "loss = forward_back_prop(decoder, decoder_optimizer, criterion, inp, target)\n",
        "```\n",
        "\n",
        "And it should return the average loss over a batch and the hidden state returned by a call to `RNN(inp, hidden)`. Recall that you can get this loss by computing it, as usual, and calling `loss.item()`.\n",
        "\n",
        "**If a GPU is available, you should move your data to that GPU device, here.**"
      ]
    },
    {
      "metadata": {
        "id": "IWkE4biNUckS",
        "colab_type": "code",
        "outputId": "7964ec1d-2af3-4494-e7ad-4f0fd6667cf3",
        "colab": {
          "base_uri": "https://localhost:8080/",
          "height": 34
        }
      },
      "cell_type": "code",
      "source": [
        "def forward_back_prop(rnn, optimizer, criterion, inp, target, hidden):\n",
        "    \"\"\"\n",
        "    Forward and backward propagation on the neural network\n",
        "    :param decoder: The PyTorch Module that holds the neural network\n",
        "    :param decoder_optimizer: The PyTorch optimizer for the neural network\n",
        "    :param criterion: The PyTorch loss function\n",
        "    :param inp: A batch of input to the neural network\n",
        "    :param target: The target output for the batch of input\n",
        "    :return: The loss and the latest hidden state Tensor\n",
        "    \"\"\"\n",
        "    \n",
        "    # TODO: Implement Function\n",
        "    \n",
        "    # move data to GPU, if available\n",
        "    if train_on_gpu:\n",
        "        inp,target=inp.cuda(),target.cuda()\n",
        "    \n",
        "    \n",
        "    # perform backpropagation and optimization\n",
        "    hidden = tuple([each.data for each in hidden])\n",
        "    rnn.zero_grad()\n",
        "    output,hidden=rnn(inp,hidden)\n",
        "    loss=criterion(output.squeeze(),target)\n",
        "    \n",
        "    loss.backward()\n",
        "    nn.utils.clip_grad_norm_(rnn.parameters(), 5)\n",
        "    optimizer.step()\n",
        "    avg_loss=loss.item()\n",
        "    # return the loss over a batch and the hidden state produced by our model\n",
        "    return avg_loss,hidden\n",
        "\n",
        "# Note that these tests aren't completely extensive.\n",
        "# they are here to act as general checks on the expected outputs of your functions\n",
        "\"\"\"\n",
        "DON'T MODIFY ANYTHING IN THIS CELL THAT IS BELOW THIS LINE\n",
        "\"\"\"\n",
        "tests.test_forward_back_prop(RNN, forward_back_prop, train_on_gpu)"
      ],
      "execution_count": 12,
      "outputs": [
        {
          "output_type": "stream",
          "text": [
            "Tests Passed\n"
          ],
          "name": "stdout"
        }
      ]
    },
    {
      "metadata": {
        "id": "wdrr4lEXUckV",
        "colab_type": "text"
      },
      "cell_type": "markdown",
      "source": [
        "## Neural Network Training\n",
        "\n",
        "With the structure of the network complete and data ready to be fed in the neural network, it's time to train it.\n",
        "\n",
        "### Train Loop\n",
        "\n",
        "The training loop is implemented for you in the `train_decoder` function. This function will train the network over all the batches for the number of epochs given. The model progress will be shown every number of batches. This number is set with the `show_every_n_batches` parameter. You'll set this parameter along with other parameters in the next section."
      ]
    },
    {
      "metadata": {
        "id": "ZYy0qwhVUckX",
        "colab_type": "code",
        "colab": {}
      },
      "cell_type": "code",
      "source": [
        "\"\"\"\n",
        "DON'T MODIFY ANYTHING IN THIS CELL\n",
        "\"\"\"\n",
        "\n",
        "def train_rnn(rnn, batch_size, optimizer, criterion, n_epochs, show_every_n_batches=100):\n",
        "    batch_losses = []\n",
        "    \n",
        "    rnn.train()\n",
        "\n",
        "    print(\"Training for %d epoch(s)...\" % n_epochs)\n",
        "    for epoch_i in range(1, n_epochs + 1):\n",
        "        \n",
        "        # initialize hidden state\n",
        "        hidden = rnn.init_hidden(batch_size)\n",
        "        \n",
        "        for batch_i, (inputs, labels) in enumerate(train_loader, 1):\n",
        "            \n",
        "            # make sure you iterate over completely full batches, only\n",
        "            n_batches = len(train_loader.dataset)//batch_size\n",
        "            if(batch_i > n_batches):\n",
        "                break\n",
        "            \n",
        "            # forward, back prop\n",
        "            loss, hidden = forward_back_prop(rnn, optimizer, criterion, inputs, labels, hidden)          \n",
        "            # record loss\n",
        "            batch_losses.append(loss)\n",
        "\n",
        "            # printing loss stats\n",
        "            if batch_i % show_every_n_batches == 0:\n",
        "                print('Epoch: {:>4}/{:<4}  Loss: {}\\n'.format(\n",
        "                    epoch_i, n_epochs, np.average(batch_losses)))\n",
        "                batch_losses = []\n",
        "\n",
        "    # returns a trained rnn\n",
        "    return rnn"
      ],
      "execution_count": 0,
      "outputs": []
    },
    {
      "metadata": {
        "id": "r7fa8YvtUckc",
        "colab_type": "text"
      },
      "cell_type": "markdown",
      "source": [
        "### Hyperparameters\n",
        "\n",
        "Set and train the neural network with the following parameters:\n",
        "- Set `sequence_length` to the length of a sequence.\n",
        "- Set `batch_size` to the batch size.\n",
        "- Set `num_epochs` to the number of epochs to train for.\n",
        "- Set `learning_rate` to the learning rate for an Adam optimizer.\n",
        "- Set `vocab_size` to the number of uniqe tokens in our vocabulary.\n",
        "- Set `output_size` to the desired size of the output.\n",
        "- Set `embedding_dim` to the embedding dimension; smaller than the vocab_size.\n",
        "- Set `hidden_dim` to the hidden dimension of your RNN.\n",
        "- Set `n_layers` to the number of layers/cells in your RNN.\n",
        "- Set `show_every_n_batches` to the number of batches at which the neural network should print progress.\n",
        "\n",
        "If the network isn't getting the desired results, tweak these parameters and/or the layers in the `RNN` class."
      ]
    },
    {
      "metadata": {
        "id": "cZNzbnplUckd",
        "colab_type": "code",
        "outputId": "0f76b721-0723-4120-cdf4-99d11e633b0d",
        "colab": {
          "base_uri": "https://localhost:8080/",
          "height": 34
        }
      },
      "cell_type": "code",
      "source": [
        "# Data params\n",
        "# Sequence Length\n",
        "sequence_length = 16  # number of words in a sequence\n",
        "# Batch Size\n",
        "batch_size = 128\n",
        "\n",
        "# data loader - do not change\n",
        "train_loader = batch_data(int_text, sequence_length, batch_size)"
      ],
      "execution_count": 14,
      "outputs": [
        {
          "output_type": "stream",
          "text": [
            "batch_size_total: 2048\n"
          ],
          "name": "stdout"
        }
      ]
    },
    {
      "metadata": {
        "scrolled": true,
        "id": "6xFtiVH0Uckg",
        "colab_type": "code",
        "colab": {}
      },
      "cell_type": "code",
      "source": [
        ""
      ],
      "execution_count": 0,
      "outputs": []
    },
    {
      "metadata": {
        "id": "THfl2wwlUckk",
        "colab_type": "code",
        "colab": {}
      },
      "cell_type": "code",
      "source": [
        "# Training parameters\n",
        "# Number of Epochs\n",
        "num_epochs = 5\n",
        "# Learning Rate\n",
        "learning_rate = 0.0005\n",
        "\n",
        "# Model parameters\n",
        "# Vocab size\n",
        "vocab_size = len(vocab_to_int)\n",
        "# Output size\n",
        "output_size =len(vocab_to_int)\n",
        "# Embedding Dimension\n",
        "embedding_dim = 512\n",
        "# Hidden Dimension\n",
        "hidden_dim = 1024\n",
        "# Number of RNN Layers\n",
        "n_layers = 2\n",
        "\n",
        "# Show stats for every n number of batches\n",
        "show_every_n_batches = 500"
      ],
      "execution_count": 0,
      "outputs": []
    },
    {
      "metadata": {
        "id": "hu9Nelz_Uckm",
        "colab_type": "text"
      },
      "cell_type": "markdown",
      "source": [
        "### Train\n",
        "In the next cell, you'll train the neural network on the pre-processed data.  If you have a hard time getting a good loss, you may consider changing your hyperparameters. In general, you may get better results with larger hidden and n_layer dimensions, but larger models take a longer time to train. \n",
        "> **You should aim for a loss less than 3.5.** \n",
        "\n",
        "You should also experiment with different sequence lengths, which determine the size of the long range dependencies that a model can learn."
      ]
    },
    {
      "metadata": {
        "scrolled": true,
        "id": "yQlWQkGuUckn",
        "colab_type": "code",
        "outputId": "d6bc20f5-b171-47ff-ab74-cc3a28189b92",
        "colab": {
          "base_uri": "https://localhost:8080/",
          "height": 781
        }
      },
      "cell_type": "code",
      "source": [
        "\"\"\"\n",
        "DON'T MODIFY ANYTHING IN THIS CELL\n",
        "\"\"\"\n",
        "\n",
        "# create model and move to gpu if available\n",
        "rnn = RNN(vocab_size, output_size, embedding_dim, hidden_dim, n_layers, dropout=0.5)\n",
        "if train_on_gpu:\n",
        "    rnn.cuda()\n",
        "\n",
        "# defining loss and optimization functions for training\n",
        "optimizer = torch.optim.Adam(rnn.parameters(), lr=learning_rate)\n",
        "criterion = nn.CrossEntropyLoss()\n",
        "\n",
        "# training the model\n",
        "#from workspace_utils import active_session\n",
        "\n",
        "#with active_session():\n",
        "trained_rnn2 = train_rnn(rnn, batch_size, optimizer, criterion, num_epochs, show_every_n_batches)\n",
        "# saving the trained model\n",
        "save_model('./save/trained_rnn_friends', trained_rnn2)\n",
        "print('Model Trained and Saved')\n",
        "\n",
        "\n"
      ],
      "execution_count": 17,
      "outputs": [
        {
          "output_type": "stream",
          "text": [
            "Training for 5 epoch(s)...\n",
            "Epoch:    1/5     Loss: 5.169341678619385\n",
            "\n"
          ],
          "name": "stdout"
        },
        {
          "output_type": "error",
          "ename": "KeyboardInterrupt",
          "evalue": "ignored",
          "traceback": [
            "\u001b[0;31m---------------------------------------------------------------------------\u001b[0m",
            "\u001b[0;31mKeyboardInterrupt\u001b[0m                         Traceback (most recent call last)",
            "\u001b[0;32m<ipython-input-17-946ce5ea3b9e>\u001b[0m in \u001b[0;36m<module>\u001b[0;34m()\u001b[0m\n\u001b[1;32m     16\u001b[0m \u001b[0;34m\u001b[0m\u001b[0m\n\u001b[1;32m     17\u001b[0m \u001b[0;31m#with active_session():\u001b[0m\u001b[0;34m\u001b[0m\u001b[0;34m\u001b[0m\u001b[0;34m\u001b[0m\u001b[0m\n\u001b[0;32m---> 18\u001b[0;31m \u001b[0mtrained_rnn2\u001b[0m \u001b[0;34m=\u001b[0m \u001b[0mtrain_rnn\u001b[0m\u001b[0;34m(\u001b[0m\u001b[0mrnn\u001b[0m\u001b[0;34m,\u001b[0m \u001b[0mbatch_size\u001b[0m\u001b[0;34m,\u001b[0m \u001b[0moptimizer\u001b[0m\u001b[0;34m,\u001b[0m \u001b[0mcriterion\u001b[0m\u001b[0;34m,\u001b[0m \u001b[0mnum_epochs\u001b[0m\u001b[0;34m,\u001b[0m \u001b[0mshow_every_n_batches\u001b[0m\u001b[0;34m)\u001b[0m\u001b[0;34m\u001b[0m\u001b[0;34m\u001b[0m\u001b[0m\n\u001b[0m\u001b[1;32m     19\u001b[0m \u001b[0;31m# saving the trained model\u001b[0m\u001b[0;34m\u001b[0m\u001b[0;34m\u001b[0m\u001b[0;34m\u001b[0m\u001b[0m\n\u001b[1;32m     20\u001b[0m \u001b[0msave_model\u001b[0m\u001b[0;34m(\u001b[0m\u001b[0;34m'./save/trained_rnn_friends'\u001b[0m\u001b[0;34m,\u001b[0m \u001b[0mtrained_rnn2\u001b[0m\u001b[0;34m)\u001b[0m\u001b[0;34m\u001b[0m\u001b[0;34m\u001b[0m\u001b[0m\n",
            "\u001b[0;32m<ipython-input-13-54bd9dc2f859>\u001b[0m in \u001b[0;36mtrain_rnn\u001b[0;34m(rnn, batch_size, optimizer, criterion, n_epochs, show_every_n_batches)\u001b[0m\n\u001b[1;32m     22\u001b[0m \u001b[0;34m\u001b[0m\u001b[0m\n\u001b[1;32m     23\u001b[0m             \u001b[0;31m# forward, back prop\u001b[0m\u001b[0;34m\u001b[0m\u001b[0;34m\u001b[0m\u001b[0;34m\u001b[0m\u001b[0m\n\u001b[0;32m---> 24\u001b[0;31m             \u001b[0mloss\u001b[0m\u001b[0;34m,\u001b[0m \u001b[0mhidden\u001b[0m \u001b[0;34m=\u001b[0m \u001b[0mforward_back_prop\u001b[0m\u001b[0;34m(\u001b[0m\u001b[0mrnn\u001b[0m\u001b[0;34m,\u001b[0m \u001b[0moptimizer\u001b[0m\u001b[0;34m,\u001b[0m \u001b[0mcriterion\u001b[0m\u001b[0;34m,\u001b[0m \u001b[0minputs\u001b[0m\u001b[0;34m,\u001b[0m \u001b[0mlabels\u001b[0m\u001b[0;34m,\u001b[0m \u001b[0mhidden\u001b[0m\u001b[0;34m)\u001b[0m\u001b[0;34m\u001b[0m\u001b[0;34m\u001b[0m\u001b[0m\n\u001b[0m\u001b[1;32m     25\u001b[0m             \u001b[0;31m# record loss\u001b[0m\u001b[0;34m\u001b[0m\u001b[0;34m\u001b[0m\u001b[0;34m\u001b[0m\u001b[0m\n\u001b[1;32m     26\u001b[0m             \u001b[0mbatch_losses\u001b[0m\u001b[0;34m.\u001b[0m\u001b[0mappend\u001b[0m\u001b[0;34m(\u001b[0m\u001b[0mloss\u001b[0m\u001b[0;34m)\u001b[0m\u001b[0;34m\u001b[0m\u001b[0;34m\u001b[0m\u001b[0m\n",
            "\u001b[0;32m<ipython-input-12-5e5ee0ea87df>\u001b[0m in \u001b[0;36mforward_back_prop\u001b[0;34m(rnn, optimizer, criterion, inp, target, hidden)\u001b[0m\n\u001b[1;32m     23\u001b[0m     \u001b[0mloss\u001b[0m\u001b[0;34m=\u001b[0m\u001b[0mcriterion\u001b[0m\u001b[0;34m(\u001b[0m\u001b[0moutput\u001b[0m\u001b[0;34m.\u001b[0m\u001b[0msqueeze\u001b[0m\u001b[0;34m(\u001b[0m\u001b[0;34m)\u001b[0m\u001b[0;34m,\u001b[0m\u001b[0mtarget\u001b[0m\u001b[0;34m)\u001b[0m\u001b[0;34m\u001b[0m\u001b[0;34m\u001b[0m\u001b[0m\n\u001b[1;32m     24\u001b[0m \u001b[0;34m\u001b[0m\u001b[0m\n\u001b[0;32m---> 25\u001b[0;31m     \u001b[0mloss\u001b[0m\u001b[0;34m.\u001b[0m\u001b[0mbackward\u001b[0m\u001b[0;34m(\u001b[0m\u001b[0;34m)\u001b[0m\u001b[0;34m\u001b[0m\u001b[0;34m\u001b[0m\u001b[0m\n\u001b[0m\u001b[1;32m     26\u001b[0m     \u001b[0mnn\u001b[0m\u001b[0;34m.\u001b[0m\u001b[0mutils\u001b[0m\u001b[0;34m.\u001b[0m\u001b[0mclip_grad_norm_\u001b[0m\u001b[0;34m(\u001b[0m\u001b[0mrnn\u001b[0m\u001b[0;34m.\u001b[0m\u001b[0mparameters\u001b[0m\u001b[0;34m(\u001b[0m\u001b[0;34m)\u001b[0m\u001b[0;34m,\u001b[0m \u001b[0;36m5\u001b[0m\u001b[0;34m)\u001b[0m\u001b[0;34m\u001b[0m\u001b[0;34m\u001b[0m\u001b[0m\n\u001b[1;32m     27\u001b[0m     \u001b[0moptimizer\u001b[0m\u001b[0;34m.\u001b[0m\u001b[0mstep\u001b[0m\u001b[0;34m(\u001b[0m\u001b[0;34m)\u001b[0m\u001b[0;34m\u001b[0m\u001b[0;34m\u001b[0m\u001b[0m\n",
            "\u001b[0;32m/usr/local/lib/python3.6/dist-packages/torch/tensor.py\u001b[0m in \u001b[0;36mbackward\u001b[0;34m(self, gradient, retain_graph, create_graph)\u001b[0m\n\u001b[1;32m    100\u001b[0m                 \u001b[0mproducts\u001b[0m\u001b[0;34m.\u001b[0m \u001b[0mDefaults\u001b[0m \u001b[0mto\u001b[0m\u001b[0;31m \u001b[0m\u001b[0;31m`\u001b[0m\u001b[0;31m`\u001b[0m\u001b[0;32mFalse\u001b[0m\u001b[0;31m`\u001b[0m\u001b[0;31m`\u001b[0m\u001b[0;34m.\u001b[0m\u001b[0;34m\u001b[0m\u001b[0;34m\u001b[0m\u001b[0m\n\u001b[1;32m    101\u001b[0m         \"\"\"\n\u001b[0;32m--> 102\u001b[0;31m         \u001b[0mtorch\u001b[0m\u001b[0;34m.\u001b[0m\u001b[0mautograd\u001b[0m\u001b[0;34m.\u001b[0m\u001b[0mbackward\u001b[0m\u001b[0;34m(\u001b[0m\u001b[0mself\u001b[0m\u001b[0;34m,\u001b[0m \u001b[0mgradient\u001b[0m\u001b[0;34m,\u001b[0m \u001b[0mretain_graph\u001b[0m\u001b[0;34m,\u001b[0m \u001b[0mcreate_graph\u001b[0m\u001b[0;34m)\u001b[0m\u001b[0;34m\u001b[0m\u001b[0;34m\u001b[0m\u001b[0m\n\u001b[0m\u001b[1;32m    103\u001b[0m \u001b[0;34m\u001b[0m\u001b[0m\n\u001b[1;32m    104\u001b[0m     \u001b[0;32mdef\u001b[0m \u001b[0mregister_hook\u001b[0m\u001b[0;34m(\u001b[0m\u001b[0mself\u001b[0m\u001b[0;34m,\u001b[0m \u001b[0mhook\u001b[0m\u001b[0;34m)\u001b[0m\u001b[0;34m:\u001b[0m\u001b[0;34m\u001b[0m\u001b[0;34m\u001b[0m\u001b[0m\n",
            "\u001b[0;32m/usr/local/lib/python3.6/dist-packages/torch/autograd/__init__.py\u001b[0m in \u001b[0;36mbackward\u001b[0;34m(tensors, grad_tensors, retain_graph, create_graph, grad_variables)\u001b[0m\n\u001b[1;32m     88\u001b[0m     Variable._execution_engine.run_backward(\n\u001b[1;32m     89\u001b[0m         \u001b[0mtensors\u001b[0m\u001b[0;34m,\u001b[0m \u001b[0mgrad_tensors\u001b[0m\u001b[0;34m,\u001b[0m \u001b[0mretain_graph\u001b[0m\u001b[0;34m,\u001b[0m \u001b[0mcreate_graph\u001b[0m\u001b[0;34m,\u001b[0m\u001b[0;34m\u001b[0m\u001b[0;34m\u001b[0m\u001b[0m\n\u001b[0;32m---> 90\u001b[0;31m         allow_unreachable=True)  # allow_unreachable flag\n\u001b[0m\u001b[1;32m     91\u001b[0m \u001b[0;34m\u001b[0m\u001b[0m\n\u001b[1;32m     92\u001b[0m \u001b[0;34m\u001b[0m\u001b[0m\n",
            "\u001b[0;31mKeyboardInterrupt\u001b[0m: "
          ]
        }
      ]
    },
    {
      "metadata": {
        "id": "YgyuqLr1gsFa",
        "colab_type": "code",
        "colab": {}
      },
      "cell_type": "code",
      "source": [
        ""
      ],
      "execution_count": 0,
      "outputs": []
    },
    {
      "metadata": {
        "id": "THShtmmsGEpr",
        "colab_type": "code",
        "colab": {}
      },
      "cell_type": "code",
      "source": [
        ""
      ],
      "execution_count": 0,
      "outputs": []
    },
    {
      "metadata": {
        "id": "_-uX2ydgUckq",
        "colab_type": "text"
      },
      "cell_type": "markdown",
      "source": [
        "### Question: How did you decide on your model hyperparameters? \n",
        "For example, did you try different sequence_lengths and find that one size made the model converge faster? What about your hidden_dim and n_layers; how did you decide on those?"
      ]
    },
    {
      "metadata": {
        "id": "dSbkw9FcUckr",
        "colab_type": "text"
      },
      "cell_type": "markdown",
      "source": [
        "**Answer:**  There are 2 types of hyperparameters for the network:\n",
        "1. For defining the model  \n",
        "2. For training the model\n",
        "\n",
        "**In defining the model**, I had to decide on number of hidden layers and number of LSTM layers.\n",
        "I have set the following values for:\n",
        "\n",
        "**Hidden_dim = 1024 **;  hidden dimension was chosen according to the size of data and the number of parameters in my model. Since the size of the Seinfields.txt is approximately between 3-4 Mb, I have chosen hidden layers to be moderate\n",
        "\n",
        "**n_layers = 2** ; it is mostly kept between 2-3 \n",
        "\n",
        "**During training**, following hyperparameters were chosen.\n",
        "\n",
        "1.** Batch_size = 128** ; It is the number of sequences running through the network in one pass. That means in one batch we will have 128 number of rows and 128 target values for each sequence. \n",
        "\n",
        "2. **Sequence Length = 16 **;  it is the number of characters in one sequence of a batch. \n",
        " Larger is better typically, the network will learn more long range dependencies and understand the context of the input. Also the generated script will become better both literally and gramatticaly. \n",
        " But if it is too high, the model will fail to backpropagate the error and also it takes longer to train. \n",
        " \n",
        " So after experimenting on different sequence lengths, I have seen that a sequence length between 12-16 works best for me. \n",
        "\n",
        "3.** Learning rate = 0.0005**\n",
        "\n"
      ]
    },
    {
      "metadata": {
        "id": "lOofLWv_Ucks",
        "colab_type": "text"
      },
      "cell_type": "markdown",
      "source": [
        "---\n",
        "# Checkpoint\n",
        "\n",
        "After running the above training cell, your model will be saved by name, `trained_rnn`, and if you save your notebook progress, **you can pause here and come back to this code at another time**. You can resume your progress by running the next cell, which will load in our word:id dictionaries _and_ load in your saved model by name!"
      ]
    },
    {
      "metadata": {
        "id": "mieE1M3zUcks",
        "colab_type": "code",
        "colab": {
          "base_uri": "https://localhost:8080/",
          "height": 176
        },
        "outputId": "3c0c46d7-5889-4186-943c-1e3e3aa43ced"
      },
      "cell_type": "code",
      "source": [
        "\"\"\"\n",
        "DON'T MODIFY ANYTHING IN THIS CELL\n",
        "\"\"\"\n",
        "import torch\n",
        "import helper\n",
        "import problem_unittests as tests\n",
        "\n",
        "_, vocab_to_int, int_to_vocab, token_dict = helper.load_preprocess()\n",
        "trained_rnn = load_model('./save/trained_rnn')"
      ],
      "execution_count": 9,
      "outputs": [
        {
          "output_type": "stream",
          "text": [
            "/usr/local/lib/python3.6/dist-packages/torch/serialization.py:435: SourceChangeWarning: source code of class 'torch.nn.modules.sparse.Embedding' has changed. you can retrieve the original source code by accessing the object's source attribute or set `torch.nn.Module.dump_patches = True` and use the patch tool to revert the changes.\n",
            "  warnings.warn(msg, SourceChangeWarning)\n",
            "/usr/local/lib/python3.6/dist-packages/torch/serialization.py:435: SourceChangeWarning: source code of class 'torch.nn.modules.rnn.LSTM' has changed. you can retrieve the original source code by accessing the object's source attribute or set `torch.nn.Module.dump_patches = True` and use the patch tool to revert the changes.\n",
            "  warnings.warn(msg, SourceChangeWarning)\n",
            "/usr/local/lib/python3.6/dist-packages/torch/serialization.py:435: SourceChangeWarning: source code of class 'torch.nn.modules.dropout.Dropout' has changed. you can retrieve the original source code by accessing the object's source attribute or set `torch.nn.Module.dump_patches = True` and use the patch tool to revert the changes.\n",
            "  warnings.warn(msg, SourceChangeWarning)\n",
            "/usr/local/lib/python3.6/dist-packages/torch/serialization.py:435: SourceChangeWarning: source code of class 'torch.nn.modules.linear.Linear' has changed. you can retrieve the original source code by accessing the object's source attribute or set `torch.nn.Module.dump_patches = True` and use the patch tool to revert the changes.\n",
            "  warnings.warn(msg, SourceChangeWarning)\n"
          ],
          "name": "stderr"
        }
      ]
    },
    {
      "metadata": {
        "id": "OYd3zo-TUcku",
        "colab_type": "text"
      },
      "cell_type": "markdown",
      "source": [
        "## Generate TV Script\n",
        "With the network trained and saved, you'll use it to generate a new, \"fake\" Seinfeld TV script in this section.\n",
        "\n",
        "### Generate Text\n",
        "To generate the text, the network needs to start with a single word and repeat its predictions until it reaches a set length. You'll be using the `generate` function to do this. It takes a word id to start with, `prime_id`, and generates a set length of text, `predict_len`. Also note that it uses topk sampling to introduce some randomness in choosing the most likely next word, given an output set of word scores!"
      ]
    },
    {
      "metadata": {
        "id": "luyqoS8_Uckv",
        "colab_type": "code",
        "colab": {}
      },
      "cell_type": "code",
      "source": [
        "\"\"\"\n",
        "DON'T MODIFY ANYTHING IN THIS CELL THAT IS BELOW THIS LINE\n",
        "\"\"\"\n",
        "import torch.nn.functional as F\n",
        "\n",
        "def generate(rnn, prime_id, int_to_vocab, token_dict, pad_value, predict_len=100):\n",
        "    \"\"\"\n",
        "    Generate text using the neural network\n",
        "    :param decoder: The PyTorch Module that holds the trained neural network\n",
        "    :param prime_id: The word id to start the first prediction\n",
        "    :param int_to_vocab: Dict of word id keys to word values\n",
        "    :param token_dict: Dict of puncuation tokens keys to puncuation values\n",
        "    :param pad_value: The value used to pad a sequence\n",
        "    :param predict_len: The length of text to generate\n",
        "    :return: The generated text\n",
        "    \"\"\"\n",
        "    rnn.eval()\n",
        "    \n",
        "    # create a sequence (batch_size=1) with the prime_id\n",
        "    current_seq = np.full((1, sequence_length), pad_value)\n",
        "    current_seq[-1][-1] = prime_id\n",
        "    predicted = [int_to_vocab[prime_id]]\n",
        "    \n",
        "    for _ in range(predict_len):\n",
        "        if train_on_gpu:\n",
        "            current_seq = torch.LongTensor(current_seq).cuda()\n",
        "            \n",
        "        else:\n",
        "            current_seq = torch.LongTensor(current_seq)\n",
        "        \n",
        "        # initialize the hidden state\n",
        "        hidden = rnn.init_hidden(current_seq.size(0))\n",
        "        \n",
        "        \n",
        "        \n",
        "        # get the output of the rnn\n",
        "        output, _ = rnn(current_seq, hidden)\n",
        "        \n",
        "        # get the next word probabilities\n",
        "        p = F.softmax(output, dim=1).data\n",
        "        if(train_on_gpu):\n",
        "            p = p.cpu() # move to cpu\n",
        "         \n",
        "        # use top_k sampling to get the index of the next word\n",
        "        top_k = 5\n",
        "        p, top_i = p.topk(top_k)\n",
        "        top_i = top_i.numpy().squeeze()\n",
        "        \n",
        "        # select the likely next word index with some element of randomness\n",
        "        p = p.numpy().squeeze()\n",
        "        word_i = np.random.choice(top_i, p=p/p.sum())\n",
        "        \n",
        "        # retrieve that word from the dictionary\n",
        "        word = int_to_vocab[word_i]\n",
        "        predicted.append(word)     \n",
        "        \n",
        "        # the generated word becomes the next \"current sequence\" and the cycle can continue\n",
        "        current_seq=current_seq.cpu()\n",
        "        current_seq = np.roll(current_seq, -1, 1)\n",
        "        current_seq[-1][-1] = word_i\n",
        "    \n",
        "    gen_sentences = ' '.join(predicted)\n",
        "    \n",
        "    # Replace punctuation tokens\n",
        "    for key, token in token_dict.items():\n",
        "        ending = ' ' if key in ['\\n', '(', '\"'] else ''\n",
        "        gen_sentences = gen_sentences.replace(' ' + token.lower(), key)\n",
        "    gen_sentences = gen_sentences.replace('\\n ', '\\n')\n",
        "    gen_sentences = gen_sentences.replace('( ', '(')\n",
        "    \n",
        "    # return all the sentences\n",
        "    return gen_sentences"
      ],
      "execution_count": 0,
      "outputs": []
    },
    {
      "metadata": {
        "id": "Y-jYnULPUckx",
        "colab_type": "text"
      },
      "cell_type": "markdown",
      "source": [
        "### Generate a New Script\n",
        "It's time to generate the text. Set `gen_length` to the length of TV script you want to generate and set `prime_word` to one of the following to start the prediction:\n",
        "- \"jerry\"\n",
        "- \"elaine\"\n",
        "- \"george\"\n",
        "- \"kramer\"\n",
        "\n",
        "You can set the prime word to _any word_ in our dictionary, but it's best to start with a name for generating a TV script. (You can also start with any other names you find in the original text file!)"
      ]
    },
    {
      "metadata": {
        "id": "ZSWhOIe4Ucky",
        "colab_type": "code",
        "colab": {
          "base_uri": "https://localhost:8080/",
          "height": 299
        },
        "outputId": "6edd142d-8474-4701-a54a-72d60fbf99bd"
      },
      "cell_type": "code",
      "source": [
        "torch.backends.cudnn.enabled=False\n",
        "torch.cuda.synchronize()"
      ],
      "execution_count": 14,
      "outputs": [
        {
          "output_type": "error",
          "ename": "RuntimeError",
          "evalue": "ignored",
          "traceback": [
            "\u001b[0;31m---------------------------------------------------------------------------\u001b[0m",
            "\u001b[0;31mRuntimeError\u001b[0m                              Traceback (most recent call last)",
            "\u001b[0;32m<ipython-input-14-529fd0fed4f9>\u001b[0m in \u001b[0;36m<module>\u001b[0;34m()\u001b[0m\n\u001b[1;32m      1\u001b[0m \u001b[0mtorch\u001b[0m\u001b[0;34m.\u001b[0m\u001b[0mbackends\u001b[0m\u001b[0;34m.\u001b[0m\u001b[0mcudnn\u001b[0m\u001b[0;34m.\u001b[0m\u001b[0menabled\u001b[0m\u001b[0;34m=\u001b[0m\u001b[0;32mFalse\u001b[0m\u001b[0;34m\u001b[0m\u001b[0;34m\u001b[0m\u001b[0m\n\u001b[0;32m----> 2\u001b[0;31m \u001b[0mtorch\u001b[0m\u001b[0;34m.\u001b[0m\u001b[0mcuda\u001b[0m\u001b[0;34m.\u001b[0m\u001b[0msynchronize\u001b[0m\u001b[0;34m(\u001b[0m\u001b[0;34m)\u001b[0m\u001b[0;34m\u001b[0m\u001b[0;34m\u001b[0m\u001b[0m\n\u001b[0m",
            "\u001b[0;32m/usr/local/lib/python3.6/dist-packages/torch/cuda/__init__.py\u001b[0m in \u001b[0;36msynchronize\u001b[0;34m()\u001b[0m\n\u001b[1;32m    346\u001b[0m     \u001b[0;34mr\"\"\"Waits for all kernels in all streams on current device to complete.\"\"\"\u001b[0m\u001b[0;34m\u001b[0m\u001b[0;34m\u001b[0m\u001b[0m\n\u001b[1;32m    347\u001b[0m     \u001b[0m_lazy_init\u001b[0m\u001b[0;34m(\u001b[0m\u001b[0;34m)\u001b[0m\u001b[0;34m\u001b[0m\u001b[0;34m\u001b[0m\u001b[0m\n\u001b[0;32m--> 348\u001b[0;31m     \u001b[0;32mreturn\u001b[0m \u001b[0mtorch\u001b[0m\u001b[0;34m.\u001b[0m\u001b[0m_C\u001b[0m\u001b[0;34m.\u001b[0m\u001b[0m_cuda_synchronize\u001b[0m\u001b[0;34m(\u001b[0m\u001b[0;34m)\u001b[0m\u001b[0;34m\u001b[0m\u001b[0;34m\u001b[0m\u001b[0m\n\u001b[0m\u001b[1;32m    349\u001b[0m \u001b[0;34m\u001b[0m\u001b[0m\n\u001b[1;32m    350\u001b[0m \u001b[0;34m\u001b[0m\u001b[0m\n",
            "\u001b[0;31mRuntimeError\u001b[0m: cuda runtime error (59) : device-side assert triggered at /pytorch/torch/csrc/cuda/Module.cpp:195"
          ]
        }
      ]
    },
    {
      "metadata": {
        "id": "csN0r0ogUck1",
        "colab_type": "code",
        "outputId": "3719ae19-b821-4faa-ae4d-95ecf793b1ae",
        "colab": {
          "base_uri": "https://localhost:8080/",
          "height": 356
        }
      },
      "cell_type": "code",
      "source": [
        "import numpy as np\n",
        "# run the cell multiple times to get different results!\n",
        "gen_length = 7500 # modify the length to your preference\n",
        "prime_word = 'jerry' # name for starting the script\n",
        "\n",
        "\"\"\"\n",
        "DON'T MODIFY ANYTHING IN THIS CELL THAT IS BELOW THIS LINE\n",
        "\"\"\"\n",
        "pad_word = helper.SPECIAL_WORDS['PADDING']\n",
        "generated_script = generate(trained_rnn, vocab_to_int[prime_word + ':'], int_to_vocab, token_dict, vocab_to_int[pad_word], gen_length)\n",
        "print(generated_script)"
      ],
      "execution_count": 15,
      "outputs": [
        {
          "output_type": "error",
          "ename": "RuntimeError",
          "evalue": "ignored",
          "traceback": [
            "\u001b[0;31m---------------------------------------------------------------------------\u001b[0m",
            "\u001b[0;31mRuntimeError\u001b[0m                              Traceback (most recent call last)",
            "\u001b[0;32m<ipython-input-15-f8aca9c83d7d>\u001b[0m in \u001b[0;36m<module>\u001b[0;34m()\u001b[0m\n\u001b[1;32m      8\u001b[0m \"\"\"\n\u001b[1;32m      9\u001b[0m \u001b[0mpad_word\u001b[0m \u001b[0;34m=\u001b[0m \u001b[0mhelper\u001b[0m\u001b[0;34m.\u001b[0m\u001b[0mSPECIAL_WORDS\u001b[0m\u001b[0;34m[\u001b[0m\u001b[0;34m'PADDING'\u001b[0m\u001b[0;34m]\u001b[0m\u001b[0;34m\u001b[0m\u001b[0;34m\u001b[0m\u001b[0m\n\u001b[0;32m---> 10\u001b[0;31m \u001b[0mgenerated_script\u001b[0m \u001b[0;34m=\u001b[0m \u001b[0mgenerate\u001b[0m\u001b[0;34m(\u001b[0m\u001b[0mtrained_rnn\u001b[0m\u001b[0;34m,\u001b[0m \u001b[0mvocab_to_int\u001b[0m\u001b[0;34m[\u001b[0m\u001b[0mprime_word\u001b[0m \u001b[0;34m+\u001b[0m \u001b[0;34m':'\u001b[0m\u001b[0;34m]\u001b[0m\u001b[0;34m,\u001b[0m \u001b[0mint_to_vocab\u001b[0m\u001b[0;34m,\u001b[0m \u001b[0mtoken_dict\u001b[0m\u001b[0;34m,\u001b[0m \u001b[0mvocab_to_int\u001b[0m\u001b[0;34m[\u001b[0m\u001b[0mpad_word\u001b[0m\u001b[0;34m]\u001b[0m\u001b[0;34m,\u001b[0m \u001b[0mgen_length\u001b[0m\u001b[0;34m)\u001b[0m\u001b[0;34m\u001b[0m\u001b[0;34m\u001b[0m\u001b[0m\n\u001b[0m\u001b[1;32m     11\u001b[0m \u001b[0mprint\u001b[0m\u001b[0;34m(\u001b[0m\u001b[0mgenerated_script\u001b[0m\u001b[0;34m)\u001b[0m\u001b[0;34m\u001b[0m\u001b[0;34m\u001b[0m\u001b[0m\n",
            "\u001b[0;32m<ipython-input-10-950c67a73363>\u001b[0m in \u001b[0;36mgenerate\u001b[0;34m(rnn, prime_id, int_to_vocab, token_dict, pad_value, predict_len)\u001b[0m\n\u001b[1;32m     24\u001b[0m     \u001b[0;32mfor\u001b[0m \u001b[0m_\u001b[0m \u001b[0;32min\u001b[0m \u001b[0mrange\u001b[0m\u001b[0;34m(\u001b[0m\u001b[0mpredict_len\u001b[0m\u001b[0;34m)\u001b[0m\u001b[0;34m:\u001b[0m\u001b[0;34m\u001b[0m\u001b[0;34m\u001b[0m\u001b[0m\n\u001b[1;32m     25\u001b[0m         \u001b[0;32mif\u001b[0m \u001b[0mtrain_on_gpu\u001b[0m\u001b[0;34m:\u001b[0m\u001b[0;34m\u001b[0m\u001b[0;34m\u001b[0m\u001b[0m\n\u001b[0;32m---> 26\u001b[0;31m             \u001b[0mcurrent_seq\u001b[0m \u001b[0;34m=\u001b[0m \u001b[0mtorch\u001b[0m\u001b[0;34m.\u001b[0m\u001b[0mLongTensor\u001b[0m\u001b[0;34m(\u001b[0m\u001b[0mcurrent_seq\u001b[0m\u001b[0;34m)\u001b[0m\u001b[0;34m.\u001b[0m\u001b[0mcuda\u001b[0m\u001b[0;34m(\u001b[0m\u001b[0;34m)\u001b[0m\u001b[0;34m\u001b[0m\u001b[0;34m\u001b[0m\u001b[0m\n\u001b[0m\u001b[1;32m     27\u001b[0m \u001b[0;34m\u001b[0m\u001b[0m\n\u001b[1;32m     28\u001b[0m         \u001b[0;32melse\u001b[0m\u001b[0;34m:\u001b[0m\u001b[0;34m\u001b[0m\u001b[0;34m\u001b[0m\u001b[0m\n",
            "\u001b[0;31mRuntimeError\u001b[0m: CUDA error: device-side assert triggered"
          ]
        }
      ]
    },
    {
      "metadata": {
        "id": "SIMP0tWYUck4",
        "colab_type": "text"
      },
      "cell_type": "markdown",
      "source": [
        "#### Save your favorite scripts\n",
        "\n",
        "Once you have a script that you like (or find interesting), save it to a text file!"
      ]
    },
    {
      "metadata": {
        "id": "8TGiC3IxUck5",
        "colab_type": "code",
        "colab": {}
      },
      "cell_type": "code",
      "source": [
        "# save script to a text file\n",
        "f =  open(\"generated_script_2.txt\",\"w\")\n",
        "f.write(generated_script)\n",
        "f.close()"
      ],
      "execution_count": 0,
      "outputs": []
    },
    {
      "metadata": {
        "id": "IzYFeKOaUck7",
        "colab_type": "text"
      },
      "cell_type": "markdown",
      "source": [
        "# The TV Script is Not Perfect\n",
        "It's ok if the TV script doesn't make perfect sense. It should look like alternating lines of dialogue, here is one such example of a few generated lines.\n",
        "\n",
        "### Example generated script\n",
        "\n",
        ">jerry: what about me?\n",
        ">\n",
        ">jerry: i don't have to wait.\n",
        ">\n",
        ">kramer:(to the sales table)\n",
        ">\n",
        ">elaine:(to jerry) hey, look at this, i'm a good doctor.\n",
        ">\n",
        ">newman:(to elaine) you think i have no idea of this...\n",
        ">\n",
        ">elaine: oh, you better take the phone, and he was a little nervous.\n",
        ">\n",
        ">kramer:(to the phone) hey, hey, jerry, i don't want to be a little bit.(to kramer and jerry) you can't.\n",
        ">\n",
        ">jerry: oh, yeah. i don't even know, i know.\n",
        ">\n",
        ">jerry:(to the phone) oh, i know.\n",
        ">\n",
        ">kramer:(laughing) you know...(to jerry) you don't know.\n",
        "\n",
        "You can see that there are multiple characters that say (somewhat) complete sentences, but it doesn't have to be perfect! It takes quite a while to get good results, and often, you'll have to use a smaller vocabulary (and discard uncommon words), or get more data.  The Seinfeld dataset is about 3.4 MB, which is big enough for our purposes; for script generation you'll want more than 1 MB of text, generally. \n",
        "\n",
        "# Submitting This Project\n",
        "When submitting this project, make sure to run all the cells before saving the notebook. Save the notebook file as \"dlnd_tv_script_generation.ipynb\" and save another copy as an HTML file by clicking \"File\" -> \"Download as..\"->\"html\". Include the \"helper.py\" and \"problem_unittests.py\" files in your submission. Once you download these files, compress them into one zip file for submission."
      ]
    },
    {
      "metadata": {
        "id": "VSAQ8EwwUck8",
        "colab_type": "code",
        "colab": {}
      },
      "cell_type": "code",
      "source": [
        ""
      ],
      "execution_count": 0,
      "outputs": []
    }
  ]
}